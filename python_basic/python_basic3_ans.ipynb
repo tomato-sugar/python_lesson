{
  "nbformat": 4,
  "nbformat_minor": 0,
  "metadata": {
    "colab": {
      "name": "python_basic3_ans.ipynb",
      "provenance": [],
      "toc_visible": true,
      "include_colab_link": true
    },
    "kernelspec": {
      "name": "python3",
      "display_name": "Python 3"
    },
    "language_info": {
      "name": "python"
    }
  },
  "cells": [
    {
      "cell_type": "markdown",
      "metadata": {
        "id": "view-in-github",
        "colab_type": "text"
      },
      "source": [
        "<a href=\"https://colab.research.google.com/github/tomato-sugar/python_lesson/blob/main/python_basic/python_basic3_ans.ipynb\" target=\"_parent\"><img src=\"https://colab.research.google.com/assets/colab-badge.svg\" alt=\"Open In Colab\"/></a>"
      ]
    },
    {
      "cell_type": "markdown",
      "source": [
        "#2022年 東北TECH道場 郡山道場 第7期"
      ],
      "metadata": {
        "id": "bYZhUe3v9fFK"
      }
    },
    {
      "cell_type": "markdown",
      "metadata": {
        "id": "KFrOokfeuRpC"
      },
      "source": [
        "# Pythonの基礎（３）・・・練習問題解答例"
      ]
    },
    {
      "cell_type": "markdown",
      "metadata": {
        "id": "bYmWp_dtvMaB"
      },
      "source": [
        "##《制御文》\n",
        "Pythonには、以下の制御文が用意されている。\n",
        "* 選択文：if文（pythonにswitch文はない）\n",
        "* 繰り返し文：while文、for文（pythonにdo～while文はない）\n",
        "* その他の文：break文、continue文\n"
      ]
    },
    {
      "cell_type": "markdown",
      "metadata": {
        "id": "t8mMMLJcSaiw"
      },
      "source": [
        "###【if文】\n",
        "- 二者択一を行う\n",
        "- 条件判定には「関係演算子（==　!=　<　>　<=　>=）」や「論理演算子（and　or　not）」を使用する。  \n",
        "  ※「Pythonの基礎（１）」で説明済み。\n",
        "- {と}でブロック化することはなく、「:」と字下げで制御を記述する。\n",
        "- 字下げ文字は一般的に「4文字」。それ以外でも大丈夫だが、混在は厳禁。  \n",
        "  **※ Google Colaboratoryの「設定」（右上の歯車マーク）で「編集者」（あるいは「エディタ」）タブで「インデント幅」を「4」にしておくこと。**\n",
        "\n",
        "```python\n",
        "if 条件式1:　　←　()は付けない、:を忘れないこと\n",
        "　　文1　　　　←　インデントは必須、通常は半角スペース4文字  \n",
        "elif 条件式2:　←　「else if」ではなく「elif」\n",
        "　　文2\n",
        "else:\n",
        "　　文3\n",
        "```\n",
        "\n"
      ]
    },
    {
      "cell_type": "markdown",
      "source": [
        "####関係演算子\n",
        "- ==　!=　<　>　<=　>="
      ],
      "metadata": {
        "id": "nVUPU1hWXg9t"
      }
    },
    {
      "cell_type": "code",
      "source": [
        "#60点以上は合格\n",
        "ten = int(input('点数＞'))\n",
        "if ten >= 60:\n",
        "    print('合格')\n",
        "else:\n",
        "    print('不合格')"
      ],
      "metadata": {
        "id": "qN1vOYtTjPi8",
        "colab": {
          "base_uri": "https://localhost:8080/"
        },
        "outputId": "8242b731-a717-4574-de75-5650f9011281"
      },
      "execution_count": 1,
      "outputs": [
        {
          "output_type": "stream",
          "name": "stdout",
          "text": [
            "点数＞80\n",
            "合格\n"
          ]
        }
      ]
    },
    {
      "cell_type": "code",
      "source": [
        "\"\"\"\n",
        "【練習問題１】\n",
        "コメントを参考に制御文を記述してprint関数で内容を表示してみましょう。\n",
        "\n",
        "【実行結果例１】\n",
        "点数＞50\n",
        "不合格\n",
        "\n",
        "【実行結果例２】\n",
        "点数＞60\n",
        "合格\n",
        "\"\"\"\n",
        "#点数を入力し、60点未満なら「不合格」それ以外なら「合格」と表示する\n",
        "#60点以上は合格\n",
        "ten = int(input('点数＞'))\n",
        "if ten < 60:\n",
        "    print('不合格')\n",
        "else:\n",
        "    print('合格')"
      ],
      "metadata": {
        "id": "6r1ilXOWUBFZ",
        "colab": {
          "base_uri": "https://localhost:8080/"
        },
        "outputId": "890b00b5-b115-46c6-8f12-5e3fe8206c1c"
      },
      "execution_count": 2,
      "outputs": [
        {
          "output_type": "stream",
          "name": "stdout",
          "text": [
            "点数＞60\n",
            "合格\n"
          ]
        }
      ]
    },
    {
      "cell_type": "code",
      "source": [
        "\"\"\"\n",
        "【練習問題２】\n",
        "コメントを参考に制御文を記述してprint関数で内容を表示してみましょう。\n",
        "\n",
        "【実行結果例】\n",
        "点数＞100\n",
        "満点\n",
        "\"\"\"\n",
        "#点数を入力し、100なら「満点」と表示する\n",
        "ten = int(input('点数＞'))\n",
        "if ten == 100:\n",
        "    print('満点')"
      ],
      "metadata": {
        "id": "uzP-nM7Rj2SM",
        "colab": {
          "base_uri": "https://localhost:8080/"
        },
        "outputId": "d09ce763-8e5b-4692-8c09-09aa4ddddd1f"
      },
      "execution_count": 3,
      "outputs": [
        {
          "output_type": "stream",
          "name": "stdout",
          "text": [
            "点数＞100\n",
            "満点\n"
          ]
        }
      ]
    },
    {
      "cell_type": "markdown",
      "metadata": {
        "id": "S3mX6UUNYKxe"
      },
      "source": [
        "####論理演算子\n",
        "- and : かつ\n",
        "- or : または\n",
        "- not : 否定（条件がTrueならFalse、FalseならTrue）"
      ]
    },
    {
      "cell_type": "code",
      "source": [
        "#論理和演算子の例\n",
        "animal = input('ペット＞')\n",
        "if animal == '猫' or animal == '犬':\n",
        "    print('ペットは猫か犬です')\n",
        "else:\n",
        "    print('ペットは猫でも犬でもありません')"
      ],
      "metadata": {
        "id": "vlWBPKzOX0dk",
        "colab": {
          "base_uri": "https://localhost:8080/"
        },
        "outputId": "19ca3a97-d33d-4131-b285-7d9e75913a61"
      },
      "execution_count": 4,
      "outputs": [
        {
          "output_type": "stream",
          "name": "stdout",
          "text": [
            "ペット＞猫\n",
            "ペットは猫か犬です\n"
          ]
        }
      ]
    },
    {
      "cell_type": "code",
      "source": [
        "#論理否定演算子の例\n",
        "animal = input('ペット＞')\n",
        "if not (animal == '猫' or animal == '犬'):\n",
        "    print('ペットは猫でも犬でもありません')\n",
        "else:\n",
        "    print('ペットは猫か犬です')"
      ],
      "metadata": {
        "id": "yUSbj_GlX5OV",
        "colab": {
          "base_uri": "https://localhost:8080/"
        },
        "outputId": "342f9cef-4ac6-49f6-b53e-ca9915f2ebb6"
      },
      "execution_count": 5,
      "outputs": [
        {
          "output_type": "stream",
          "name": "stdout",
          "text": [
            "ペット＞うさぎ\n",
            "ペットは猫でも犬でもありません\n"
          ]
        }
      ]
    },
    {
      "cell_type": "code",
      "source": [
        "\"\"\"\n",
        "【練習問題３】\n",
        "コメントを参考に制御文を記述してprint関数で内容を表示してみましょう。\n",
        "\n",
        "【実行結果例１】\n",
        "点数＞-1\n",
        "点数の入力エラー\n",
        "\n",
        "【実行結果例２】\n",
        "点数＞101\n",
        "点数の入力エラー\n",
        "\n",
        "【実行結果例３】\n",
        "点数＞99\n",
        "点数は正常です\n",
        "\"\"\"\n",
        "#点数を入力し、入力エラーを判定する\n",
        "ten = int(input('点数＞'))\n",
        "if ten < 0 or ten > 100:\n",
        "    print('点数の入力エラー')\n",
        "else:\n",
        "    print('点数は正常です')"
      ],
      "metadata": {
        "id": "ZxAQ2hF2kVuc",
        "colab": {
          "base_uri": "https://localhost:8080/"
        },
        "outputId": "2d591400-35bd-41ee-f12d-2edada7d4b6d"
      },
      "execution_count": 6,
      "outputs": [
        {
          "output_type": "stream",
          "name": "stdout",
          "text": [
            "点数＞-1\n",
            "点数の入力エラー\n"
          ]
        }
      ]
    },
    {
      "cell_type": "markdown",
      "source": [
        "####ifelの使い方\n",
        "- elifを並べることで、さらに多くの分岐を行うことが可能になる"
      ],
      "metadata": {
        "id": "pa0jZyz4a1A6"
      }
    },
    {
      "cell_type": "code",
      "source": [
        "#ifelを使う例\n",
        "ten = int(input('点数＞'))\n",
        "if ten >= 80:\n",
        "    print('A判定')\n",
        "elif ten >= 70:\n",
        "    print('B判定')\n",
        "elif ten >= 60:\n",
        "    print('C判定')\n",
        "else:\n",
        "    print('D判定')"
      ],
      "metadata": {
        "id": "7EBBEMNmlSds",
        "colab": {
          "base_uri": "https://localhost:8080/"
        },
        "outputId": "0bea2676-6664-4349-de67-7c9b600ade3a"
      },
      "execution_count": 7,
      "outputs": [
        {
          "output_type": "stream",
          "name": "stdout",
          "text": [
            "点数＞90\n",
            "A判定\n"
          ]
        }
      ]
    },
    {
      "cell_type": "code",
      "source": [
        "\"\"\"\n",
        "【練習問題４】\n",
        "コメントを参考に制御文を記述してprint関数で内容を表示してみましょう。\n",
        "\n",
        "【実行結果例１】\n",
        "文字＞c\n",
        "cherry\n",
        "\n",
        "【実行結果例２】\n",
        "文字＞x\n",
        "tomato\n",
        "\"\"\"\n",
        "#入力した文字が、'a'なら'apple'、'b'なら'banana'、\n",
        "#'c'なら'cherry'、それ以外なら'tomato'と表示する\n",
        "ch = input('文字＞')\n",
        "if ch == 'a':\n",
        "    print('apple')\n",
        "elif ch == 'b':\n",
        "    print('banana')\n",
        "elif ch == 'c':\n",
        "    print('cherry')\n",
        "else:\n",
        "    print('tomato')"
      ],
      "metadata": {
        "id": "5J4d-2JyclAh",
        "colab": {
          "base_uri": "https://localhost:8080/"
        },
        "outputId": "606ece19-f5b9-4820-b735-8bab98d61f35"
      },
      "execution_count": 8,
      "outputs": [
        {
          "output_type": "stream",
          "name": "stdout",
          "text": [
            "文字＞x\n",
            "tomato\n"
          ]
        }
      ]
    },
    {
      "cell_type": "markdown",
      "source": [
        "####論理演算子を使わない例\n",
        "- pythonでは、論理演算子を使わずに複数の条件を判定可能"
      ],
      "metadata": {
        "id": "9DmNruJKbfBT"
      }
    },
    {
      "cell_type": "code",
      "source": [
        "#論理演算子を使わない例\n",
        "a,b,c = 9,8,7       #一度に代入が可能\n",
        "if a>= b>= c:     #if a >= b and b >= c: と書かなくてOK\n",
        "    print('最大値は', a)"
      ],
      "metadata": {
        "id": "Ta9_rsatmJUj",
        "colab": {
          "base_uri": "https://localhost:8080/"
        },
        "outputId": "7edc4b7d-66da-4f62-ad77-8775851fd7d4"
      },
      "execution_count": 9,
      "outputs": [
        {
          "output_type": "stream",
          "name": "stdout",
          "text": [
            "最大値は 9\n"
          ]
        }
      ]
    },
    {
      "cell_type": "markdown",
      "metadata": {
        "id": "pUy9HUGbcA9j"
      },
      "source": [
        "####if文のネスト\n",
        "- ifの中にifが入る構造\n",
        "- 字下げに注意。字下げがおかしいと予期せぬ結果になる"
      ]
    },
    {
      "cell_type": "code",
      "source": [
        "ritu = int(input('出席率＞'))\n",
        "if ritu >= 80:\n",
        "    ten = int(input('点数＞'))\n",
        "    if ten >= 60:\n",
        "        print('合格')\n",
        "    else:\n",
        "        print('不合格')\n",
        "else:\n",
        "    print('補習')\n"
      ],
      "metadata": {
        "id": "NDbpdh2im3ua",
        "colab": {
          "base_uri": "https://localhost:8080/"
        },
        "outputId": "b1ac5227-b408-47f2-8d79-4658b4ae746b"
      },
      "execution_count": 10,
      "outputs": [
        {
          "output_type": "stream",
          "name": "stdout",
          "text": [
            "出席率＞80\n",
            "点数＞70\n",
            "合格\n"
          ]
        }
      ]
    },
    {
      "cell_type": "code",
      "source": [
        "\"\"\"\n",
        "【練習問題５】\n",
        "コメントを参考に制御文を記述してprint関数で内容を表示してみましょう。\n",
        "\n",
        "【実行結果例１】\n",
        "科目を入力（国語 or 数学）＞国語\n",
        "点数＞80\n",
        "国語の点数は平均点以上\n",
        "\n",
        "【実行結果例２】\n",
        "科目を入力（国語 or 数学）＞数学\n",
        "点数＞50\n",
        "数学の点数は平均点未満\n",
        "\"\"\"\n",
        "#国語の平均点は73点、数学の平均点は61点。\n",
        "#科目と点数を入力して、平均点以上か未満かを判定して表示する\n",
        "kamoku = input('科目を入力（国語 or 数学）＞')\n",
        "ten = int(input('点数＞'))\n",
        "if kamoku == '国語':\n",
        "    if ten > 73:\n",
        "        print('国語の点数は平均点以上')\n",
        "    else:\n",
        "        print('国語の点数は平均点未満')\n",
        "else:\n",
        "    if ten > 61:\n",
        "        print('数学の点数は平均点以上')\n",
        "    else:\n",
        "        print('数学の点数は平均点未満')\n"
      ],
      "metadata": {
        "id": "yQUZ17_ii2ZD",
        "colab": {
          "base_uri": "https://localhost:8080/"
        },
        "outputId": "b7ead87b-1d07-4e2b-c9b3-2661ba4860d4"
      },
      "execution_count": 11,
      "outputs": [
        {
          "output_type": "stream",
          "name": "stdout",
          "text": [
            "科目を入力（国語 or 数学）＞国語\n",
            "点数＞80\n",
            "国語の点数は平均点以上\n"
          ]
        }
      ]
    },
    {
      "cell_type": "markdown",
      "metadata": {
        "id": "fOyJ7j-yfYuM"
      },
      "source": [
        "###【while文】\n",
        "- 条件がTrueのときに繰り返す制御文\n",
        "\n",
        "```python\n",
        "while 条件式:  \n",
        "    条件式がTrueのときに繰り返す文  \n",
        "else：                                   ← なくてもOK  \n",
        "    条件式がFalseのときに実行する文      ← なくてもOK \n",
        "```\n",
        "\n",
        "- 単体でelseを使う意味はあまりない\n",
        "- elseはbreakと組み合わせて使う"
      ]
    },
    {
      "cell_type": "code",
      "source": [
        "#1～10までを表示する\n",
        "a = 1\n",
        "while a <= 10:\n",
        "    print(a, end=' ')    #改行しないでスペース区切り\n",
        "    a += 1              #「a++」は使えない"
      ],
      "metadata": {
        "id": "_GtJETeWoIHB",
        "colab": {
          "base_uri": "https://localhost:8080/"
        },
        "outputId": "1748dbd3-2649-4232-b377-96707f485b7d"
      },
      "execution_count": 12,
      "outputs": [
        {
          "output_type": "stream",
          "name": "stdout",
          "text": [
            "1 2 3 4 5 6 7 8 9 10 "
          ]
        }
      ]
    },
    {
      "cell_type": "code",
      "source": [
        "#10～1までを表示する\n",
        "a = 10\n",
        "while a >= 1:\n",
        "    print(a, end=' ')    #改行しないでスペース区切り\n",
        "    a -= 1               #「a--」は使えない"
      ],
      "metadata": {
        "id": "8E4yCmnK8IHi",
        "colab": {
          "base_uri": "https://localhost:8080/"
        },
        "outputId": "71a5d0e2-1eaa-4ef5-83fd-b789ba348ef5"
      },
      "execution_count": 13,
      "outputs": [
        {
          "output_type": "stream",
          "name": "stdout",
          "text": [
            "10 9 8 7 6 5 4 3 2 1 "
          ]
        }
      ]
    },
    {
      "cell_type": "code",
      "source": [
        "\"\"\"\n",
        "【練習問題６】\n",
        "コメントを参考に制御文を記述してprint関数で内容を表示してみましょう。\n",
        "\n",
        "【実行結果】\n",
        "1 2 3 4 5 6 7 8 9 10 合計: 55\n",
        "\"\"\"\n",
        "#1～10までを合計する\n",
        "sum = 0\n",
        "a = 1\n",
        "while a <= 10:\n",
        "    print(a, end=' ')\n",
        "    sum += a\n",
        "    a += 1 \n",
        "\n",
        "print('合計:', sum)"
      ],
      "metadata": {
        "id": "KXktefOs7b7d",
        "colab": {
          "base_uri": "https://localhost:8080/"
        },
        "outputId": "a848da82-f77b-411a-ac58-f1078c6e1638"
      },
      "execution_count": 14,
      "outputs": [
        {
          "output_type": "stream",
          "name": "stdout",
          "text": [
            "1 2 3 4 5 6 7 8 9 10 合計: 55\n"
          ]
        }
      ]
    },
    {
      "cell_type": "markdown",
      "metadata": {
        "id": "QjowVgxke3MV"
      },
      "source": [
        "####elseを使った例\n",
        "\n",
        "- elseはbreakと組み合わせて使うと効果的\n",
        "```python\n",
        "while 条件式:\n",
        "    文1\n",
        "    if 条件式:\n",
        "        文2\n",
        "        break\n",
        "    文3\n",
        "else:\n",
        "    文4\n",
        "```"
      ]
    },
    {
      "cell_type": "code",
      "source": [
        "#繰り返し処理をbreakで抜けずに終ったときに特定の処理を\n",
        "#実行したい場合にelseを利用する\n",
        "i = 0\n",
        "while i < 3:\n",
        "    a = int(input('値1＞'))\n",
        "    b = int(input('値2＞'))\n",
        "    if b == 0:\n",
        "        print('0で割り算できません')\n",
        "        break\n",
        "    c = a / b\n",
        "    print(c)\n",
        "    i += 1\n",
        "else:\n",
        "    print('3回正常に入力しました')  #breakで抜けなかったときだけ表示\n",
        "print('終了しました')"
      ],
      "metadata": {
        "id": "pgc0apyvpO_x",
        "colab": {
          "base_uri": "https://localhost:8080/"
        },
        "outputId": "dc3c44b6-37d1-4708-81ba-21907261e613"
      },
      "execution_count": 15,
      "outputs": [
        {
          "output_type": "stream",
          "name": "stdout",
          "text": [
            "値1＞1\n",
            "値2＞2\n",
            "0.5\n",
            "値1＞3\n",
            "値2＞4\n",
            "0.75\n",
            "値1＞5\n",
            "値2＞6\n",
            "0.8333333333333334\n",
            "3回正常に入力しました\n",
            "終了しました\n"
          ]
        }
      ]
    },
    {
      "cell_type": "markdown",
      "metadata": {
        "id": "m--OkKjX8kfY"
      },
      "source": [
        "####無限ループ\n",
        "- if文とbreak文で無限ループを抜けるようにする\n",
        "```python\n",
        "while True:　　　　　#無限ループ\n",
        "    文1\n",
        "    if 条件式:\n",
        "        文2\n",
        "        break　　　　#ループを中断して抜ける\n",
        "```"
      ]
    },
    {
      "cell_type": "code",
      "source": [
        "#'end'を入力するまで繰り返し文字列を入力する\n",
        "while True:\n",
        "    s = input('文字列＞')\n",
        "    print(s)\n",
        "    if s == 'end':\n",
        "        print('終了')\n",
        "        break"
      ],
      "metadata": {
        "id": "Pcr6dtTMqD0B",
        "colab": {
          "base_uri": "https://localhost:8080/"
        },
        "outputId": "9a278a63-f452-4997-f0ea-22765bdeb995"
      },
      "execution_count": 16,
      "outputs": [
        {
          "output_type": "stream",
          "name": "stdout",
          "text": [
            "文字列＞aaa\n",
            "aaa\n",
            "文字列＞bbb\n",
            "bbb\n",
            "文字列＞end\n",
            "end\n",
            "終了\n"
          ]
        }
      ]
    },
    {
      "cell_type": "code",
      "source": [
        "\"\"\"\n",
        "【練習問題７】\n",
        "コメントを参考に制御文を記述してprint関数で内容を表示してみましょう。\n",
        "\n",
        "【実行結果例】\n",
        "整数値１ ＞1\n",
        "整数値２ ＞1\n",
        "整数値１ ＞2\n",
        "整数値２ ＞2\n",
        "整数値１ ＞3\n",
        "整数値２ ＞4\n",
        "終了！\n",
        "\"\"\"\n",
        "#等しい値を入力する間、入力を繰り返す\n",
        "while True:\n",
        "    n1 = int(input('整数値１ ＞'))\n",
        "    n2 = int(input('整数値２ ＞'))\n",
        "    if n1 != n2:\n",
        "        print('終了！')\n",
        "        break"
      ],
      "metadata": {
        "id": "Y_QpMrLP8cpJ",
        "colab": {
          "base_uri": "https://localhost:8080/"
        },
        "outputId": "f31ef9ff-a8ef-4930-91e8-30f4ec375027"
      },
      "execution_count": 18,
      "outputs": [
        {
          "output_type": "stream",
          "name": "stdout",
          "text": [
            "整数値１ ＞1\n",
            "整数値２ ＞1\n",
            "整数値１ ＞2\n",
            "整数値２ ＞2\n",
            "整数値１ ＞3\n",
            "整数値２ ＞4\n",
            "終了！\n"
          ]
        }
      ]
    },
    {
      "cell_type": "markdown",
      "metadata": {
        "id": "TYG8VnowFN02"
      },
      "source": [
        "####whileで後判定繰り返し\n",
        "- while文は前判定の繰り返し制御を行う\n",
        "- C言語などにある後判定繰り返しのdo～while文はpythonにはない\n",
        "- 後判定繰り返しはwhile文の無限ループで実現する\n"
      ]
    },
    {
      "cell_type": "code",
      "source": [
        "#負数を入力するまで入力を繰り返す\n",
        "print('負で終了')\n",
        "while True:     #無限ループ\n",
        "    n = int(input('整数値＞'))\n",
        "    print(n)\n",
        "    if n < 0:   #後判定で終了\n",
        "        break"
      ],
      "metadata": {
        "id": "Th4T_SkSqt6y",
        "colab": {
          "base_uri": "https://localhost:8080/"
        },
        "outputId": "91f9a5b1-4d48-4a81-b676-6dacc6d7a58e"
      },
      "execution_count": 19,
      "outputs": [
        {
          "output_type": "stream",
          "name": "stdout",
          "text": [
            "負で終了\n",
            "整数値＞1\n",
            "1\n",
            "整数値＞2\n",
            "2\n",
            "整数値＞3\n",
            "3\n",
            "整数値＞-1\n",
            "-1\n"
          ]
        }
      ]
    },
    {
      "cell_type": "code",
      "source": [
        "\"\"\"\n",
        "【練習問題８】\n",
        "コメントを参考に制御文を記述してprint関数で内容を表示してみましょう。\n",
        "\n",
        "【実行結果例】\n",
        "987 + 6543 ? ＞7430\n",
        "987 + 6543 ? ＞7530\n",
        "正解！\n",
        "\"\"\"\n",
        "#正しい答えを入力するまで計算式を表示する\n",
        "correct = 987 + 6543\n",
        "while True:\n",
        "    ans = int(input('987 + 6543 ? ＞'))\n",
        "    if ans == correct:\n",
        "        print('正解！')\n",
        "        break"
      ],
      "metadata": {
        "id": "IPC4ATQR_bKY",
        "colab": {
          "base_uri": "https://localhost:8080/"
        },
        "outputId": "ca8c391b-8db7-458e-b1e0-a3ba911f59c3"
      },
      "execution_count": 20,
      "outputs": [
        {
          "output_type": "stream",
          "name": "stdout",
          "text": [
            "987 + 6543 ? ＞7430\n",
            "987 + 6543 ? ＞7530\n",
            "正解！\n"
          ]
        }
      ]
    },
    {
      "cell_type": "markdown",
      "metadata": {
        "id": "50vcug003xms"
      },
      "source": [
        "###【for文】\n",
        "- リストやタプルなどのイテラブル（繰り返し可能なオブジェクト）から要素を順番に取り出すときによく使われる\n",
        "\n",
        "```python\n",
        "for 要素 in イテラブル:\n",
        "    処理\n",
        "```\n",
        "\n"
      ]
    },
    {
      "cell_type": "code",
      "source": [
        "#リストの要素を表示\n",
        "color = ['Red', 'Blue', 'White']\n",
        "print(color)    #まとめて表示\n",
        "\n",
        "#１つずつ表示\n",
        "for c in color:     #colorの要素を１つずつcに取り出す\n",
        "    print(c)"
      ],
      "metadata": {
        "id": "Z6OqUJIVrmph",
        "colab": {
          "base_uri": "https://localhost:8080/"
        },
        "outputId": "93a83512-5067-4c77-d8f8-c946d4932703"
      },
      "execution_count": 21,
      "outputs": [
        {
          "output_type": "stream",
          "name": "stdout",
          "text": [
            "['Red', 'Blue', 'White']\n",
            "Red\n",
            "Blue\n",
            "White\n"
          ]
        }
      ]
    },
    {
      "cell_type": "code",
      "source": [
        "\"\"\"\n",
        "【練習問題９】\n",
        "コメントを参考に制御文を記述してprint関数で内容を表示してみましょう。\n",
        "\n",
        "【実行結果】\n",
        "Dog\n",
        "Cat\n",
        "Rabbit\n",
        "\"\"\"\n",
        "#'Dog', 'Cat', 'Rabbit'が格納されたタプルの内容を順に表示する\n",
        "animal = ('Dog', 'Cat', 'Rabbit')\n",
        "for a in animal:\n",
        "    print(a)"
      ],
      "metadata": {
        "id": "QkIoafT_AavX",
        "colab": {
          "base_uri": "https://localhost:8080/"
        },
        "outputId": "464cb433-6c60-48cf-d1cf-abdfa74d27b2"
      },
      "execution_count": 22,
      "outputs": [
        {
          "output_type": "stream",
          "name": "stdout",
          "text": [
            "Dog\n",
            "Cat\n",
            "Rabbit\n"
          ]
        }
      ]
    },
    {
      "cell_type": "markdown",
      "metadata": {
        "id": "Tcjnf5og6vio"
      },
      "source": [
        "####range関数と併用する\n",
        "- 引数で指定された「初期値」から「終了値」未満の整数値を「ステップ」ごとに順番に返す\n",
        "```python\n",
        "range(初期値, 終了値, ステップ)\n",
        "```\n",
        "\n"
      ]
    },
    {
      "cell_type": "code",
      "source": [
        "lst = list(range(10, 30, 2))    #10から30未満2刻みのリストを取得\n",
        "print(lst)  #そのまま表示すると[]で囲まれる"
      ],
      "metadata": {
        "id": "njABuSaFsa-w",
        "colab": {
          "base_uri": "https://localhost:8080/"
        },
        "outputId": "23b60e54-e7a0-4678-eed1-f26893d4b117"
      },
      "execution_count": 23,
      "outputs": [
        {
          "output_type": "stream",
          "name": "stdout",
          "text": [
            "[10, 12, 14, 16, 18, 20, 22, 24, 26, 28]\n"
          ]
        }
      ]
    },
    {
      "cell_type": "code",
      "source": [
        "#forループとrange関数の組み合わせ\n",
        "for n in range(10, 30, 2):\n",
        "    print(n, end=' ')\n",
        "\n",
        "print() #改行\n",
        "\n",
        "for n in range(30):     #0～29\n",
        "    print(n, end=' ')"
      ],
      "metadata": {
        "id": "YtKrOKIRs55h",
        "colab": {
          "base_uri": "https://localhost:8080/"
        },
        "outputId": "937a2eec-14c3-4ba5-9207-38197218ee5a"
      },
      "execution_count": 24,
      "outputs": [
        {
          "output_type": "stream",
          "name": "stdout",
          "text": [
            "10 12 14 16 18 20 22 24 26 28 \n",
            "0 1 2 3 4 5 6 7 8 9 10 11 12 13 14 15 16 17 18 19 20 21 22 23 24 25 26 27 28 29 "
          ]
        }
      ]
    },
    {
      "cell_type": "code",
      "source": [
        "\"\"\"\n",
        "【練習問題10】\n",
        "コメントを参考に制御文を記述してprint関数で内容を表示してみましょう。\n",
        "\n",
        "【実行結果】\n",
        "10 15 20 25 30 35 40 45 \n",
        "\"\"\"\n",
        "#forループとrange関数の組み合わせ、10～50まで5おきに表示する\n",
        "for n in range(10, 50, 5):\n",
        "    print(n, end=' ')\n",
        "print()"
      ],
      "metadata": {
        "id": "r53WdMlUBTiF",
        "colab": {
          "base_uri": "https://localhost:8080/"
        },
        "outputId": "cf301906-151b-4d26-f66d-7201cb79c5ec"
      },
      "execution_count": 25,
      "outputs": [
        {
          "output_type": "stream",
          "name": "stdout",
          "text": [
            "10 15 20 25 30 35 40 45 \n"
          ]
        }
      ]
    },
    {
      "cell_type": "markdown",
      "metadata": {
        "id": "OicPeFgB3q3j"
      },
      "source": [
        "####forの2重ループ\n",
        "- forループの中にforループが入る\n",
        "```python\n",
        "for 変数 in イテラブル:\n",
        "    for 変数2 in イテラブル:\n",
        "```"
      ]
    },
    {
      "cell_type": "code",
      "source": [
        "#1～100まで10個ずつ改行しながら表示\n",
        "n = 1;\n",
        "for i in range(10):\n",
        "    for j in range(10):\n",
        "        print('%3d' % n, end=' ')   #3桁で表示\n",
        "        n += 1\n",
        "    print()\n"
      ],
      "metadata": {
        "id": "mUD_QJWHDAX-",
        "colab": {
          "base_uri": "https://localhost:8080/"
        },
        "outputId": "f821c3bb-4009-4b7d-ea29-22a7b9b146f9"
      },
      "execution_count": 26,
      "outputs": [
        {
          "output_type": "stream",
          "name": "stdout",
          "text": [
            "  1   2   3   4   5   6   7   8   9  10 \n",
            " 11  12  13  14  15  16  17  18  19  20 \n",
            " 21  22  23  24  25  26  27  28  29  30 \n",
            " 31  32  33  34  35  36  37  38  39  40 \n",
            " 41  42  43  44  45  46  47  48  49  50 \n",
            " 51  52  53  54  55  56  57  58  59  60 \n",
            " 61  62  63  64  65  66  67  68  69  70 \n",
            " 71  72  73  74  75  76  77  78  79  80 \n",
            " 81  82  83  84  85  86  87  88  89  90 \n",
            " 91  92  93  94  95  96  97  98  99 100 \n"
          ]
        }
      ]
    },
    {
      "cell_type": "code",
      "source": [
        "\"\"\"\n",
        "【練習問題11】\n",
        "コメントを参考に制御文を記述してprint関数で内容を表示してみましょう。\n",
        "\n",
        "【実行結果】\n",
        "  4   6   8  10  12  14  16  18 \n",
        "  6   9  12  15  18  21  24  27 \n",
        "  8  12  16  20  24  28  32  36 \n",
        " 10  15  20  25  30  35  40  45 \n",
        " 12  18  24  30  36  42  48  54 \n",
        " 14  21  28  35  42  49  56  63 \n",
        " 16  24  32  40  48  56  64  72 \n",
        " 18  27  36  45  54  63  72  81 \n",
        "\"\"\"\n",
        "#九九を表示する\n",
        "for i in range(2, 10, 1):\n",
        "    for j in range(2, 10, 1):\n",
        "        print('%3d' % (i * j), end=' ')\n",
        "    print()"
      ],
      "metadata": {
        "id": "qOAtkPecud5P",
        "colab": {
          "base_uri": "https://localhost:8080/"
        },
        "outputId": "f92b9be1-0c21-4572-983b-9c1f43c682a0"
      },
      "execution_count": 27,
      "outputs": [
        {
          "output_type": "stream",
          "name": "stdout",
          "text": [
            "  4   6   8  10  12  14  16  18 \n",
            "  6   9  12  15  18  21  24  27 \n",
            "  8  12  16  20  24  28  32  36 \n",
            " 10  15  20  25  30  35  40  45 \n",
            " 12  18  24  30  36  42  48  54 \n",
            " 14  21  28  35  42  49  56  63 \n",
            " 16  24  32  40  48  56  64  72 \n",
            " 18  27  36  45  54  63  72  81 \n"
          ]
        }
      ]
    },
    {
      "cell_type": "code",
      "source": [
        "#2次元リストの表示\n",
        "lst2 = [[1, 2, 3], [11, 12, 13], [21, 22, 23]]      #[]で2重に囲む\n",
        "print(lst2)     #丸ごと表示\n",
        "print()\n",
        "\n",
        "#行単位で表示\n",
        "for i in lst2:\n",
        "    print(i)\n",
        "print()\n",
        "\n",
        "#要素単位で表示\n",
        "for i in range(0, 3, 1):\n",
        "    for j in range(0, 3, 1):\n",
        "        print(lst2[i][j], end=' ')\n",
        "    print()\n"
      ],
      "metadata": {
        "id": "9zkoBtX0ywb9",
        "colab": {
          "base_uri": "https://localhost:8080/"
        },
        "outputId": "d7d5843b-39f4-4c6d-db77-2b3b87d0e15c"
      },
      "execution_count": 28,
      "outputs": [
        {
          "output_type": "stream",
          "name": "stdout",
          "text": [
            "[[1, 2, 3], [11, 12, 13], [21, 22, 23]]\n",
            "\n",
            "[1, 2, 3]\n",
            "[11, 12, 13]\n",
            "[21, 22, 23]\n",
            "\n",
            "1 2 3 \n",
            "11 12 13 \n",
            "21 22 23 \n"
          ]
        }
      ]
    },
    {
      "cell_type": "markdown",
      "metadata": {
        "id": "6BCH1Gvl_l-X"
      },
      "source": [
        "###【break文】\n",
        "- ループ処理を途中で終了するときに使用する\n",
        "- 使用例は「while文」を参照のこと"
      ]
    },
    {
      "cell_type": "markdown",
      "metadata": {
        "id": "Edo69s6qAg1Y"
      },
      "source": [
        "###【continue文】\n",
        "- 繰り返し中に実行したくない文をスキップする"
      ]
    },
    {
      "cell_type": "code",
      "source": [
        "#負数の入力をスキップする\n",
        "i = 0\n",
        "while i < 3:\n",
        "    n = int(input('整数値＞'))\n",
        "    if n < 0:\n",
        "        print('負は入力できません')\n",
        "        continue\n",
        "    print('n =', n)\n",
        "    i += 1"
      ],
      "metadata": {
        "id": "HFmEMJXrFS70",
        "colab": {
          "base_uri": "https://localhost:8080/"
        },
        "outputId": "2a57a05c-ef96-4680-8419-eea795b74ba4"
      },
      "execution_count": 29,
      "outputs": [
        {
          "output_type": "stream",
          "name": "stdout",
          "text": [
            "整数値＞1\n",
            "n = 1\n",
            "整数値＞2\n",
            "n = 2\n",
            "整数値＞-1\n",
            "負は入力できません\n",
            "整数値＞3\n",
            "n = 3\n"
          ]
        }
      ]
    },
    {
      "cell_type": "code",
      "source": [
        "\"\"\"\n",
        "【練習問題12】\n",
        "コメントを参考に制御文を記述してprint関数で内容を表示してみましょう。\n",
        "\n",
        "【実行結果例】\n",
        "整数値1＞1\n",
        "整数値2＞2\n",
        "0.5\n",
        "整数値1＞3\n",
        "整数値2＞0\n",
        "0で割り算できません\n",
        "整数値1＞3\n",
        "整数値2＞4\n",
        "0.75\n",
        "整数値1＞5\n",
        "整数値2＞6\n",
        "0.8333333333333334\n",
        "\"\"\"\n",
        "#3回繰り返し割り算の結果を表示する。ただし、0での割り算はできない\n",
        "i = 0\n",
        "while i < 3:\n",
        "    a = int(input('整数値1＞'))\n",
        "    b = int(input('整数値2＞'))\n",
        "    if b == 0:\n",
        "        print('0で割り算できません')\n",
        "        continue    #以下をスキップ\n",
        "    c = a / b\n",
        "    print(c)\n",
        "    i += 1"
      ],
      "metadata": {
        "id": "g-Ad-j3n0-p9",
        "colab": {
          "base_uri": "https://localhost:8080/"
        },
        "outputId": "e90634df-8d3f-4d65-e2bc-758825ae7b78"
      },
      "execution_count": 30,
      "outputs": [
        {
          "output_type": "stream",
          "name": "stdout",
          "text": [
            "整数値1＞1\n",
            "整数値2＞2\n",
            "0.5\n",
            "整数値1＞3\n",
            "整数値2＞0\n",
            "0で割り算できません\n",
            "整数値1＞3\n",
            "整数値2＞4\n",
            "0.75\n",
            "整数値1＞5\n",
            "整数値2＞6\n",
            "0.8333333333333334\n"
          ]
        }
      ]
    }
  ]
}