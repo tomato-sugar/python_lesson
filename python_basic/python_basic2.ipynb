{
  "nbformat": 4,
  "nbformat_minor": 0,
  "metadata": {
    "colab": {
      "provenance": [],
      "include_colab_link": true
    },
    "kernelspec": {
      "name": "python3",
      "display_name": "Python 3"
    },
    "language_info": {
      "name": "python"
    }
  },
  "cells": [
    {
      "cell_type": "markdown",
      "metadata": {
        "id": "view-in-github",
        "colab_type": "text"
      },
      "source": [
        "<a href=\"https://colab.research.google.com/github/tomato-sugar/python_lesson/blob/main/python_basic/python_basic2.ipynb\" target=\"_parent\"><img src=\"https://colab.research.google.com/assets/colab-badge.svg\" alt=\"Open In Colab\"/></a>"
      ]
    },
    {
      "cell_type": "markdown",
      "source": [
        "#2022年 東北TECH道場 郡山道場 第7期"
      ],
      "metadata": {
        "id": "bYZhUe3v9fFK"
      }
    },
    {
      "cell_type": "markdown",
      "metadata": {
        "id": "KFrOokfeuRpC"
      },
      "source": [
        "# Pythonの基礎（２）"
      ]
    },
    {
      "cell_type": "markdown",
      "metadata": {
        "id": "H0kexTOI-BCT"
      },
      "source": [
        "##《コレクション》\n",
        "- コレクションとはデータやオブジェクトなどをまとめて格納するためのデータ構造\n",
        "- pythonで使用できるコレクションは以下\n",
        " - リスト\n",
        " - タプル\n",
        " - 辞書\n",
        "- pythonに配列は存在しない。"
      ]
    },
    {
      "cell_type": "markdown",
      "metadata": {
        "id": "iTr-iIXUGvZ3"
      },
      "source": [
        "### 【リスト】\n",
        "* 可変長配列\n",
        "* 任意の型を利用可能（混在も可）\n",
        "* [と]で囲んで記述する\n",
        "* 添字で要素を指定する\n",
        "* ミュータブル（値を途中で変更可能）"
      ]
    },
    {
      "cell_type": "code",
      "source": [
        "# []の中にカンマ区切りで要素を記述\n",
        "color = [\"Red\", \"Blue\", \"White\"]\n",
        "print(\"①\", color)\n",
        "\n",
        "# 型の混在が可能\n",
        "v = [1, 1.23, \"ABC\", \"abc\", 111, 3.14]\n",
        "print(\"②\", v)\n",
        "\n",
        "# 要素数の取得 len関数\n",
        "print(\"③\", len(color))\n",
        "\n",
        "# 添字（0から）で要素を取得\n",
        "print(\"④\", color[1])\n",
        "\n",
        "# 添字で部分的に要素を取得\n",
        "print(\"⑤\", v[1:4])  # 先頭から1番目以上、4番目未満の範囲\n",
        "\n",
        "# 要素の追加\n",
        "color.append(\"Yellow\")  # appendメソッド：末尾に追加\n",
        "print(\"⑥\", color)\n",
        "color.insert(2, \"Black\")  # insertメソッド：位置を指定して追加\n",
        "print(\"⑦\", color)\n",
        "\n",
        "# 要素の変更\n",
        "color[0] = \"Pink\"  # 添え字を指定\n",
        "print(\"⑧\", color)\n",
        "\n",
        "# 要素の削除\n",
        "color.remove(\"Yellow\")  # removeメソッド：要素を指定して削除\n",
        "print(\"⑨\", color)\n",
        "color.pop(2)  # popメソッド：添え字を指定して削除\n",
        "print(\"⑩\", color)"
      ],
      "metadata": {
        "id": "7GP_Cn806RWO"
      },
      "execution_count": null,
      "outputs": []
    },
    {
      "cell_type": "code",
      "source": [
        "\"\"\"\n",
        "【練習問題１】\n",
        "コメントを参考にリストを記述してprint関数で内容を表示してみましょう。\n",
        "\n",
        "【実行結果】\n",
        "[123, 456, 78]\n",
        "123\n",
        "456\n",
        "78\n",
        "[123, 'aaa', 456, 789, 789]\n",
        "[123, 456, 789]\n",
        "\"\"\"\n",
        "# 「123, 456, 78」の値を持つリストlstを作成する\n",
        "\n",
        "# 一度に全部表示する\n",
        "\n",
        "# １つずつ表示する\n",
        "\n",
        "# 次のようになるように要素を追加する「123, 'aaa', 456, 789, 789」\n",
        "\n",
        "# 次のようになるように要素を削除する「123, 456, 789」\n"
      ],
      "metadata": {
        "id": "GlnZP1BctbFY"
      },
      "execution_count": null,
      "outputs": []
    },
    {
      "cell_type": "code",
      "source": [
        "# 色々なリスト\n",
        "empty = []  # 空のリスト\n",
        "print(\"①\", empty)\n",
        "ch = list(\"Hello\")  # 文字を要素とするリスト\n",
        "print(\"②\", ch)\n",
        "num = list(range(10))  # 0～9のリスト\n",
        "print(\"③\", num)\n",
        "num = list(range(10, 20))  # 10～19のリスト\n",
        "print(\"④\", num)\n",
        "num = list(range(10, 200, 10))  # 10～199まで10間隔のリスト\n",
        "print(\"⑤\", num)\n",
        "\n",
        "# リストの中にリスト\n",
        "dbl = [[123, 456, 789], [1234, 3456, 5678]]\n",
        "print(\"⑥\", dbl)\n",
        "print(\"⑦\", dbl[0])  # 先頭から0番目の要素\n",
        "print(\"⑧\", dbl[1][1])  # 1行1列の要素\n",
        "\n",
        "# リストの代入は別名を作るだけ\n",
        "num = list(range(10))  # 0～9のリスト\n",
        "num2 = num\n",
        "num2[0] = 999  # num[0]も999になる\n",
        "print(\"⑨\", num)\n",
        "print(\"⑩\", num2)\n",
        "\n",
        "# リストのコピーはcopy関数で行う\n",
        "import copy  # copy関数を使用するために必要\n",
        "\n",
        "num3 = copy.copy(num)\n",
        "num3[0] = 9999  # num[0]は999のまま\n",
        "print(\"⑪\", num)\n",
        "print(\"⑫\", num3)\n",
        "\n",
        "# ただし、多次元リストのコピーはdeepcopy関数で行う\n",
        "dbl2 = copy.copy(dbl)\n",
        "dbl2[0][0] = 111\n",
        "print(\"⑬\", dbl)  # copy関数では両方変わる\n",
        "print(\"⑭\", dbl2)\n",
        "dbl3 = copy.deepcopy(dbl)\n",
        "dbl3[0][0] = 1111\n",
        "print(\"⑬\", dbl)\n",
        "print(\"⑭\", dbl3)  # deepcopy数ではコピー先だけ変わる"
      ],
      "metadata": {
        "id": "ggJenvih9OM9"
      },
      "execution_count": null,
      "outputs": []
    },
    {
      "cell_type": "code",
      "source": [
        "\"\"\"\n",
        "【練習問題２】\n",
        "コメントを参考にリストを記述してprint関数で内容を表示してみましょう。\n",
        "\n",
        "【実行結果】\n",
        "['G', 'o', 'o', 'd']\n",
        "[25, 26, 27, 28, 29]\n",
        "[30, 32, 34, 36, 38, 40]\n",
        "[['morning', 7, 10], ['afternoon', 12, 16], ['evening', 17, 22]]\n",
        "17\n",
        "daylst =  [['morning', 7, 10], ['afternoon', 12, 16], ['evening', 17, 22]]\n",
        "daylst =  [['morning', 7, 10], ['afternoon', 12, 16], ['evening', 17, 22]]\n",
        "day2lst =  [['morning', 7, 10], ['afternoon', 12, 16], ['evening', 17, 24]]\n",
        "\"\"\"\n",
        "# 「'G', 'o', 'o', 'd'」の値を持つリストlstを作成する\n",
        "\n",
        "# range関数を使って「25, 26, 27, 28, 29」の値を持つリストlstを作成する\n",
        "\n",
        "# range関数を使って30～40まで偶数の値を持つリストlstを作成する\n",
        "\n",
        "# 「'morning', 7, 10」「'afternoon', 12, 16」「'evening', 17, 22」の値を持つリストdaylstを作成する\n",
        "\n",
        "# daylstから「17」を選んで表示する\n",
        "\n",
        "# daylstをコピーしてday2lstを作成し、day2lstの「22」を「24」に変更する\n"
      ],
      "metadata": {
        "id": "PPtgUbP5avjN"
      },
      "execution_count": null,
      "outputs": []
    },
    {
      "cell_type": "code",
      "source": [
        "# リストの操作\n",
        "import random  # 乱数ライブラリ\n",
        "\n",
        "# 1～100までのランダムな10個のリスト\n",
        "r_list = list(random.randint(1, 100) for i in range(10)) \n",
        "print(\"①\", r_list)\n",
        "\n",
        "s_list = list(r_list)\n",
        "s_list.sort()  # sortメソッド：リストのソート\n",
        "print(\"②\", s_list)\n",
        "\n",
        "s_list2 = list(r_list)\n",
        "s_list2.sort(reverse=True)  # 降順にソート\n",
        "print(\"③\", s_list2)\n",
        "\n",
        "s_list3 = list(r_list)\n",
        "s_list3.reverse()  # リストの反転\n",
        "print(\"④\", s_list3)"
      ],
      "metadata": {
        "id": "jYTNrfC__mNs"
      },
      "execution_count": null,
      "outputs": []
    },
    {
      "cell_type": "code",
      "source": [
        "\"\"\"\n",
        "【練習問題３】\n",
        "コメントを参考にリストを記述してprint関数で内容を表示してみましょう。\n",
        "\n",
        "【実行結果例】※ランダムなので実行の度に異なる\n",
        "[433, 847, 145, 546, 620, 909, 494]\n",
        "[494, 909, 620, 546, 145, 847, 433]\n",
        "[145, 433, 494, 546, 620, 847, 909]\n",
        "\"\"\"\n",
        "# 1～1000までのランダムな7個のリストを表示する\n",
        "\n",
        "# そのリストを反転して表示する\n",
        "\n",
        "# そのリストを昇順に並べて表示する\n"
      ],
      "metadata": {
        "id": "ry5z99T4PrJc"
      },
      "execution_count": null,
      "outputs": []
    },
    {
      "cell_type": "markdown",
      "metadata": {
        "id": "umhOn1q_O9dE"
      },
      "source": [
        "### 【タプル】\n",
        "* イミュータブル（変更不可能）な配列\n",
        "* 任意の型を利用可能（混在も可）\n",
        "* (と)で囲んで記述する\n",
        "* 添字で要素を指定して取得\n",
        "* 要素を変更する予定が無い場合は、リストよりもタプルを使用する方がよい\n"
      ]
    },
    {
      "cell_type": "code",
      "source": [
        "# ()の中にカンマ区切りで要素を記述\n",
        "animal = (\"Dog\", \"Cat\", \"Rabbit\")\n",
        "print(\"①\", animal)\n",
        "\n",
        "# 型の混在可能\n",
        "w = (1, 22.3, \"aaa\")\n",
        "print(\"②\", w)\n",
        "\n",
        "# 添え字を指定して要素を取り出す\n",
        "print(\"③\", animal[2])\n",
        "\n",
        "# 要素の変更は不可\n",
        "# animal[1] = 'Lion'     ← コメントを外すとエラー\n",
        "\n",
        "# タプルは都道府県名一覧のようにあとから変更しないものに使う"
      ],
      "metadata": {
        "id": "PaHdbgsgcaGW"
      },
      "execution_count": null,
      "outputs": []
    },
    {
      "cell_type": "code",
      "source": [
        "\"\"\"\n",
        "【練習問題４】\n",
        "コメントを参考にタプルを記述してprint関数で内容を表示してみましょう。\n",
        "\n",
        "【実行結果例】\n",
        "('りんご', 'みかん', 'いちご', 'ぶどう', 'ばなな')\n",
        "いちご\n",
        "\"\"\"\n",
        "# 果物の名前5個からなるタプルを作成して表示する\n",
        "\n",
        "# タプルの中から一番好きな果物を表示する\n"
      ],
      "metadata": {
        "id": "bBzZHVysT9NY"
      },
      "execution_count": null,
      "outputs": []
    },
    {
      "cell_type": "markdown",
      "metadata": {
        "id": "2wIuEmiVDhus"
      },
      "source": [
        "###【辞書】\n",
        "* キーと値の組で要素をアクセスする\n",
        "* 任意の型を利用可能（混在も可）\n",
        "* {と}で囲んで記述する\n",
        "* キーで要素を指定する\n",
        "* ミュータブル（値を途中で変更可能）"
      ]
    },
    {
      "cell_type": "code",
      "source": [
        "#  {}で囲み、キーと値の組で記述する\n",
        "fruits = {\"みかん\": \"orange\", \"リンゴ\": \"apple\", \"バナナ\": \"banana\"}\n",
        "print(\"①\", fruits)\n",
        "\n",
        "# キーと値は異なる型でもOK 混在もOK\n",
        "number = {1: \"First\", 2: \"Second\", 3: \"Third\", \"4\": \"四\"}\n",
        "print(\"②\", number)\n",
        "\n",
        "# キーを指定して値を取り出す\n",
        "f = fruits[\"リンゴ\"]\n",
        "print(\"③\", f)\n",
        "\n",
        "# 要素の追加\n",
        "fruits[\"いちご\"] = \"strawberry\"  # 配列のように追加\n",
        "fruits.setdefault(\"桃\", \"peach\")  # メソッドで追加\n",
        "print(\"④\", fruits)\n",
        "\n",
        "# 要素の削除\n",
        "fruits.pop(\"リンゴ\")  # popメソッドでキーを指定\n",
        "print(\"⑤\", fruits)\n",
        "\n",
        "# キーの存在確認\n",
        "print(\"⑥\", \"いちご\" in fruits)  # 存在する\n",
        "print(\"⑦\", \"リンゴ\" in fruits)  # 削除したので存在しない"
      ],
      "metadata": {
        "id": "ER3VudzJeh_F"
      },
      "execution_count": null,
      "outputs": []
    },
    {
      "cell_type": "code",
      "source": [
        "\"\"\"\n",
        "【練習問題５】\n",
        "コメントを参考に辞書を記述してprint関数で内容を表示してみましょう。\n",
        "\n",
        "【実行結果例】\n",
        "{'日曜日': 'Sunday', '月曜日': 'Monday', '火曜日': 'Tuesday', '水曜日': 'Wednesday', '木曜日': 'Thursday', '金曜日': 'Friday', '土曜日': 'Saturday'}\n",
        "Saturday\n",
        "{'月曜日': 'Monday', '火曜日': 'Tuesday', '水曜日': 'Wednesday', '木曜日': 'Thursday', '金曜日': 'Friday'}\n",
        "{'月曜日': 'Monday', '火曜日': 'Tuesday', '水曜日': 'Wednesday', '木曜日': 'Thursday', '金曜日': 'Friday', '土曜日': 'Saturday'}\n",
        "\"\"\"\n",
        "# 日本語と英語の曜日を対応付ける辞書weekを作成して表示する\n",
        "\n",
        "# weekから好きな曜日を英語で表示する\n",
        "\n",
        "# weekから土曜日と日曜日を削除して表示する\n",
        "\n",
        "# weekに土曜日を追加して表示する\n"
      ],
      "metadata": {
        "id": "MWyPTXAWY_-1"
      },
      "execution_count": null,
      "outputs": []
    }
  ]
}