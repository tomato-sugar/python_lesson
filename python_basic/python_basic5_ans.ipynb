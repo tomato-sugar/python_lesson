{
  "nbformat": 4,
  "nbformat_minor": 0,
  "metadata": {
    "colab": {
      "provenance": [],
      "collapsed_sections": [],
      "include_colab_link": true
    },
    "kernelspec": {
      "name": "python3",
      "display_name": "Python 3"
    },
    "language_info": {
      "name": "python"
    }
  },
  "cells": [
    {
      "cell_type": "markdown",
      "metadata": {
        "id": "view-in-github",
        "colab_type": "text"
      },
      "source": [
        "<a href=\"https://colab.research.google.com/github/tomato-sugar/python_lesson/blob/main/python_basic/python_basic5_ans.ipynb\" target=\"_parent\"><img src=\"https://colab.research.google.com/assets/colab-badge.svg\" alt=\"Open In Colab\"/></a>"
      ]
    },
    {
      "cell_type": "markdown",
      "source": [
        "#2022年 東北TECH道場 郡山道場 第7期"
      ],
      "metadata": {
        "id": "bYZhUe3v9fFK"
      }
    },
    {
      "cell_type": "markdown",
      "metadata": {
        "id": "KFrOokfeuRpC"
      },
      "source": [
        "# Pythonの基礎（５）・・・練習問題解答例"
      ]
    },
    {
      "cell_type": "markdown",
      "metadata": {
        "id": "e7_ZHtueJuwq"
      },
      "source": [
        "##《ファイル入出力》\n",
        "- ファイル入出力手順\n",
        "    - open関数でファイルを開く\n",
        "    - writeメソッドで書き込み\n",
        "    - readメソッドで読み込み\n",
        "    - closeメソッドでファイルを閉じる\n",
        "- ファイルオープンモード\n",
        "    - r ： 読み込み\n",
        "    - w ： 書き込み（新規作成）\n",
        "    - a ： 追加書き込み\n",
        "    - r+ ： 既存ファイルの読み書き\n",
        "    - w+ ： ファイルの読み書き（新規作成）\n",
        "    - a+ ： 追記・読み書き\n",
        "    - t ： テキストモード\n",
        "    - b ： バイナリモード\n"
      ]
    },
    {
      "cell_type": "code",
      "source": [
        "# ファイルに文字列を書き込む\n",
        "fp = open(\"sample.txt\", \"wt\")  # テキストファイルに書き込むモード\n",
        "fp.write(\"Hello\\n\")\n",
        "fp.write(\"World!\\n\")\n",
        "fp.close()"
      ],
      "metadata": {
        "id": "KAxmAxEu8Zpq"
      },
      "execution_count": 1,
      "outputs": []
    },
    {
      "cell_type": "markdown",
      "source": [
        "※上記のコードを実行しても何も表示しないが、左サイドバーのフォルダマークをクリックすると、「sample.txt」ができていることを確認できる。このファイルをダブルクリックすると、右サイドバーに内容が表示される。"
      ],
      "metadata": {
        "id": "2TJ2iFLa4SZZ"
      }
    },
    {
      "cell_type": "code",
      "source": [
        "# ファイルの内容を入力する\n",
        "fp = open(\"sample.txt\", \"rt\")  # テキストファイルから読み込むモード\n",
        "s = fp.read()\n",
        "print(s)\n",
        "fp.close()"
      ],
      "metadata": {
        "colab": {
          "base_uri": "https://localhost:8080/"
        },
        "id": "b5lGhBFU8815",
        "outputId": "9a5155a5-80cf-42f2-a9c3-9dc41cbc31c3"
      },
      "execution_count": 2,
      "outputs": [
        {
          "output_type": "stream",
          "name": "stdout",
          "text": [
            "Hello\n",
            "World!\n",
            "\n"
          ]
        }
      ]
    },
    {
      "cell_type": "code",
      "source": [
        "\"\"\"\n",
        "【練習問題１】\n",
        "コメントを参考にファイル入出力を行いましょう。\n",
        "\n",
        "【実行結果】\n",
        "好きな文字列を\n",
        "書き込んでみましょう\n",
        "\"\"\"\n",
        "# テキストファイル'sample2.txt'に文字列を2行書き込む\n",
        "fp = open(\"sample2.txt\", \"wt\")  # テキストファイルに書き込むモード\n",
        "fp.write(\"好きな文字列を\\n\")\n",
        "fp.write(\"書き込んでみましょう\\n\")\n",
        "fp.close()\n",
        "\n",
        "# 'sample2.txt'から文字列を読み込んで表示する\n",
        "fp = open(\"sample2.txt\", \"rt\")  # テキストファイルから読み込むモード\n",
        "s = fp.read()\n",
        "print(s)\n",
        "fp.close()"
      ],
      "metadata": {
        "colab": {
          "base_uri": "https://localhost:8080/"
        },
        "id": "4Gsi7y2a5zl-",
        "outputId": "bcdd5f34-b2b1-42dd-a752-e54ac59aedfd"
      },
      "execution_count": 3,
      "outputs": [
        {
          "output_type": "stream",
          "name": "stdout",
          "text": [
            "好きな文字列を\n",
            "書き込んでみましょう\n",
            "\n"
          ]
        }
      ]
    },
    {
      "cell_type": "code",
      "source": [
        "\"\"\"\n",
        "【練習問題２】\n",
        "コメントを参考にファイル入出力を行いましょう。\n",
        "\n",
        "【実行結果】\n",
        "[10, 12, 14, 16, 18, 20, 22, 24, 26, 28]\n",
        "\"\"\"\n",
        "# テキストファイル'sample3.txt'に10から30未満2刻みのリストを書き込む\n",
        "fp = open(\"sample3.txt\", \"wt\")  # テキストファイルに書き込むモード\n",
        "lst = list(range(10, 30, 2))\n",
        "fp.write(str(lst))\n",
        "fp.close()\n",
        "\n",
        "# 'sample3.txt'から文字列を読み込んで表示する\n",
        "fp = open(\"sample3.txt\", \"rt\")  # テキストファイルから読み込むモード\n",
        "s = fp.read()\n",
        "print(s)\n",
        "fp.close()"
      ],
      "metadata": {
        "colab": {
          "base_uri": "https://localhost:8080/"
        },
        "id": "o2rYA2My6qV_",
        "outputId": "625704ae-0def-42e9-f330-3373a652acf9"
      },
      "execution_count": 4,
      "outputs": [
        {
          "output_type": "stream",
          "name": "stdout",
          "text": [
            "[10, 12, 14, 16, 18, 20, 22, 24, 26, 28]\n"
          ]
        }
      ]
    },
    {
      "cell_type": "markdown",
      "metadata": {
        "id": "LeBtKKatNdNx"
      },
      "source": [
        "##《例外処理》\n",
        "- エラーが発生したときに対応する\n",
        "\n",
        "```python\n",
        "try:\n",
        "    例外が発生する可能性のある処理\n",
        "except 例外:\n",
        "    例外が発生したときの処理\n",
        "```\n"
      ]
    },
    {
      "cell_type": "code",
      "source": [
        "# ValueError 不適切な値の例外\n",
        "try:\n",
        "    n = int(input(\"整数値＞\"))\n",
        "    print(n * 2)\n",
        "except ValueError:\n",
        "    print(\"整数値を入力して下さい\")"
      ],
      "metadata": {
        "colab": {
          "base_uri": "https://localhost:8080/"
        },
        "id": "GqFRgVUY96qh",
        "outputId": "0e6ab4a7-fad8-450a-e64a-e782930adbc6"
      },
      "execution_count": 5,
      "outputs": [
        {
          "output_type": "stream",
          "name": "stdout",
          "text": [
            "整数値＞a\n",
            "整数値を入力して下さい\n"
          ]
        }
      ]
    },
    {
      "cell_type": "code",
      "source": [
        "# FileNotFoundError ファイルが存在しない例外\n",
        "try:\n",
        "    fp = open(\"sampleXXX.txt\", \"rt\")\n",
        "    s = fp.read()\n",
        "    print(s)\n",
        "    fp.close()\n",
        "except FileNotFoundError:\n",
        "    print(\"ファイルが存在しません\")"
      ],
      "metadata": {
        "colab": {
          "base_uri": "https://localhost:8080/"
        },
        "id": "R-qaeRMn-_i5",
        "outputId": "1fe1e52d-342c-457f-bdac-87bcef1bc2e3"
      },
      "execution_count": 6,
      "outputs": [
        {
          "output_type": "stream",
          "name": "stdout",
          "text": [
            "ファイルが存在しません\n"
          ]
        }
      ]
    },
    {
      "cell_type": "code",
      "source": [
        "\"\"\"\n",
        "【練習問題３】\n",
        "コメントを参考に例外処理を行いましょう。\n",
        "\n",
        "【実行結果】\n",
        "整数値1＞10\n",
        "整数値2＞0\n",
        "ゼロで割り算はできません\n",
        "\"\"\"\n",
        "# ゼロで割る、 ZeroDivisionErrorという例外を検出する\n",
        "try:\n",
        "    a = int(input(\"整数値1＞\"))\n",
        "    b = int(input(\"整数値2＞\"))\n",
        "    print(a, \"/\", b, \"=\", a / b)\n",
        "except ZeroDivisionError:\n",
        "    print(\"ゼロで割り算はできません\")"
      ],
      "metadata": {
        "colab": {
          "base_uri": "https://localhost:8080/"
        },
        "id": "7PlbPrNI9mD8",
        "outputId": "a0098ef2-699f-4c2b-a2c2-8df184c9ab16"
      },
      "execution_count": 7,
      "outputs": [
        {
          "output_type": "stream",
          "name": "stdout",
          "text": [
            "整数値1＞10\n",
            "整数値2＞0\n",
            "ゼロで割り算はできません\n"
          ]
        }
      ]
    },
    {
      "cell_type": "markdown",
      "metadata": {
        "id": "-XGiVj6TX3--"
      },
      "source": [
        "##《ちょっとだけオブジェクト指向》\n",
        "※ここからはオブジェクト指向がわかる人だけサラッと読んで下さい。"
      ]
    },
    {
      "cell_type": "markdown",
      "metadata": {
        "id": "hco-RwXZX9Sf"
      },
      "source": [
        "###【クラスの定義】\n",
        "```python\n",
        "class クラス名:\n",
        "    プロパティやメソッド\n",
        "```"
      ]
    },
    {
      "cell_type": "code",
      "source": [
        "# 自動車クラス\n",
        "class Car:\n",
        "    # プロパティ（属性）\n",
        "    kind = \"Prius\"  # 車種\n",
        "\n",
        "    # メソッド （処理）\n",
        "    def run(self):  # self：自分自身のインスタンス（必ず書く）\n",
        "        print(\"走る\")"
      ],
      "metadata": {
        "id": "35XgQkj8AP7w"
      },
      "execution_count": 9,
      "outputs": []
    },
    {
      "cell_type": "markdown",
      "metadata": {
        "id": "9Kx75WHJZnDf"
      },
      "source": [
        "###【インスタンスの生成と利用】\n",
        "```python\n",
        "インスタンス名 = クラス名()\n",
        "```"
      ]
    },
    {
      "cell_type": "code",
      "source": [
        "# 自動車クラスのインスタンスを生成\n",
        "myCar = Car()\n",
        "\n",
        "# プロパティの参照\n",
        "print(myCar.kind)\n",
        "\n",
        "# メソッドの実行\n",
        "myCar.run()"
      ],
      "metadata": {
        "colab": {
          "base_uri": "https://localhost:8080/"
        },
        "id": "BbaVjzS9BQ6H",
        "outputId": "a8f2392b-a2b0-4deb-8ae7-2fa734a7b156"
      },
      "execution_count": 10,
      "outputs": [
        {
          "output_type": "stream",
          "name": "stdout",
          "text": [
            "Prius\n",
            "走る\n"
          ]
        }
      ]
    },
    {
      "cell_type": "markdown",
      "metadata": {
        "id": "6LvCsY3-bk-3"
      },
      "source": [
        "###【コンストラクタ】\n",
        "\n",
        "インスタンスを初期化するメソッド\n",
        "\n",
        "\n",
        "```python\n",
        "def __init__(self, 引数1, 引数2, …):\n",
        "    self.プロパティ1 = 引数1\n",
        "    self.プロパティ2 = 引数2\n",
        "    ・・・\n",
        "```\n",
        "- アンダーバーは２個\n",
        "- selfは自分自身を指す\n",
        "- 「self」でクラス内の変数やメソッドにアクセスする事ができる"
      ]
    },
    {
      "cell_type": "code",
      "source": [
        "# 自動車クラス\n",
        "class Car:\n",
        "    # コンストラクタ\n",
        "    def __init__(self, kind, mileage):\n",
        "        # self.kind 自分自身のkind\n",
        "        # kind 引数のkind\n",
        "        self.kind = kind  # 車種\n",
        "        self.mileage = mileage  # 走行距離\n",
        "\n",
        "    # コンストラクタで宣言したプロパティは再宣言しない\n",
        "    # kind = \"Prius\"      # 車種\n",
        "\n",
        "    # メソッド （処理）\n",
        "    def run(self):  # self：自分自身のインスタンス（必ず書く）\n",
        "        self.mileage += 10\n",
        "        print(self.mileage, \"キロ走った\")\n",
        "\n",
        "\n",
        "# 自動車クラスのインスタンスの生成\n",
        "myCar = Car(\"Fit\", 1000)\n",
        "\n",
        "# プロパティの参照\n",
        "print(myCar.kind)\n",
        "print(myCar.mileage)\n",
        "\n",
        "# メソッドの実行\n",
        "myCar.run()"
      ],
      "metadata": {
        "colab": {
          "base_uri": "https://localhost:8080/"
        },
        "id": "LcJH4XiVDYco",
        "outputId": "ccb658fa-6120-40b6-fb2e-d6aa8e690611"
      },
      "execution_count": 11,
      "outputs": [
        {
          "output_type": "stream",
          "name": "stdout",
          "text": [
            "Fit\n",
            "1000\n",
            "1010 キロ走った\n"
          ]
        }
      ]
    }
  ]
}