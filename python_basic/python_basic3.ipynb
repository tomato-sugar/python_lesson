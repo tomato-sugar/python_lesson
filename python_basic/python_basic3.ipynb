{
  "nbformat": 4,
  "nbformat_minor": 0,
  "metadata": {
    "colab": {
      "provenance": [],
      "include_colab_link": true
    },
    "kernelspec": {
      "name": "python3",
      "display_name": "Python 3"
    },
    "language_info": {
      "name": "python"
    }
  },
  "cells": [
    {
      "cell_type": "markdown",
      "metadata": {
        "id": "view-in-github",
        "colab_type": "text"
      },
      "source": [
        "<a href=\"https://colab.research.google.com/github/tomato-sugar/python_lesson/blob/main/python_basic/python_basic3.ipynb\" target=\"_parent\"><img src=\"https://colab.research.google.com/assets/colab-badge.svg\" alt=\"Open In Colab\"/></a>"
      ]
    },
    {
      "cell_type": "markdown",
      "source": [
        "#2022年 東北TECH道場 郡山道場 第7期"
      ],
      "metadata": {
        "id": "bYZhUe3v9fFK"
      }
    },
    {
      "cell_type": "markdown",
      "metadata": {
        "id": "KFrOokfeuRpC"
      },
      "source": [
        "# Pythonの基礎（３）"
      ]
    },
    {
      "cell_type": "markdown",
      "metadata": {
        "id": "bYmWp_dtvMaB"
      },
      "source": [
        "##《制御文》\n",
        "Pythonには、以下の制御文が用意されている。\n",
        "* 選択文：if文（pythonにswitch文はない）\n",
        "* 繰り返し文：while文、for文（pythonにdo～while文はない）\n",
        "* その他の文：break文、continue文\n"
      ]
    },
    {
      "cell_type": "markdown",
      "metadata": {
        "id": "t8mMMLJcSaiw"
      },
      "source": [
        "###【if文】\n",
        "- 二者択一を行う\n",
        "- 条件判定には「関係演算子（==　!=　<　>　<=　>=）」や「論理演算子（and　or　not）」を使用する。  \n",
        "  ※「Pythonの基礎（１）」で説明済み。\n",
        "- {と}でブロック化することはなく、「:」と字下げで制御を記述する。\n",
        "- 字下げ文字は一般的に「4文字」。それ以外でも大丈夫だが、混在は厳禁。  \n",
        "  **※ Google Colaboratoryの「設定」（右上の歯車マーク）で「編集者」（あるいは「エディタ」）タブで「インデント幅」を「4」にしておくこと。**\n",
        "\n",
        "```python\n",
        "if 条件式1:　　←　()は付けない、:を忘れないこと\n",
        "　　文1　　　　←　インデントは必須、通常は半角スペース4文字  \n",
        "elif 条件式2:　←　「else if」ではなく「elif」\n",
        "　　文2\n",
        "else:\n",
        "　　文3\n",
        "```\n",
        "\n"
      ]
    },
    {
      "cell_type": "markdown",
      "source": [
        "####関係演算子\n",
        "- ==　!=　<　>　<=　>="
      ],
      "metadata": {
        "id": "nVUPU1hWXg9t"
      }
    },
    {
      "cell_type": "code",
      "source": [
        "# 60点以上は合格\n",
        "ten = int(input('点数＞'))\n",
        "if ten >= 60:\n",
        "    print('合格')\n",
        "else:\n",
        "    print('不合格')"
      ],
      "metadata": {
        "id": "qN1vOYtTjPi8"
      },
      "execution_count": null,
      "outputs": []
    },
    {
      "cell_type": "code",
      "source": [
        "\"\"\"\n",
        "【練習問題１】\n",
        "コメントを参考に制御文を記述してprint関数で内容を表示してみましょう。\n",
        "\n",
        "【実行結果例１】\n",
        "点数＞50\n",
        "不合格\n",
        "\n",
        "【実行結果例２】\n",
        "点数＞60\n",
        "合格\n",
        "\"\"\"\n",
        "# 点数を入力し、60点未満なら「不合格」それ以外なら「合格」と表示する\n",
        "# 60点以上は合格\n"
      ],
      "metadata": {
        "id": "6r1ilXOWUBFZ"
      },
      "execution_count": null,
      "outputs": []
    },
    {
      "cell_type": "code",
      "source": [
        "\"\"\"\n",
        "【練習問題２】\n",
        "コメントを参考に制御文を記述してprint関数で内容を表示してみましょう。\n",
        "\n",
        "【実行結果例】\n",
        "点数＞100\n",
        "満点\n",
        "\"\"\"\n",
        "# 点数を入力し、100なら「満点」と表示する\n"
      ],
      "metadata": {
        "id": "uzP-nM7Rj2SM"
      },
      "execution_count": null,
      "outputs": []
    },
    {
      "cell_type": "markdown",
      "metadata": {
        "id": "S3mX6UUNYKxe"
      },
      "source": [
        "####論理演算子\n",
        "- and : かつ\n",
        "- or : または\n",
        "- not : 否定（条件がTrueならFalse、FalseならTrue）"
      ]
    },
    {
      "cell_type": "code",
      "source": [
        "# 論理和演算子の例\n",
        "animal = input('ペット＞')\n",
        "if animal == '猫' or animal == '犬':\n",
        "    print('ペットは猫か犬です')\n",
        "else:\n",
        "    print('ペットは猫でも犬でもありません')"
      ],
      "metadata": {
        "id": "vlWBPKzOX0dk"
      },
      "execution_count": null,
      "outputs": []
    },
    {
      "cell_type": "code",
      "source": [
        "# 論理否定演算子の例\n",
        "animal = input('ペット＞')\n",
        "if not (animal == '猫' or animal == '犬'):\n",
        "    print('ペットは猫でも犬でもありません')\n",
        "else:\n",
        "    print('ペットは猫か犬です')"
      ],
      "metadata": {
        "id": "yUSbj_GlX5OV"
      },
      "execution_count": null,
      "outputs": []
    },
    {
      "cell_type": "code",
      "source": [
        "\"\"\"\n",
        "【練習問題３】\n",
        "コメントを参考に制御文を記述してprint関数で内容を表示してみましょう。\n",
        "\n",
        "【実行結果例１】\n",
        "点数＞-1\n",
        "点数の入力エラー\n",
        "\n",
        "【実行結果例２】\n",
        "点数＞101\n",
        "点数の入力エラー\n",
        "\n",
        "【実行結果例３】\n",
        "点数＞99\n",
        "点数は正常です\n",
        "\"\"\"\n",
        "# 点数を入力し、入力エラーを判定する\n"
      ],
      "metadata": {
        "id": "ZxAQ2hF2kVuc"
      },
      "execution_count": null,
      "outputs": []
    },
    {
      "cell_type": "markdown",
      "source": [
        "####ifelの使い方\n",
        "- elifを並べることで、さらに多くの分岐を行うことが可能になる"
      ],
      "metadata": {
        "id": "pa0jZyz4a1A6"
      }
    },
    {
      "cell_type": "code",
      "source": [
        "# ifelを使う例\n",
        "ten = int(input('点数＞'))\n",
        "if ten >= 80:\n",
        "    print('A判定')\n",
        "elif ten >= 70:\n",
        "    print('B判定')\n",
        "elif ten >= 60:\n",
        "    print('C判定')\n",
        "else:\n",
        "    print('D判定')"
      ],
      "metadata": {
        "id": "7EBBEMNmlSds"
      },
      "execution_count": null,
      "outputs": []
    },
    {
      "cell_type": "code",
      "source": [
        "\"\"\"\n",
        "【練習問題４】\n",
        "コメントを参考に制御文を記述してprint関数で内容を表示してみましょう。\n",
        "\n",
        "【実行結果例１】\n",
        "文字＞c\n",
        "cherry\n",
        "\n",
        "【実行結果例２】\n",
        "文字＞x\n",
        "tomato\n",
        "\"\"\"\n",
        "# 入力した文字が、'a'なら'apple'、'b'なら'banana'、\n",
        "# 'c'なら'cherry'、それ以外なら'tomato'と表示する\n"
      ],
      "metadata": {
        "id": "5J4d-2JyclAh"
      },
      "execution_count": null,
      "outputs": []
    },
    {
      "cell_type": "markdown",
      "source": [
        "####論理演算子を使わない例\n",
        "- pythonでは、論理演算子を使わずに複数の条件を判定可能"
      ],
      "metadata": {
        "id": "9DmNruJKbfBT"
      }
    },
    {
      "cell_type": "code",
      "source": [
        "# 論理演算子を使わない例\n",
        "a,b,c = 9,8,7       # 一度に代入が可能\n",
        "if a>= b>= c:       # if a >= b and b >= c: と書かなくてOK\n",
        "    print('最大値は', a)"
      ],
      "metadata": {
        "id": "Ta9_rsatmJUj"
      },
      "execution_count": null,
      "outputs": []
    },
    {
      "cell_type": "markdown",
      "metadata": {
        "id": "pUy9HUGbcA9j"
      },
      "source": [
        "####if文のネスト\n",
        "- ifの中にifが入る構造\n",
        "- 字下げに注意。字下げがおかしいと予期せぬ結果になる"
      ]
    },
    {
      "cell_type": "code",
      "source": [
        "ritu = int(input('出席率＞'))\n",
        "if ritu >= 80:\n",
        "    ten = int(input('点数＞'))\n",
        "    if ten >= 60:\n",
        "        print('合格')\n",
        "    else:\n",
        "        print('不合格')\n",
        "else:\n",
        "    print('補習')\n"
      ],
      "metadata": {
        "id": "NDbpdh2im3ua"
      },
      "execution_count": null,
      "outputs": []
    },
    {
      "cell_type": "code",
      "source": [
        "\"\"\"\n",
        "【練習問題５】\n",
        "コメントを参考に制御文を記述してprint関数で内容を表示してみましょう。\n",
        "\n",
        "【実行結果例１】\n",
        "科目を入力（国語 or 数学）＞国語\n",
        "点数＞80\n",
        "国語の点数は平均点以上\n",
        "\n",
        "【実行結果例２】\n",
        "科目を入力（国語 or 数学）＞数学\n",
        "点数＞50\n",
        "数学の点数は平均点未満\n",
        "\"\"\"\n",
        "# 国語の平均点は73点、数学の平均点は61点。\n",
        "# 科目と点数を入力して、平均点以上か未満かを判定して表示する\n"
      ],
      "metadata": {
        "id": "yQUZ17_ii2ZD"
      },
      "execution_count": null,
      "outputs": []
    },
    {
      "cell_type": "markdown",
      "metadata": {
        "id": "fOyJ7j-yfYuM"
      },
      "source": [
        "###【while文】\n",
        "- 条件がTrueのときに繰り返す制御文\n",
        "\n",
        "```python\n",
        "while 条件式:  \n",
        "    条件式がTrueのときに繰り返す文  \n",
        "else：                                   ← なくてもOK  \n",
        "    条件式がFalseのときに実行する文      ← なくてもOK \n",
        "```\n",
        "\n",
        "- 単体でelseを使う意味はあまりない\n",
        "- elseはbreakと組み合わせて使う"
      ]
    },
    {
      "cell_type": "code",
      "source": [
        "# 1～10までを表示する\n",
        "a = 1\n",
        "while a <= 10:\n",
        "    print(a, end=' ')    # 改行しないでスペース区切り\n",
        "    a += 1               # 「a++」は使えない"
      ],
      "metadata": {
        "id": "_GtJETeWoIHB"
      },
      "execution_count": null,
      "outputs": []
    },
    {
      "cell_type": "code",
      "source": [
        "# 10～1までを表示する\n",
        "a = 10\n",
        "while a >= 1:\n",
        "    print(a, end=' ')    # 改行しないでスペース区切り\n",
        "    a -= 1               # 「a--」は使えない"
      ],
      "metadata": {
        "id": "8E4yCmnK8IHi"
      },
      "execution_count": null,
      "outputs": []
    },
    {
      "cell_type": "code",
      "source": [
        "\"\"\"\n",
        "【練習問題６】\n",
        "コメントを参考に制御文を記述してprint関数で内容を表示してみましょう。\n",
        "\n",
        "【実行結果】\n",
        "1 2 3 4 5 6 7 8 9 10 合計: 55\n",
        "\"\"\"\n",
        "# 1～10までを合計する\n"
      ],
      "metadata": {
        "id": "KXktefOs7b7d"
      },
      "execution_count": null,
      "outputs": []
    },
    {
      "cell_type": "markdown",
      "metadata": {
        "id": "QjowVgxke3MV"
      },
      "source": [
        "####elseを使った例\n",
        "\n",
        "- elseはbreakと組み合わせて使うと効果的\n",
        "```python\n",
        "while 条件式:\n",
        "    文1\n",
        "    if 条件式:\n",
        "        文2\n",
        "        break\n",
        "    文3\n",
        "else:\n",
        "    文4\n",
        "```"
      ]
    },
    {
      "cell_type": "code",
      "source": [
        "# 繰り返し処理をbreakで抜けずに終ったときに特定の処理を\n",
        "# 実行したい場合にelseを利用する\n",
        "i = 0\n",
        "while i < 3:\n",
        "    a = int(input('値1＞'))\n",
        "    b = int(input('値2＞'))\n",
        "    if b == 0:\n",
        "        print('0で割り算できません')\n",
        "        break\n",
        "    c = a / b\n",
        "    print(c)\n",
        "    i += 1\n",
        "else:\n",
        "    print('3回正常に入力しました')  # breakで抜けなかったときだけ表示\n",
        "print('終了しました')"
      ],
      "metadata": {
        "id": "pgc0apyvpO_x"
      },
      "execution_count": null,
      "outputs": []
    },
    {
      "cell_type": "markdown",
      "metadata": {
        "id": "m--OkKjX8kfY"
      },
      "source": [
        "####無限ループ\n",
        "- if文とbreak文で無限ループを抜けるようにする\n",
        "```python\n",
        "while True:　　　　　# 無限ループ\n",
        "    文1\n",
        "    if 条件式:\n",
        "        文2\n",
        "        break　　　　 # ループを中断して抜ける\n",
        "```"
      ]
    },
    {
      "cell_type": "code",
      "source": [
        "# 'end'を入力するまで繰り返し文字列を入力する\n",
        "while True:\n",
        "    s = input('文字列＞')\n",
        "    print(s)\n",
        "    if s == 'end':\n",
        "        print('終了')\n",
        "        break"
      ],
      "metadata": {
        "id": "Pcr6dtTMqD0B"
      },
      "execution_count": null,
      "outputs": []
    },
    {
      "cell_type": "code",
      "source": [
        "\"\"\"\n",
        "【練習問題７】\n",
        "コメントを参考に制御文を記述してprint関数で内容を表示してみましょう。\n",
        "\n",
        "【実行結果例】\n",
        "整数値１ ＞1\n",
        "整数値２ ＞1\n",
        "整数値１ ＞2\n",
        "整数値２ ＞2\n",
        "整数値１ ＞3\n",
        "整数値２ ＞4\n",
        "終了！\n",
        "\"\"\"\n",
        "# 等しい値を入力する間、入力を繰り返す\n"
      ],
      "metadata": {
        "id": "Y_QpMrLP8cpJ"
      },
      "execution_count": null,
      "outputs": []
    },
    {
      "cell_type": "markdown",
      "metadata": {
        "id": "TYG8VnowFN02"
      },
      "source": [
        "####whileで後判定繰り返し\n",
        "- while文は前判定の繰り返し制御を行う\n",
        "- C言語などにある後判定繰り返しのdo～while文はpythonにはない\n",
        "- 後判定繰り返しはwhile文の無限ループで実現する\n"
      ]
    },
    {
      "cell_type": "code",
      "source": [
        "# 負数を入力するまで入力を繰り返す\n",
        "print('負で終了')\n",
        "while True:     # 無限ループ\n",
        "    n = int(input('整数値＞'))\n",
        "    print(n)\n",
        "    if n < 0:   # 後判定で終了\n",
        "        break"
      ],
      "metadata": {
        "id": "Th4T_SkSqt6y"
      },
      "execution_count": null,
      "outputs": []
    },
    {
      "cell_type": "code",
      "source": [
        "\"\"\"\n",
        "【練習問題８】\n",
        "コメントを参考に制御文を記述してprint関数で内容を表示してみましょう。\n",
        "\n",
        "【実行結果例】\n",
        "987 + 6543 ? ＞7430\n",
        "987 + 6543 ? ＞7530\n",
        "正解！\n",
        "\"\"\"\n",
        "# 正しい答えを入力するまで計算式を表示する\n"
      ],
      "metadata": {
        "id": "IPC4ATQR_bKY"
      },
      "execution_count": null,
      "outputs": []
    },
    {
      "cell_type": "markdown",
      "metadata": {
        "id": "50vcug003xms"
      },
      "source": [
        "###【for文】\n",
        "- リストやタプルなどのイテラブル（繰り返し可能なオブジェクト）から要素を順番に取り出すときによく使われる\n",
        "\n",
        "```python\n",
        "for 要素 in イテラブル:\n",
        "    処理\n",
        "```\n",
        "\n"
      ]
    },
    {
      "cell_type": "code",
      "source": [
        "# リストの要素を表示\n",
        "color = ['Red', 'Blue', 'White']\n",
        "print(color)    # まとめて表示\n",
        "\n",
        "# １つずつ表示\n",
        "for c in color:     # colorの要素を１つずつcに取り出す\n",
        "    print(c)"
      ],
      "metadata": {
        "id": "Z6OqUJIVrmph"
      },
      "execution_count": null,
      "outputs": []
    },
    {
      "cell_type": "code",
      "source": [
        "\"\"\"\n",
        "【練習問題９】\n",
        "コメントを参考に制御文を記述してprint関数で内容を表示してみましょう。\n",
        "\n",
        "【実行結果】\n",
        "Dog\n",
        "Cat\n",
        "Rabbit\n",
        "\"\"\"\n",
        "# 'Dog', 'Cat', 'Rabbit'が格納されたタプルの内容を順に表示する\n"
      ],
      "metadata": {
        "id": "QkIoafT_AavX"
      },
      "execution_count": null,
      "outputs": []
    },
    {
      "cell_type": "markdown",
      "metadata": {
        "id": "Tcjnf5og6vio"
      },
      "source": [
        "####range関数と併用する\n",
        "- 引数で指定された「初期値」から「終了値」未満の整数値を「ステップ」ごとに順番に返す\n",
        "```python\n",
        "range(初期値, 終了値, ステップ)\n",
        "```\n",
        "\n"
      ]
    },
    {
      "cell_type": "code",
      "source": [
        "lst = list(range(10, 30, 2))    # 10から30未満2刻みのリストを取得\n",
        "print(lst)  # そのまま表示すると[]で囲まれる"
      ],
      "metadata": {
        "id": "njABuSaFsa-w"
      },
      "execution_count": null,
      "outputs": []
    },
    {
      "cell_type": "code",
      "source": [
        "# forループとrange関数の組み合わせ\n",
        "for n in range(10, 30, 2):\n",
        "    print(n, end=' ')\n",
        "\n",
        "print()   # 改行\n",
        "\n",
        "for n in range(30):     # 0～29\n",
        "    print(n, end=' ')"
      ],
      "metadata": {
        "id": "YtKrOKIRs55h"
      },
      "execution_count": null,
      "outputs": []
    },
    {
      "cell_type": "code",
      "source": [
        "\"\"\"\n",
        "【練習問題10】\n",
        "コメントを参考に制御文を記述してprint関数で内容を表示してみましょう。\n",
        "\n",
        "【実行結果】\n",
        "10 15 20 25 30 35 40 45 \n",
        "\"\"\"\n",
        "# forループとrange関数の組み合わせ、10～50まで5おきに表示する\n"
      ],
      "metadata": {
        "id": "r53WdMlUBTiF"
      },
      "execution_count": null,
      "outputs": []
    },
    {
      "cell_type": "markdown",
      "metadata": {
        "id": "OicPeFgB3q3j"
      },
      "source": [
        "####forの2重ループ\n",
        "- forループの中にforループが入る\n",
        "```python\n",
        "for 変数 in イテラブル:\n",
        "    for 変数2 in イテラブル:\n",
        "```"
      ]
    },
    {
      "cell_type": "code",
      "source": [
        "# 1～100まで10個ずつ改行しながら表示\n",
        "n = 1;\n",
        "for i in range(10):\n",
        "    for j in range(10):\n",
        "        print('%3d' % n, end=' ')   # 3桁で表示\n",
        "        n += 1\n",
        "    print()\n"
      ],
      "metadata": {
        "id": "mUD_QJWHDAX-"
      },
      "execution_count": null,
      "outputs": []
    },
    {
      "cell_type": "code",
      "source": [
        "\"\"\"\n",
        "【練習問題11】\n",
        "コメントを参考に制御文を記述してprint関数で内容を表示してみましょう。\n",
        "\n",
        "【実行結果】\n",
        "  4   6   8  10  12  14  16  18 \n",
        "  6   9  12  15  18  21  24  27 \n",
        "  8  12  16  20  24  28  32  36 \n",
        " 10  15  20  25  30  35  40  45 \n",
        " 12  18  24  30  36  42  48  54 \n",
        " 14  21  28  35  42  49  56  63 \n",
        " 16  24  32  40  48  56  64  72 \n",
        " 18  27  36  45  54  63  72  81 \n",
        "\"\"\"\n",
        "# 九九を表示する\n"
      ],
      "metadata": {
        "id": "qOAtkPecud5P"
      },
      "execution_count": null,
      "outputs": []
    },
    {
      "cell_type": "code",
      "source": [
        "# 2次元リストの表示\n",
        "lst2 = [[1, 2, 3], [11, 12, 13], [21, 22, 23]]      # []で2重に囲む\n",
        "print(lst2)     # 丸ごと表示\n",
        "print()\n",
        "\n",
        "# 行単位で表示\n",
        "for i in lst2:\n",
        "    print(i)\n",
        "print()\n",
        "\n",
        "# 要素単位で表示\n",
        "for i in range(0, 3, 1):\n",
        "    for j in range(0, 3, 1):\n",
        "        print(lst2[i][j], end=' ')\n",
        "    print()\n"
      ],
      "metadata": {
        "id": "9zkoBtX0ywb9"
      },
      "execution_count": null,
      "outputs": []
    },
    {
      "cell_type": "markdown",
      "metadata": {
        "id": "6BCH1Gvl_l-X"
      },
      "source": [
        "###【break文】\n",
        "- ループ処理を途中で終了するときに使用する\n",
        "- 使用例は「while文」を参照のこと"
      ]
    },
    {
      "cell_type": "markdown",
      "metadata": {
        "id": "Edo69s6qAg1Y"
      },
      "source": [
        "###【continue文】\n",
        "- 繰り返し中に実行したくない文をスキップする"
      ]
    },
    {
      "cell_type": "code",
      "source": [
        "# 負数の入力をスキップする\n",
        "i = 0\n",
        "while i < 3:\n",
        "    n = int(input('整数値＞'))\n",
        "    if n < 0:\n",
        "        print('負は入力できません')\n",
        "        continue\n",
        "    print('n =', n)\n",
        "    i += 1"
      ],
      "metadata": {
        "id": "HFmEMJXrFS70"
      },
      "execution_count": null,
      "outputs": []
    },
    {
      "cell_type": "code",
      "source": [
        "\"\"\"\n",
        "【練習問題12】\n",
        "コメントを参考に制御文を記述してprint関数で内容を表示してみましょう。\n",
        "\n",
        "【実行結果例】\n",
        "整数値1＞1\n",
        "整数値2＞2\n",
        "0.5\n",
        "整数値1＞3\n",
        "整数値2＞0\n",
        "0で割り算できません\n",
        "整数値1＞3\n",
        "整数値2＞4\n",
        "0.75\n",
        "整数値1＞5\n",
        "整数値2＞6\n",
        "0.8333333333333334\n",
        "\"\"\"\n",
        "# 3回繰り返し割り算の結果を表示する。ただし、0での割り算はできない\n"
      ],
      "metadata": {
        "id": "g-Ad-j3n0-p9"
      },
      "execution_count": null,
      "outputs": []
    }
  ]
}