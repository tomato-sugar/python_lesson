{
  "nbformat": 4,
  "nbformat_minor": 0,
  "metadata": {
    "colab": {
      "provenance": [],
      "collapsed_sections": [],
      "include_colab_link": true
    },
    "kernelspec": {
      "name": "python3",
      "display_name": "Python 3"
    },
    "language_info": {
      "name": "python"
    }
  },
  "cells": [
    {
      "cell_type": "markdown",
      "metadata": {
        "id": "view-in-github",
        "colab_type": "text"
      },
      "source": [
        "<a href=\"https://colab.research.google.com/github/tomato-sugar/python_lesson/blob/main/python_basic/python_basic4_ans.ipynb\" target=\"_parent\"><img src=\"https://colab.research.google.com/assets/colab-badge.svg\" alt=\"Open In Colab\"/></a>"
      ]
    },
    {
      "cell_type": "markdown",
      "source": [
        "#2022年 東北TECH道場 郡山道場 第7期"
      ],
      "metadata": {
        "id": "bYZhUe3v9fFK"
      }
    },
    {
      "cell_type": "markdown",
      "metadata": {
        "id": "KFrOokfeuRpC"
      },
      "source": [
        "# Pythonの基礎（４）・・・練習問題解答例"
      ]
    },
    {
      "cell_type": "markdown",
      "metadata": {
        "id": "0J7RrkG6r2PN"
      },
      "source": [
        "##《関数》\n",
        "- まとまった処理は関数にすることで何度も呼び出すことができる  \n",
        "つまり同じコードを何度も書く必要がなくなる\n",
        "- 関数はdef文で定義する\n",
        "- 引数には変数だけではなくリストやタプル、辞書もそのまま渡せる\n",
        "```python\n",
        "def 関数名(引数1, 引数2, 引数3, ...):\n",
        "    処理\n",
        "    return 戻り値\n",
        "```\n"
      ]
    },
    {
      "cell_type": "markdown",
      "source": [
        "###【引数のない関数】"
      ],
      "metadata": {
        "id": "VKOTJ0SaoE-7"
      }
    },
    {
      "cell_type": "code",
      "source": [
        "# Hello world!を表示する関数\n",
        "def say_hello():  # ()内は書かない\n",
        "    print(\"Hello world!\")  # 行頭にインデントを挿入\n",
        "\n",
        "\n",
        "# 関数の呼び出し（何度でも呼び出し可能）\n",
        "say_hello()\n",
        "say_hello()\n",
        "say_hello()"
      ],
      "metadata": {
        "id": "Xoca0zchoKZe",
        "colab": {
          "base_uri": "https://localhost:8080/"
        },
        "outputId": "1a5d9143-7c01-4e3a-b5b3-7e75a21ad748"
      },
      "execution_count": 1,
      "outputs": [
        {
          "output_type": "stream",
          "name": "stdout",
          "text": [
            "Hello world!\n",
            "Hello world!\n",
            "Hello world!\n"
          ]
        }
      ]
    },
    {
      "cell_type": "code",
      "source": [
        "\"\"\"\n",
        "【練習問題１】\n",
        "コメントを参考に関数を作成しましょう。\n",
        "\n",
        "【実行結果】\n",
        "★☆★★☆★☆★☆★☆★☆★\n",
        "☆                        ☆\n",
        "★   ゲーム  スタート！   ★\n",
        "☆                        ☆\n",
        "★☆★★☆★☆★☆★☆★☆★\n",
        "\"\"\"\n",
        "# ゲームのオープニングを表示する関数opening\n",
        "def opening():\n",
        "    print(\"★☆★★☆★☆★☆★☆★☆★\")\n",
        "    print(\"☆                        ☆\")\n",
        "    print(\"★   ゲーム  スタート！   ★\")\n",
        "    print(\"☆                        ☆\")\n",
        "    print(\"★☆★★☆★☆★☆★☆★☆★\")\n",
        "\n",
        "\n",
        "# 関数の呼び出し\n",
        "opening()"
      ],
      "metadata": {
        "id": "xI8VJZ2hqGfi",
        "colab": {
          "base_uri": "https://localhost:8080/"
        },
        "outputId": "99e5b3c8-e41f-4ea6-bc97-3e679b9a8102"
      },
      "execution_count": 2,
      "outputs": [
        {
          "output_type": "stream",
          "name": "stdout",
          "text": [
            "★☆★★☆★☆★☆★☆★☆★\n",
            "☆                        ☆\n",
            "★   ゲーム  スタート！   ★\n",
            "☆                        ☆\n",
            "★☆★★☆★☆★☆★☆★☆★\n"
          ]
        }
      ]
    },
    {
      "cell_type": "markdown",
      "metadata": {
        "id": "ae7nKB-c01LF"
      },
      "source": [
        "###【関数に値を渡す】\n",
        "- 引数で値を渡すことができる"
      ]
    },
    {
      "cell_type": "code",
      "source": [
        "# 渡された文字列に*を付けて表示する関数\n",
        "def add_asterisk(s):  # sが引数\n",
        "    print(\"***\", s, \"***\")\n",
        "\n",
        "\n",
        "# 関数の呼び出し\n",
        "add_asterisk(\"Hello world!\")  # ()内に渡したい値を書く"
      ],
      "metadata": {
        "id": "OB1neLgzpXes",
        "colab": {
          "base_uri": "https://localhost:8080/"
        },
        "outputId": "8e64f7e6-6cb3-4932-dbc4-465050cb82a8"
      },
      "execution_count": 3,
      "outputs": [
        {
          "output_type": "stream",
          "name": "stdout",
          "text": [
            "*** Hello world! ***\n"
          ]
        }
      ]
    },
    {
      "cell_type": "code",
      "source": [
        "\"\"\"\n",
        "【練習問題２】\n",
        "コメントを参考に関数を作成しましょう。\n",
        "\n",
        "【実行結果】\n",
        "********************\n",
        "\n",
        "\"\"\"\n",
        "# 渡された整数の個数分の*を表示する関数print_asterisk\n",
        "def print_asterisk(n):\n",
        "    for n in range(n):\n",
        "        print(\"*\", end=\"\")\n",
        "    print()\n",
        "\n",
        "\n",
        "# 関数の呼び出し\n",
        "print_asterisk(20)"
      ],
      "metadata": {
        "id": "PTLxrFVnrBcL",
        "colab": {
          "base_uri": "https://localhost:8080/"
        },
        "outputId": "ee8d08ce-a74d-4f4c-d1ba-23067e08ac24"
      },
      "execution_count": 4,
      "outputs": [
        {
          "output_type": "stream",
          "name": "stdout",
          "text": [
            "********************\n"
          ]
        }
      ]
    },
    {
      "cell_type": "markdown",
      "source": [
        "###【関数から値を返す】\n",
        "- return文で、関数から外部に値を返すことができる"
      ],
      "metadata": {
        "id": "N65eZuPwsHx4"
      }
    },
    {
      "cell_type": "code",
      "source": [
        "# 三角形の面積を計算する関数\n",
        "def triangle_area(base, height):\n",
        "    area = base * height / 2\n",
        "    return area  # 面積を返却する\n",
        "\n",
        "\n",
        "# 関数の呼び出し\n",
        "area1 = triangle_area(15, 3)  # 返却値を=でarea1に代入する\n",
        "print(area1)\n",
        "print(triangle_area(10, 20))  # 返却値をそのままprint関数で表示"
      ],
      "metadata": {
        "id": "OZLXhFHw11LM",
        "colab": {
          "base_uri": "https://localhost:8080/"
        },
        "outputId": "4c5055bc-a11c-4cf5-a91e-4e85cd5911bb"
      },
      "execution_count": 5,
      "outputs": [
        {
          "output_type": "stream",
          "name": "stdout",
          "text": [
            "22.5\n",
            "100.0\n"
          ]
        }
      ]
    },
    {
      "cell_type": "code",
      "source": [
        "\"\"\"\n",
        "【練習問題３】\n",
        "コメントを参考に関数を作成しましょう。\n",
        "\n",
        "【実行結果】\n",
        "123\n",
        "20\n",
        "\"\"\"\n",
        "# 整数値を2つ入力し、大きいほうの値を返却する関数maxof\n",
        "def maxof(n1, n2):\n",
        "    if n1 >= n2:\n",
        "        return n1\n",
        "    else:\n",
        "        return n2\n",
        "\n",
        "\n",
        "# 関数の呼び出し\n",
        "m = maxof(123, 45)\n",
        "print(m)\n",
        "print(maxof(10, 20))"
      ],
      "metadata": {
        "id": "gWu6E1KRe4Y-",
        "colab": {
          "base_uri": "https://localhost:8080/"
        },
        "outputId": "813b12f1-12a7-4fb6-a0e7-e06e8e7b4a1c"
      },
      "execution_count": 6,
      "outputs": [
        {
          "output_type": "stream",
          "name": "stdout",
          "text": [
            "123\n",
            "20\n"
          ]
        }
      ]
    },
    {
      "cell_type": "markdown",
      "metadata": {
        "id": "qJ-O4Lwz3c0E"
      },
      "source": [
        "###【関数にリストを渡す】\n",
        "- 引数でリストを渡すことができる"
      ]
    },
    {
      "cell_type": "code",
      "source": [
        "# リストの合計を求める関数\n",
        "def sum_list(num_list):\n",
        "    sum = 0\n",
        "    for n in num_list:\n",
        "        sum += n\n",
        "    return sum\n",
        "\n",
        "\n",
        "# 関数の呼び出し\n",
        "list1 = [12, 44, 3, 999, 76]\n",
        "ans = sum_list(list1)\n",
        "print(ans)\n",
        "list2 = range(11)  # 0～10のリスト\n",
        "ans = sum_list(list2)\n",
        "print(ans)"
      ],
      "metadata": {
        "id": "2DAOfutg3FQN",
        "colab": {
          "base_uri": "https://localhost:8080/"
        },
        "outputId": "dcf69b49-e0c2-4cd1-cb95-e41adc9008f2"
      },
      "execution_count": 7,
      "outputs": [
        {
          "output_type": "stream",
          "name": "stdout",
          "text": [
            "1134\n",
            "55\n"
          ]
        }
      ]
    },
    {
      "cell_type": "code",
      "source": [
        "\"\"\"\n",
        "【練習問題４】\n",
        "コメントを参考に関数を作成しましょう。\n",
        "\n",
        "【実行結果】\n",
        "2\n",
        "10\n",
        "\"\"\"\n",
        "# リスト中の負数の数を返却するnegative_number_count関数\n",
        "def negative_number_count(num_list):\n",
        "    count = 0\n",
        "    for n in num_list:\n",
        "        if n < 0:\n",
        "            count += 1\n",
        "    return count\n",
        "\n",
        "\n",
        "# 関数の呼び出し\n",
        "list1 = [12, -44, 3, -999, 76]\n",
        "ans = negative_number_count(list1)\n",
        "print(ans)\n",
        "list2 = range(-10, 10)  # -10～10のリスト\n",
        "ans = negative_number_count(list2)\n",
        "print(ans)"
      ],
      "metadata": {
        "id": "UBaZ15gLhM70",
        "colab": {
          "base_uri": "https://localhost:8080/"
        },
        "outputId": "152bb482-59d7-4d8e-8adb-981c84e9e27d"
      },
      "execution_count": 8,
      "outputs": [
        {
          "output_type": "stream",
          "name": "stdout",
          "text": [
            "2\n",
            "10\n"
          ]
        }
      ]
    },
    {
      "cell_type": "markdown",
      "source": [
        "###【関数からリストを返す】\n",
        "- return文で、関数からリストを返すことができる"
      ],
      "metadata": {
        "id": "W5-kX_kujS7i"
      }
    },
    {
      "cell_type": "code",
      "source": [
        "# 偶数値のリストを返す関数\n",
        "def get_even_list(num_list):\n",
        "    n_list = []  # 空のリスト\n",
        "    for n in num_list:\n",
        "        if n % 2 == 0:\n",
        "            n_list.append(n)\n",
        "    return n_list\n",
        "\n",
        "\n",
        "# 関数の呼び出し\n",
        "list1 = [56, 89, 66, 37, 98, 77, 62, 82, 50, 71]\n",
        "ans = get_even_list(list1)\n",
        "print(ans)\n",
        "list2 = range(10, 100, 3)  # 10～99の3間隔のリスト\n",
        "ans = get_even_list(list2)\n",
        "print(ans)"
      ],
      "metadata": {
        "id": "AGlsl8tejbn6",
        "colab": {
          "base_uri": "https://localhost:8080/"
        },
        "outputId": "2491b539-c7cf-4ab4-f9fa-1015c8417d83"
      },
      "execution_count": 9,
      "outputs": [
        {
          "output_type": "stream",
          "name": "stdout",
          "text": [
            "[56, 66, 98, 62, 82, 50]\n",
            "[10, 16, 22, 28, 34, 40, 46, 52, 58, 64, 70, 76, 82, 88, 94]\n"
          ]
        }
      ]
    },
    {
      "cell_type": "code",
      "source": [
        "\"\"\"\n",
        "【練習問題５】\n",
        "コメントを参考に関数を作成しましょう。\n",
        "\n",
        "【実行結果】\n",
        "[62, 32, 705, 3.1333333333333333]\n",
        "0で割り算はできません\n",
        "[47, 47, 0, 0]\n",
        "\"\"\"\n",
        "# 整数値を2つ渡すと四則演算の結果をリストに返すarithmetic関数\n",
        "def arithmetic(x, y):\n",
        "    n_list = [x + y, x - y, x * y]\n",
        "    if y != 0:\n",
        "        n_list.append(x / y)\n",
        "    else:\n",
        "        print(\"0で割り算はできません\")\n",
        "        n_list.append(0)\n",
        "    return n_list\n",
        "\n",
        "\n",
        "# 関数の呼び出し\n",
        "ans = arithmetic(47, 15)\n",
        "print(ans)\n",
        "ans2 = arithmetic(47, 0)\n",
        "print(ans2)"
      ],
      "metadata": {
        "id": "VrhkT2C_mLFh",
        "colab": {
          "base_uri": "https://localhost:8080/"
        },
        "outputId": "abb413ba-ebb7-4b59-d4fd-4d4404962bfb"
      },
      "execution_count": 10,
      "outputs": [
        {
          "output_type": "stream",
          "name": "stdout",
          "text": [
            "[62, 32, 705, 3.1333333333333333]\n",
            "0で割り算はできません\n",
            "[47, 47, 0, 0]\n"
          ]
        }
      ]
    },
    {
      "cell_type": "markdown",
      "metadata": {
        "id": "x99dB6yD3maE"
      },
      "source": [
        "###【関数に辞書を渡す】\n",
        "- 引数で辞書を渡すことができる"
      ]
    },
    {
      "cell_type": "code",
      "source": [
        "# 色ごとに*を表示する関数\n",
        "def color_print(color, c):  # 引数は辞書とキー\n",
        "    # 指定のキーが辞書にあったら\n",
        "    if c in color:\n",
        "        r = color[c]  # キーから値を取り出す\n",
        "        for n in range(r):\n",
        "            print(\"*\", end=\"\")\n",
        "\n",
        "\n",
        "# 関数の呼び出し\n",
        "color = {\"Black\": 2, \"White\": 6, \"Red\": 15, \"Blue\": 12}\n",
        "color_print(color, \"Red\")\n",
        "print()\n",
        "color_print(color, \"White\")"
      ],
      "metadata": {
        "id": "S12vlIrL4s6K",
        "colab": {
          "base_uri": "https://localhost:8080/"
        },
        "outputId": "fd44109c-cf21-4e75-a0c5-4b427e75af7a"
      },
      "execution_count": 11,
      "outputs": [
        {
          "output_type": "stream",
          "name": "stdout",
          "text": [
            "***************\n",
            "******"
          ]
        }
      ]
    },
    {
      "cell_type": "markdown",
      "source": [
        "###【値渡しと参照渡し】\n",
        "- Pythonでは値をコピーして渡す値渡しではなく値が格納されている場所を渡す参照渡しが行われる\n",
        "- ただし、引数が数値や文字列のようなイミュータブル（変更不可）な場合は、内部でオブジェクトのコピーが行われ値渡しのような挙動になる\n",
        "- 引数がリストや辞書などのミュータブル（変更可能）なオブジェクトの場合には、参照渡しの挙動になる\n",
        "\n",
        "※ここの説明が詳しいです。  \n",
        "「Pythonの引数における参照渡しと値渡しについて」  \n",
        "https://www.javadrive.jp/python/userfunc/index3.html"
      ],
      "metadata": {
        "id": "R7-_OP_BR5Cm"
      }
    },
    {
      "cell_type": "code",
      "source": [
        "# 値渡しの挙動\n",
        "def value_func(n):\n",
        "    print(\"①\", n)\n",
        "    n += 1\n",
        "    print(\"②\", n)\n",
        "\n",
        "\n",
        "# 関数の呼び出し\n",
        "x = 10\n",
        "value_func(x)\n",
        "print(\"③\", x)  # 関数呼び出し後にxは変化しない"
      ],
      "metadata": {
        "id": "8pwOqqfjWOhC",
        "colab": {
          "base_uri": "https://localhost:8080/"
        },
        "outputId": "48728fc9-4aef-4fc5-cc61-dcbf0452eb93"
      },
      "execution_count": 12,
      "outputs": [
        {
          "output_type": "stream",
          "name": "stdout",
          "text": [
            "① 10\n",
            "② 11\n",
            "③ 10\n"
          ]
        }
      ]
    },
    {
      "cell_type": "code",
      "source": [
        "# 参照渡しの挙動\n",
        "def value_func(n):\n",
        "    print(\"①\", n)\n",
        "    n[0] += 1\n",
        "    print(\"②\", n)\n",
        "\n",
        "\n",
        "# 関数の呼び出し\n",
        "x = [1, 2, 3]\n",
        "value_func(x)\n",
        "print(\"③\", x)  # 関数呼び出し後にxが変化する"
      ],
      "metadata": {
        "id": "zLgXbwblW-WK",
        "colab": {
          "base_uri": "https://localhost:8080/"
        },
        "outputId": "753c93e8-da94-40da-8848-ddd658192dc5"
      },
      "execution_count": 13,
      "outputs": [
        {
          "output_type": "stream",
          "name": "stdout",
          "text": [
            "① [1, 2, 3]\n",
            "② [2, 2, 3]\n",
            "③ [2, 2, 3]\n"
          ]
        }
      ]
    },
    {
      "cell_type": "markdown",
      "metadata": {
        "id": "YBm5mf-hgEDG"
      },
      "source": [
        "###【関数とメソッドの違い】\n",
        "- 関数名()　でアクセスするのは関数\n",
        "- インスタンス名.メソッド名() でアクセスするのはメソッド"
      ]
    },
    {
      "cell_type": "code",
      "source": [
        "# 辞書\n",
        "color = {\"Black\": 2, \"White\": 4, \"Red\": 5, \"Blue\": 3}\n",
        "\n",
        "# len関数 要素数を取得\n",
        "print(len(color))\n",
        "\n",
        "# setdefaultメソッド キーと値の追加\n",
        "color.setdefault(\"Pink\", 7)\n",
        "print(color)"
      ],
      "metadata": {
        "id": "K-yvsivY6zca",
        "colab": {
          "base_uri": "https://localhost:8080/"
        },
        "outputId": "08c6cf75-c5fd-4b4d-fd6b-cbc69b7a1f91"
      },
      "execution_count": 14,
      "outputs": [
        {
          "output_type": "stream",
          "name": "stdout",
          "text": [
            "4\n",
            "{'Black': 2, 'White': 4, 'Red': 5, 'Blue': 3, 'Pink': 7}\n"
          ]
        }
      ]
    },
    {
      "cell_type": "markdown",
      "source": [
        "※ 2022/06/06 追記\n",
        "###【main関数】\n",
        "- Pythonではmain関数は必須ではなく、慣例的に用いられる場合がある\n",
        "- 「main」という名前も慣例的、必ずしもこの名前にする必要はない  \n",
        "※でも、慣例には従うほうが無難です  \n",
        "\n",
        "- main関数の書き方  \n",
        "\n",
        "```python\n",
        "#返り値無し、引数無しmain関数\n",
        "def main():\n",
        "    print(\"Hello World\")\n",
        "\n",
        "\n",
        "if __name__ == \"__main__\":\n",
        "    main()\n",
        "```\n",
        "  \n",
        "```python\n",
        "#終了ステータスを返すmain関数\n",
        "import sys\n",
        "\n",
        "\n",
        "def main():\n",
        "    print(\"Hello World\")\n",
        "    return 0\n",
        "\n",
        "\n",
        "if __name__ == \"__main__\":\n",
        "    sys.exit(main())\n",
        "```\n",
        "\n",
        "```python\n",
        "#終了ステータス、引数ありのmain関数\n",
        "import sys\n",
        "\n",
        "\n",
        "def main(argv):\n",
        "    print(\"Hello World\")\n",
        "    return 0\n",
        "\n",
        "\n",
        "if __name__ == \"__main__\":\n",
        "    sys.exit(main(sys.argv))\n",
        "```\n",
        "- if ＿name＿ == '＿main＿': の意味は、このあたりを参照してください。  \n",
        "https://techacademy.jp/magazine/19129\n"
      ],
      "metadata": {
        "id": "oI3XpwcuTVs0"
      }
    },
    {
      "cell_type": "code",
      "source": [
        "def main():\n",
        "    print(\"main 関数で表示\")\n",
        "    func1()\n",
        "    func2()\n",
        "\n",
        "\n",
        "def func1():\n",
        "    print(\"func1関数で表示\")\n",
        "\n",
        "\n",
        "def func2():\n",
        "    print(\"func2関数で表示\")\n",
        "\n",
        "\n",
        "if __name__ == \"__main__\":\n",
        "    main()"
      ],
      "metadata": {
        "colab": {
          "base_uri": "https://localhost:8080/"
        },
        "id": "R9xqCWXi7GEZ",
        "outputId": "0cd436f2-7618-4a0a-b5e8-6c4b1ffeb40b"
      },
      "execution_count": 15,
      "outputs": [
        {
          "output_type": "stream",
          "name": "stdout",
          "text": [
            "main 関数で表示\n",
            "func1関数で表示\n",
            "func2関数で表示\n"
          ]
        }
      ]
    }
  ]
}