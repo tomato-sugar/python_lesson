{
  "nbformat": 4,
  "nbformat_minor": 0,
  "metadata": {
    "colab": {
      "provenance": [],
      "include_colab_link": true
    },
    "kernelspec": {
      "name": "python3",
      "display_name": "Python 3"
    },
    "language_info": {
      "name": "python"
    }
  },
  "cells": [
    {
      "cell_type": "markdown",
      "metadata": {
        "id": "view-in-github",
        "colab_type": "text"
      },
      "source": [
        "<a href=\"https://colab.research.google.com/github/tomato-sugar/python_lesson/blob/main/python_basic/python_basic1_ans.ipynb\" target=\"_parent\"><img src=\"https://colab.research.google.com/assets/colab-badge.svg\" alt=\"Open In Colab\"/></a>"
      ]
    },
    {
      "cell_type": "markdown",
      "source": [
        "#2022年 東北TECH道場 郡山道場 第7期"
      ],
      "metadata": {
        "id": "bYZhUe3v9fFK"
      }
    },
    {
      "cell_type": "markdown",
      "metadata": {
        "id": "KFrOokfeuRpC"
      },
      "source": [
        "# Pythonの基礎（１）・・・練習問題解答例"
      ]
    },
    {
      "cell_type": "markdown",
      "metadata": {
        "id": "hbsQLonJ-08E"
      },
      "source": [
        "##《Pythonの特徴》\n",
        "\n",
        "- コードの記述がシンプル  \n",
        "    - セミコロンや{}が不要\n",
        "    - インデントで構文を識別\n",
        "- オブジェクト指向言語\n",
        "- スプリクト言語なのでコンパイルが不要\n",
        "- ライブラリが多い  \n",
        "    - 画像処理\n",
        "    - 音声処理\n",
        "    - 数値計算\n",
        "    - 統計処理 など\n",
        "- AI分野の外部ライブラリが充実  \n",
        "    - TensorFlow（Google）\n",
        "    - PyTorch（Facebook）など\n",
        "- 欠点は実行速度が遅いこと"
      ]
    },
    {
      "cell_type": "markdown",
      "metadata": {
        "id": "N0eujmXHua3r"
      },
      "source": [
        "##《コメントの書き方》\n",
        "- 「#」で始めると行コメント\n",
        "- 「\"\"\"」か「'''」で囲むと複数コメント"
      ]
    },
    {
      "cell_type": "code",
      "source": [
        "# で始めると行コメント\n",
        "\"\"\"\n",
        "で囲むと複数行コメントになる\n",
        "シングルクォーテーション3個でもOK\n",
        "\"\"\"\n",
        "'''\n",
        "コードを実行するには、▶をクリックするか、\n",
        "「Cntl+Enter」キー\n",
        "'''\n",
        "print('コメントは実行されない')"
      ],
      "metadata": {
        "id": "T4hEXgZXqlek",
        "colab": {
          "base_uri": "https://localhost:8080/"
        },
        "outputId": "ed72fe93-511c-4d2f-9f87-806169a9a3e9"
      },
      "execution_count": null,
      "outputs": [
        {
          "output_type": "stream",
          "name": "stdout",
          "text": [
            "コメントは実行されない\n"
          ]
        }
      ]
    },
    {
      "cell_type": "code",
      "source": [
        "\"\"\"\n",
        "【練習問題１】\n",
        "次の文にコメントを付けてください。\n",
        "\n",
        "【実行結果】\n",
        "東北TECH道場 郡山道場\n",
        "\"\"\"\n",
        "# print関数で表示する\n",
        "print('東北TECH道場 郡山道場')\n"
      ],
      "metadata": {
        "id": "pqhlVjdSxNTh",
        "colab": {
          "base_uri": "https://localhost:8080/"
        },
        "outputId": "2d474355-3d03-4f1b-e52b-7710e6bf1826"
      },
      "execution_count": null,
      "outputs": [
        {
          "output_type": "stream",
          "name": "stdout",
          "text": [
            "東北TECH道場 郡山道場\n"
          ]
        }
      ]
    },
    {
      "cell_type": "markdown",
      "metadata": {
        "id": "NgB5Z2PNKHKz"
      },
      "source": [
        "##《変数とデータ型》\n",
        "### 【変数】\n",
        "- Pythonは動的型付き言語で変数宣言をする必要がない。\n",
        "- 変数名と値をイコールで結べばそのまま変数として使用できる。\n",
        "- 変数名には、アルファベットの他に_（アンダーバー）や数字を使うこともできる。  \n",
        "  ただし、変数名の先頭を数字にすることはできない。\n",
        "\n",
        "### 【Pythonのデータ型】\n",
        "- int型：整数型\n",
        "- float型：浮動小数点型\n",
        "- str型：文字列型\n",
        "- bool型：論理型\n",
        "- list型：リスト\n",
        "- tuple型：タプル\n",
        "- dict型：辞書"
      ]
    },
    {
      "cell_type": "code",
      "source": [
        "# 変数は必ず初期化してから使用する\n",
        "# 代入した値の型で動的に決まる\n",
        "a = 1       # 1を代入すれば整数型になる\n",
        "x = 1.23    # 1.23を代入すれば浮動小数点型になる\n",
        "print(a)\n",
        "print(x)\n",
        "\n",
        "# 文字列型はシングルまたはダブルクォーテーションで囲む\n",
        "s1 = 'aaa'  # シングルクォーテーションで囲んでも\n",
        "s2 = \"bbb\"  # ダブルクォーテーションで囲んでもどちらでもいい\n",
        "print(s1)\n",
        "print(s2)\n",
        "s3 = \"cc'ddd'cc\"    # 混在するときは順番に注意\n",
        "print(s3)\n",
        "\n",
        "# 論理型はTrueかFalseのみを扱う\n",
        "flg = True\n",
        "print(flg)"
      ],
      "metadata": {
        "id": "QaHP89jysrvL",
        "colab": {
          "base_uri": "https://localhost:8080/"
        },
        "outputId": "94eafdaa-5611-40c8-edaf-a8f66163a18b"
      },
      "execution_count": null,
      "outputs": [
        {
          "output_type": "stream",
          "name": "stdout",
          "text": [
            "1\n",
            "1.23\n",
            "aaa\n",
            "bbb\n",
            "cc'ddd'cc\n",
            "True\n"
          ]
        }
      ]
    },
    {
      "cell_type": "code",
      "source": [
        "# ↑で使用している型を確認する\n",
        "\n",
        "# 型の確認にはtype関数を使用する\n",
        "print(type(a))\n",
        "print(type(x))\n",
        "print(type(s1))\n",
        "print(type(s2))\n",
        "print(type(flg))\n",
        "\n",
        "# 動的型付き言語は途中で型が変更可能である\n",
        "a = 'change'\n",
        "print(type(a))      # 整数型から文字列型になる"
      ],
      "metadata": {
        "id": "kWCtWMk-xDNE",
        "colab": {
          "base_uri": "https://localhost:8080/"
        },
        "outputId": "29ea2518-e268-45ea-fece-abe15d88faa9"
      },
      "execution_count": null,
      "outputs": [
        {
          "output_type": "stream",
          "name": "stdout",
          "text": [
            "<class 'int'>\n",
            "<class 'float'>\n",
            "<class 'str'>\n",
            "<class 'str'>\n",
            "<class 'bool'>\n",
            "<class 'str'>\n"
          ]
        }
      ]
    },
    {
      "cell_type": "code",
      "source": [
        "\"\"\"\n",
        "【練習問題２】\n",
        "コメントを参考に変数を記述してprint関数で内容を表示してみましょう。\n",
        "\n",
        "【実行結果】\n",
        "123\n",
        "Blue\n",
        "False\n",
        "<class 'float'>\n",
        "\"\"\"\n",
        "# 変数nに123という値を代入して表示\n",
        "n = 123\n",
        "print(n)\n",
        "\n",
        "# 変数colorに文字列Blueを代入して表示\n",
        "color = 'Blue'\n",
        "print(color)\n",
        "\n",
        "# 変数ynにFalseを代入して表示\n",
        "yn = False\n",
        "print(yn)\n",
        "\n",
        "# 変数nに123.45を代入してから型を調べる\n",
        "n = 123.45\n",
        "print(type(n))"
      ],
      "metadata": {
        "id": "qKyO0NPIob-u",
        "colab": {
          "base_uri": "https://localhost:8080/"
        },
        "outputId": "616a7c53-73ca-488e-a8aa-3550da167aa8"
      },
      "execution_count": null,
      "outputs": [
        {
          "output_type": "stream",
          "name": "stdout",
          "text": [
            "123\n",
            "Blue\n",
            "False\n",
            "<class 'float'>\n"
          ]
        }
      ]
    },
    {
      "cell_type": "markdown",
      "metadata": {
        "id": "r5UwIiQZueR_"
      },
      "source": [
        "###【データ型の変換】\n",
        "データ型を変換するには関数を使う。\n",
        "- float関数　整数型 → 実数型　や　文字列型 → 実数型　\n",
        "- int関数　実数型 → 整数型　や　文字列型 → 整数型\n",
        "- str関数　整数型 → 文字列型　実数型 → 文字列型\n"
      ]
    },
    {
      "cell_type": "code",
      "source": [
        "# 整数型から浮動小数点型\n",
        "x = float(10)\n",
        "print(x)\n",
        "\n",
        "# 浮動小数点型から整数型（小数点以下切り捨て）\n",
        "a = int(123.456)\n",
        "print(a)\n",
        "print(int(456.789))\n",
        "\n",
        "# 整数型から文字列型\n",
        "print(str(10)+str(20))"
      ],
      "metadata": {
        "id": "Gww4FOYuvc7a",
        "colab": {
          "base_uri": "https://localhost:8080/"
        },
        "outputId": "8df165f1-1151-4001-cd54-87cdc14c5fc4"
      },
      "execution_count": null,
      "outputs": [
        {
          "output_type": "stream",
          "name": "stdout",
          "text": [
            "10.0\n",
            "123\n",
            "456\n",
            "1020\n"
          ]
        }
      ]
    },
    {
      "cell_type": "code",
      "source": [
        "\"\"\"\n",
        "【練習問題３】\n",
        "コメントを参考に型変換を行いprint関数で内容を表示してみましょう。\n",
        "\n",
        "【実行結果】\n",
        "100\n",
        "345\n",
        "\"\"\"\n",
        "# 変数cに100を代入し、文字列型に変換してから変数sに代入して表示する\n",
        "c = 100\n",
        "s = str(c)\n",
        "print(s)\n",
        "\n",
        "# 変数zに345.6を代入し、整数型に変換してから変数aに代入して表示する\n",
        "z = 345.6\n",
        "a = int(z)\n",
        "print(a)"
      ],
      "metadata": {
        "id": "NpRf7UySuLmS",
        "colab": {
          "base_uri": "https://localhost:8080/"
        },
        "outputId": "cb8139dc-eb05-456f-a9b0-10b7d9e752a0"
      },
      "execution_count": null,
      "outputs": [
        {
          "output_type": "stream",
          "name": "stdout",
          "text": [
            "100\n",
            "345\n"
          ]
        }
      ]
    },
    {
      "cell_type": "markdown",
      "source": [
        "##《画面出力とキー入力》"
      ],
      "metadata": {
        "id": "GP4QAuMVwX17"
      }
    },
    {
      "cell_type": "markdown",
      "source": [
        "###【print関数】\n",
        "- 標準出力（画面出力）を行う"
      ],
      "metadata": {
        "id": "GP3VjF49wdvb"
      }
    },
    {
      "cell_type": "code",
      "source": [
        "# 出力後改行\n",
        "x = 12.3\n",
        "print('x = ', x)        # 文字列と数値はカンマで連結\n",
        "print('x' + ' = ', x)   # 文字列どうしは+で連結\n",
        "\n",
        "# endコードで改行しない\n",
        "a = 45\n",
        "print('a = ', end='')   # endに空文字\n",
        "print(a)\n",
        "\n",
        "# 改行だけ\n",
        "print()\n",
        "print()\n",
        "\n",
        "# 区切り文字で区切って改行しない\n",
        "print('x', end=', ')\n",
        "print(x)"
      ],
      "metadata": {
        "id": "XcfFwvd2wbCz",
        "colab": {
          "base_uri": "https://localhost:8080/"
        },
        "outputId": "e415e9a3-4d80-4dd2-fdf4-e6acf69ee46e"
      },
      "execution_count": null,
      "outputs": [
        {
          "output_type": "stream",
          "name": "stdout",
          "text": [
            "x =  12.3\n",
            "x =  12.3\n",
            "a = 45\n",
            "\n",
            "\n",
            "x, 12.3\n"
          ]
        }
      ]
    },
    {
      "cell_type": "code",
      "source": [
        "\"\"\"\n",
        "【練習問題４】\n",
        "コメントを参考にprint関数で値を表示してみましょう。\n",
        "\n",
        "【実行結果】\n",
        "\n",
        "\n",
        "\n",
        "a =  123 b =  456\n",
        "a + b = 579\n",
        "\"\"\"\n",
        "# 改行だけ3行表示する\n",
        "print()\n",
        "print()\n",
        "print()\n",
        "\n",
        "# 変数aとbに代入した値と加算結果を表示する\n",
        "a = 123\n",
        "b = 456\n",
        "print('a = ', a, 'b = ', b)\n",
        "print('a + b =', a + b)"
      ],
      "metadata": {
        "id": "nU0tb0uhxm0T",
        "colab": {
          "base_uri": "https://localhost:8080/"
        },
        "outputId": "c1a28e4f-34fb-4dff-8ae9-6e5fbb0c3d45"
      },
      "execution_count": null,
      "outputs": [
        {
          "output_type": "stream",
          "name": "stdout",
          "text": [
            "\n",
            "\n",
            "\n",
            "a =  123 b =  456\n",
            "a + b = 579\n"
          ]
        }
      ]
    },
    {
      "cell_type": "markdown",
      "source": [
        "###【input関数】\n",
        "- 標準入力を行う"
      ],
      "metadata": {
        "id": "nwwREZbtzcBA"
      }
    },
    {
      "cell_type": "code",
      "source": [
        "s = input(\"文字列＞\")   # 「文字列＞」と表示してからsに入力\n",
        "print(s)"
      ],
      "metadata": {
        "id": "x_XOPOX-zgPM",
        "colab": {
          "base_uri": "https://localhost:8080/"
        },
        "outputId": "8c7761d6-1b01-4eea-cbf4-85cbb4a8a2c4"
      },
      "execution_count": null,
      "outputs": [
        {
          "output_type": "stream",
          "name": "stdout",
          "text": [
            "文字列＞Python\n",
            "Python\n"
          ]
        }
      ]
    },
    {
      "cell_type": "code",
      "source": [
        "\"\"\"\n",
        "【練習問題５】\n",
        "コメントを参考にprint関数で値を表示してみましょう。\n",
        "\n",
        "【実行結果】\n",
        "文字列１＞cherry\n",
        "文字列２＞blossom\n",
        "連結文字列 =cherryblossom\n",
        "\"\"\"\n",
        "# 「文字列１＞」と表示してから変数s1に文字列を入力\n",
        "# 「文字列２＞」と表示してから変数s2に文字列を入力\n",
        "# 文字列１と文字列２を連結して表示する\n",
        "s1 = input('文字列１＞')\n",
        "s2 = input('文字列２＞')\n",
        "print('連結文字列 =' + s1 + s2)"
      ],
      "metadata": {
        "id": "J-4xpJDFwmPb",
        "colab": {
          "base_uri": "https://localhost:8080/"
        },
        "outputId": "120e32e0-bfcf-4cb9-dc91-4551678f0344"
      },
      "execution_count": null,
      "outputs": [
        {
          "output_type": "stream",
          "name": "stdout",
          "text": [
            "文字列１＞cherry\n",
            "文字列２＞blossom\n",
            "連結文字列 =cherryblossom\n"
          ]
        }
      ]
    },
    {
      "cell_type": "code",
      "source": [
        "# input関数で入力すると値は文字列型になる\n",
        "s = input(\"＞\")\n",
        "print(s, 'は', type(s))\n",
        "\n",
        "# 入力値を整数値として使用するにはint関数で変換が必要\n",
        "n = int(input(\"＞\"))\n",
        "print(n, 'は', type(n))\n",
        "\n",
        "# 入力値を浮動小数点値として使用するにはfloat関数で変換が必要\n",
        "x = float(input(\"＞\"))\n",
        "print(x, 'は', type(x))\n"
      ],
      "metadata": {
        "id": "dXeHu5CS07xX",
        "colab": {
          "base_uri": "https://localhost:8080/"
        },
        "outputId": "3549c994-eed2-4304-9cee-2dea29b78544"
      },
      "execution_count": null,
      "outputs": [
        {
          "output_type": "stream",
          "name": "stdout",
          "text": [
            "＞123\n",
            "123 は <class 'str'>\n",
            "＞123\n",
            "123 は <class 'int'>\n",
            "＞123\n",
            "123.0 は <class 'float'>\n"
          ]
        }
      ]
    },
    {
      "cell_type": "code",
      "source": [
        "\"\"\"\n",
        "【練習問題６】\n",
        "コメントを参考にprint関数で値を表示してみましょう。\n",
        "\n",
        "【実行結果】\n",
        "整数値１＞123\n",
        "整数値２＞456\n",
        "加算結果 = 579\n",
        "\"\"\"\n",
        "# 「整数値１＞」と表示してから変数n1に整数値を入力\n",
        "# 「整数値２＞」と表示してから変数n2に整数値を入力\n",
        "# n1とn2を加算して表示する\n",
        "n1 = int(input('整数値１＞'))\n",
        "n2 = int(input('整数値２＞'))\n",
        "print('加算結果 =', n1 + n2)"
      ],
      "metadata": {
        "id": "aPLTFfHs1uC_",
        "colab": {
          "base_uri": "https://localhost:8080/"
        },
        "outputId": "6e1fe376-afe9-46ca-9d76-3c89e41b5711"
      },
      "execution_count": null,
      "outputs": [
        {
          "output_type": "stream",
          "name": "stdout",
          "text": [
            "整数値１＞123\n",
            "整数値２＞456\n",
            "加算結果 = 579\n"
          ]
        }
      ]
    },
    {
      "cell_type": "markdown",
      "metadata": {
        "id": "W8QUJnk-Ojhp"
      },
      "source": [
        "##《演算子》\n",
        "Pythonでは、以下のような演算子が利用できる。"
      ]
    },
    {
      "cell_type": "markdown",
      "metadata": {
        "id": "NSIlT8dR3Bkf"
      },
      "source": [
        "###【単純代入演算子】\n",
        "- 右辺の値を左辺の変数などに代入する"
      ]
    },
    {
      "cell_type": "code",
      "source": [
        "# 単純代入演算子\n",
        "a = 10\n",
        "print(a)\n",
        "x = 3.14\n",
        "print(x)"
      ],
      "metadata": {
        "id": "GV42QLfWuKLX",
        "colab": {
          "base_uri": "https://localhost:8080/"
        },
        "outputId": "34c0c2c9-1c7e-441d-b9ad-ed9fef4c32dc"
      },
      "execution_count": null,
      "outputs": [
        {
          "output_type": "stream",
          "name": "stdout",
          "text": [
            "10\n",
            "3.14\n"
          ]
        }
      ]
    },
    {
      "cell_type": "markdown",
      "metadata": {
        "id": "U5hGvTGl3hNN"
      },
      "source": [
        "###【算術演算子】\n",
        "- 以下のものが利用できる  \n",
        "\n",
        "||||\n",
        "|:-:|:-:|:--|\n",
        "|| \\+ | 加算 |\n",
        "||- | 減算 |\n",
        "|| * | 乗算 |\n",
        "|| / | 除算（小数） |\n",
        "|| // | 除算（整数） |\n",
        "|| % | 剰余算 |\n",
        "||||"
      ]
    },
    {
      "cell_type": "code",
      "source": [
        "# +演算子\n",
        "a = 1\n",
        "a = a + 1               # 加算\n",
        "print(a)\n",
        "\n",
        "b = a + 10              # 加算\n",
        "print(b)\n",
        "\n",
        "ch = 'Some' + 'Day'     # 文字列の連結\n",
        "print(ch)"
      ],
      "metadata": {
        "id": "YkGhbVQyu9Yk",
        "colab": {
          "base_uri": "https://localhost:8080/"
        },
        "outputId": "9721ffa6-a3e8-420e-ffed-7fd579d68add"
      },
      "execution_count": null,
      "outputs": [
        {
          "output_type": "stream",
          "name": "stdout",
          "text": [
            "2\n",
            "12\n",
            "SomeDay\n"
          ]
        }
      ]
    },
    {
      "cell_type": "code",
      "source": [
        "\"\"\"\n",
        "【練習問題７】\n",
        "コメントを参考に演算を行いprint関数で内容を表示してみましょう。\n",
        "\n",
        "【実行結果】\n",
        "s3 = yellowgreen\n",
        "\"\"\"\n",
        "# 変数s1に文字列yellowを代入する\n",
        "# 変数s2に文字列greenを代入する\n",
        "# 変数s3にs1とs2を連結して表示する\n",
        "s1 = 'yellow'\n",
        "s2 ='green'\n",
        "s3 = s1 + s2\n",
        "print('s3 =',s3)"
      ],
      "metadata": {
        "id": "Vyq9t1jJq7pi",
        "colab": {
          "base_uri": "https://localhost:8080/"
        },
        "outputId": "10eb0ed2-c512-4a8e-daf4-927411f7fdf9"
      },
      "execution_count": null,
      "outputs": [
        {
          "output_type": "stream",
          "name": "stdout",
          "text": [
            "s3 = yellowgreen\n"
          ]
        }
      ]
    },
    {
      "cell_type": "code",
      "source": [
        "# -演算子\n",
        "b = a - 5       # 減算\n",
        "print(b)\n",
        "\n",
        "b = -b          # 符号の反転\n",
        "print(b)"
      ],
      "metadata": {
        "id": "G2Fdid-Avf0L",
        "colab": {
          "base_uri": "https://localhost:8080/"
        },
        "outputId": "bb4586ab-1406-4fc6-e40d-e741d96eb3fb"
      },
      "execution_count": null,
      "outputs": [
        {
          "output_type": "stream",
          "name": "stdout",
          "text": [
            "-3\n",
            "3\n"
          ]
        }
      ]
    },
    {
      "cell_type": "code",
      "source": [
        "\"\"\"\n",
        "【練習問題８】\n",
        "コメントを参考に演算を行いprint関数で内容を表示してみましょう。\n",
        "\n",
        "【実行結果】\n",
        "整数値＞ 10\n",
        "x = -10\n",
        "x = 8\n",
        "\"\"\"\n",
        "# 変数xに整数値を入力し、符号を反転して表示する\n",
        "x = int(input('整数値＞ '))\n",
        "print('x =', -x)\n",
        "\n",
        "# 更に2を減じて表示する\n",
        "x = x - 2\n",
        "print('x =', x)"
      ],
      "metadata": {
        "id": "81Y5yr07v7Cj",
        "colab": {
          "base_uri": "https://localhost:8080/"
        },
        "outputId": "98a7be9b-ddc3-476d-8613-3eb422cbcb2c"
      },
      "execution_count": null,
      "outputs": [
        {
          "output_type": "stream",
          "name": "stdout",
          "text": [
            "整数値＞ 10\n",
            "x = -10\n",
            "x = 8\n"
          ]
        }
      ]
    },
    {
      "cell_type": "code",
      "source": [
        "# *演算子\n",
        "c = a * b       # 乗算\n",
        "print(c)"
      ],
      "metadata": {
        "id": "4CM05-jJwCwK",
        "colab": {
          "base_uri": "https://localhost:8080/"
        },
        "outputId": "34b188ca-9e4c-449f-8c53-7f3dcd9b2f24"
      },
      "execution_count": null,
      "outputs": [
        {
          "output_type": "stream",
          "name": "stdout",
          "text": [
            "6\n"
          ]
        }
      ]
    },
    {
      "cell_type": "code",
      "source": [
        "\"\"\"\n",
        "【練習問題９】\n",
        "コメントを参考に演算を行いprint関数で内容を表示してみましょう。\n",
        "\n",
        "【実行結果】\n",
        "横幅＞5\n",
        "高さ＞7\n",
        "面積 = 35\n",
        "\"\"\"\n",
        "# 横幅と高さを入力し、長方形の面積を求める\n",
        "w = int(input('横幅＞'))\n",
        "h = int(input('高さ＞'))\n",
        "r = w * h\n",
        "print('面積 =', r) "
      ],
      "metadata": {
        "id": "NniRRZdUyHD1",
        "colab": {
          "base_uri": "https://localhost:8080/"
        },
        "outputId": "7d50114e-2913-4c5b-f697-67ed052bbf94"
      },
      "execution_count": null,
      "outputs": [
        {
          "output_type": "stream",
          "name": "stdout",
          "text": [
            "横幅＞5\n",
            "高さ＞7\n",
            "面積 = 35\n"
          ]
        }
      ]
    },
    {
      "cell_type": "code",
      "source": [
        "# /演算子\n",
        "c1 = b / 4      # 小数点以下を計算\n",
        "print(c1, type(c1))     # 浮動小数点型\n",
        "\n",
        "c2 = b // 4     # 小数点以下を丸める\n",
        "c22 = 6 // 4\n",
        "print(c2, type(c2))     # 整数型\n",
        "print(c22, type(c22))   # 整数型\n",
        "\n",
        "c3 = 10.2 / 3.1 # 小数点以下を計算\n",
        "print(c3, type(c3))     # 浮動小数点型\n",
        "\n",
        "c4 = 10.2 // 3.1 # 小数点以下を切り捨て\n",
        "print(c4, type(c4))     # 浮動小数点型"
      ],
      "metadata": {
        "id": "frunr7Z0wV9K",
        "colab": {
          "base_uri": "https://localhost:8080/"
        },
        "outputId": "13879fb2-2e22-4de6-f572-4a27e1e49c8b"
      },
      "execution_count": null,
      "outputs": [
        {
          "output_type": "stream",
          "name": "stdout",
          "text": [
            "0.75 <class 'float'>\n",
            "0 <class 'int'>\n",
            "1 <class 'int'>\n",
            "3.290322580645161 <class 'float'>\n",
            "3.0 <class 'float'>\n"
          ]
        }
      ]
    },
    {
      "cell_type": "code",
      "source": [
        "\"\"\"\n",
        "【練習問題10】\n",
        "コメントを参考に演算を行いprint関数で内容を表示してみましょう。\n",
        "\n",
        "【実行結果】\n",
        "半径＞513.3\n",
        "半円の面積 = 413868.0\n",
        "\"\"\"\n",
        "# 半径rを入力し、半円の面積を小数点以下を丸めて表示する\n",
        "import math\n",
        "pi = math.pi     # π\n",
        "r = float(input('半径＞')) # 513.3\n",
        "S = r * r * pi // 2.0\n",
        "print('半円の面積 =', S)"
      ],
      "metadata": {
        "id": "woWmnjKC4B29",
        "colab": {
          "base_uri": "https://localhost:8080/"
        },
        "outputId": "bac07234-381b-44a4-cebe-e38ed3798a38"
      },
      "execution_count": null,
      "outputs": [
        {
          "output_type": "stream",
          "name": "stdout",
          "text": [
            "半径＞513.3\n",
            "半円の面積 = 413868.0\n"
          ]
        }
      ]
    },
    {
      "cell_type": "code",
      "source": [
        "# %演算子\n",
        "d = 10 % 3      # 割った余り\n",
        "print(d)"
      ],
      "metadata": {
        "id": "5Vxe6pRxyB0R",
        "colab": {
          "base_uri": "https://localhost:8080/"
        },
        "outputId": "d0111f3e-2c23-4595-e5af-fbeb0b090bfd"
      },
      "execution_count": null,
      "outputs": [
        {
          "output_type": "stream",
          "name": "stdout",
          "text": [
            "1\n"
          ]
        }
      ]
    },
    {
      "cell_type": "code",
      "source": [
        "\"\"\"\n",
        "【練習問題11】\n",
        "コメントを参考に演算を行いprint関数で内容を表示してみましょう。\n",
        "\n",
        "【実行結果】\n",
        "整数値＞62\n",
        "整数値＞7\n",
        "62 ÷ 7 = 8 余り 6\n",
        "\"\"\"\n",
        "# 変数aを変数bに整数値を入力し、7で割った商と余りを表示する\n",
        "a = int(input('整数値＞'))\n",
        "b = int(input('整数値＞'))\n",
        "print(a, '÷', b, '=', a // b, '余り', a % b)"
      ],
      "metadata": {
        "id": "hjFpI1niCBDj",
        "colab": {
          "base_uri": "https://localhost:8080/"
        },
        "outputId": "a5b22059-735d-4c46-eac5-bc8f40bab146"
      },
      "execution_count": null,
      "outputs": [
        {
          "output_type": "stream",
          "name": "stdout",
          "text": [
            "整数値＞62\n",
            "整数値＞7\n",
            "62 ÷ 7 = 8 余り 6\n"
          ]
        }
      ]
    },
    {
      "cell_type": "code",
      "source": [
        "# **演算子 べき乗を求める\n",
        "print(2 ** 3)      # 2の3乗"
      ],
      "metadata": {
        "id": "ypX7rMxbySmA",
        "colab": {
          "base_uri": "https://localhost:8080/"
        },
        "outputId": "980d2d53-d99e-4b91-cdf9-fcbcd026a89d"
      },
      "execution_count": null,
      "outputs": [
        {
          "output_type": "stream",
          "name": "stdout",
          "text": [
            "8\n"
          ]
        }
      ]
    },
    {
      "cell_type": "code",
      "source": [
        "\"\"\"\n",
        "【練習問題12】\n",
        "コメントを参考に演算を行いprint関数で内容を表示してみましょう。\n",
        "\n",
        "【実行結果】\n",
        "2の10乗 = 1024\n",
        "2の-1乗 = 0.5\n",
        "\"\"\"\n",
        "# 2の10乗と2の-1乗を表示する\n",
        "print('2の10乗 =',2 ** 10)\n",
        "print('2の-1乗 =',2 ** -1)"
      ],
      "metadata": {
        "id": "3U1QYFQMDlPD",
        "colab": {
          "base_uri": "https://localhost:8080/"
        },
        "outputId": "054e5f74-3da9-498d-bedf-43f2d8030663"
      },
      "execution_count": null,
      "outputs": [
        {
          "output_type": "stream",
          "name": "stdout",
          "text": [
            "2の10乗 = 1024\n",
            "2の-1乗 = 0.5\n"
          ]
        }
      ]
    },
    {
      "cell_type": "markdown",
      "source": [
        "###【複合代入演算子】\n",
        " += -= *= /= %= など"
      ],
      "metadata": {
        "id": "mXLwFySNEdvh"
      }
    },
    {
      "cell_type": "code",
      "source": [
        "# 複合代入演算子\n",
        "a = 10\n",
        "a += 1\n",
        "print('a =', a)\n",
        "\n",
        "# Pythonにはインクリメント++ デクリメント-- 演算子はない"
      ],
      "metadata": {
        "id": "v3Digb2NqW1w",
        "colab": {
          "base_uri": "https://localhost:8080/"
        },
        "outputId": "b54cba7b-07ee-48f7-cd85-40603c1ce5e2"
      },
      "execution_count": null,
      "outputs": [
        {
          "output_type": "stream",
          "name": "stdout",
          "text": [
            "a = 11\n"
          ]
        }
      ]
    },
    {
      "cell_type": "code",
      "source": [
        "\"\"\"\n",
        "【練習問題13】\n",
        "コメントを参考に演算を行いprint関数で内容を表示してみましょう。\n",
        "\n",
        "【実行結果】\n",
        "商品代金＞5500\n",
        "税込金額 = 6050\n",
        "\"\"\"\n",
        "# 商品xの代金を入力し消費税10%を加える\n",
        "# int関数で小数点以下を切り捨てる\n",
        "x = int(input('商品代金＞'))\n",
        "x *= 1.1\n",
        "print('税込金額 =', int(x))\n"
      ],
      "metadata": {
        "id": "QsOaFz6QqMvo",
        "colab": {
          "base_uri": "https://localhost:8080/"
        },
        "outputId": "262d4b02-6631-4d41-f682-17f30fd4ef04"
      },
      "execution_count": null,
      "outputs": [
        {
          "output_type": "stream",
          "name": "stdout",
          "text": [
            "商品代金＞5500\n",
            "税込金額 = 6050\n"
          ]
        }
      ]
    },
    {
      "cell_type": "markdown",
      "metadata": {
        "id": "Ta5BCjQu5M4-"
      },
      "source": [
        "###【関係演算子】\n",
        "比較結果をbool値（真：True、偽：False）で返す  \n",
        "\n",
        "||||\n",
        "|:-:|:-:|:--|\n",
        "|| < | 小さい |\n",
        "|| > | 大きい |\n",
        "|| <= | 以下 |\n",
        "|| >= | 以上 |\n",
        "|| == | 等しい |\n",
        "|| != | 等しくない |\n",
        "||||"
      ]
    },
    {
      "cell_type": "code",
      "source": [
        "a = 10\n",
        "b = 20\n",
        "print(a < b)\n",
        "print(a > b)\n",
        "print(a <= b)\n",
        "print(a >= b)\n",
        "print(a == b)\n",
        "print(a != b)"
      ],
      "metadata": {
        "id": "UPpvvTRpyz_p",
        "colab": {
          "base_uri": "https://localhost:8080/"
        },
        "outputId": "aaf6b179-8c3b-4588-b7b1-89b8f2637e25"
      },
      "execution_count": null,
      "outputs": [
        {
          "output_type": "stream",
          "name": "stdout",
          "text": [
            "True\n",
            "False\n",
            "True\n",
            "False\n",
            "False\n",
            "True\n"
          ]
        }
      ]
    },
    {
      "cell_type": "markdown",
      "metadata": {
        "id": "hJ-SLo3Q7whE"
      },
      "source": [
        "###【論理演算子】\n",
        "- 関係演算子だけでは表現できない複雑な条件や、否定の条件を作るのに用いる\n",
        "\n",
        "||||\n",
        "|:-:|:-:|:--|\n",
        "|| and | かつ |\n",
        "|| or | または |\n",
        "|| not | 否定 |\n",
        "||||"
      ]
    },
    {
      "cell_type": "code",
      "source": [
        "# and or not    (&& || ! ではない)\n",
        "x = 10\n",
        "y = 30\n",
        "print(x < 20 and y < 20)    # 論理積\n",
        "print(x < 20 or y < 20)     # 論理和\n",
        "print(not x <= 10)   # TrueならFalse　FalseならTrue"
      ],
      "metadata": {
        "id": "dc7Bk9bGzORX",
        "colab": {
          "base_uri": "https://localhost:8080/"
        },
        "outputId": "51837259-df63-45b9-9d7f-0689f484b76e"
      },
      "execution_count": null,
      "outputs": [
        {
          "output_type": "stream",
          "name": "stdout",
          "text": [
            "False\n",
            "True\n",
            "False\n"
          ]
        }
      ]
    },
    {
      "cell_type": "code",
      "source": [
        "\"\"\"\n",
        "【練習問題14】\n",
        "コメントを参考に演算を行いprint関数で内容を表示してみましょう。\n",
        "\n",
        "【実行結果】\n",
        "整数値１＞1\n",
        "整数値２＞1\n",
        "整数値３＞1\n",
        "True\n",
        "\"\"\"\n",
        "# 3つの整数値を入力し、3つとも同じ数値ならTrueを表示し、どれか１つでも異なればFalseと表示する\n",
        "n1 = int(input('整数値１＞'))\n",
        "n2 = int(input('整数値２＞'))\n",
        "n3 = int(input('整数値３＞'))\n",
        "print(n1 == n2 and n2 == n3)"
      ],
      "metadata": {
        "id": "fIepoAmW78H6",
        "colab": {
          "base_uri": "https://localhost:8080/"
        },
        "outputId": "a03d56d7-7f8e-42c4-c7fa-cfa03f52ad2a"
      },
      "execution_count": null,
      "outputs": [
        {
          "output_type": "stream",
          "name": "stdout",
          "text": [
            "整数値１＞1\n",
            "整数値２＞1\n",
            "整数値３＞1\n",
            "True\n"
          ]
        }
      ]
    }
  ]
}