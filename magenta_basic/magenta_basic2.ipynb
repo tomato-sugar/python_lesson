{
  "nbformat": 4,
  "nbformat_minor": 0,
  "metadata": {
    "colab": {
      "provenance": [],
      "authorship_tag": "ABX9TyP7TOJV2T7dQc8qORQxVj51",
      "include_colab_link": true
    },
    "kernelspec": {
      "name": "python3",
      "display_name": "Python 3"
    },
    "language_info": {
      "name": "python"
    },
    "accelerator": "GPU",
    "gpuClass": "standard"
  },
  "cells": [
    {
      "cell_type": "markdown",
      "metadata": {
        "id": "view-in-github",
        "colab_type": "text"
      },
      "source": [
        "<a href=\"https://colab.research.google.com/github/tomato-sugar/python_lesson/blob/main/magenta_basic/magenta_basic2.ipynb\" target=\"_parent\"><img src=\"https://colab.research.google.com/assets/colab-badge.svg\" alt=\"Open In Colab\"/></a>"
      ]
    },
    {
      "cell_type": "markdown",
      "source": [
        "#2022年 東北TECH道場 郡山道場 第7期"
      ],
      "metadata": {
        "id": "cms3K7riv_nR"
      }
    },
    {
      "cell_type": "markdown",
      "source": [
        "##Magentaを用いた機械学習作曲入門（２）"
      ],
      "metadata": {
        "id": "-0P7I_KlwDNw"
      }
    },
    {
      "cell_type": "markdown",
      "source": [
        "##《このセクションで学ぶこと》\n",
        "- Polyphony RNN でバッハ風合唱曲の自動作曲を試みます。\n",
        "- Drums RNN でドラム演奏パートの自動作曲を試みます。\n",
        "- Peformance RNN で高度なピアノ演奏の自動作曲を試みます。"
      ],
      "metadata": {
        "id": "8593s4RyUnT0"
      }
    },
    {
      "cell_type": "markdown",
      "source": [
        "##《Polyphony RNN でバッハ風合唱曲の作曲》\n",
        "Polyphony RNN でバッハ風合唱曲の作曲をしてみましょう。\n",
        "Polyphony RNN の詳細については、[こちら](https://github.com/magenta/magenta/tree/main/magenta/models/polyphony_rnn)を確認してください。"
      ],
      "metadata": {
        "id": "fsMJMbfrwNr6"
      }
    },
    {
      "cell_type": "markdown",
      "source": [
        "###(1) ライブラリのインストール\n",
        "次のライブラリをインストールします。少し時間がかかります。\n",
        "- Magenta：機械学習による音楽生成ライブラリ\n",
        "- pyFluidSynth：音楽を生成するためのソフトウェア シンセサイザー\n",
        "- pretty_midi：MIDI データを処理するためのユーティリティ"
      ],
      "metadata": {
        "id": "pZ4gkVCLwlKZ"
      }
    },
    {
      "cell_type": "code",
      "execution_count": null,
      "metadata": {
        "id": "vJhRc-tNv7BF"
      },
      "outputs": [],
      "source": [
        "!apt-get update -qq && apt-get install -qq libfluidsynth1 fluid-soundfont-gm build-essential libasound2-dev libjack-dev\n",
        "!pip install -qU pyfluidsynth pretty_midi\n",
        "!pip install -qU magenta"
      ]
    },
    {
      "cell_type": "markdown",
      "source": [
        "###(2) 基本となる音を与える"
      ],
      "metadata": {
        "id": "IZOD-74Lx0xa"
      }
    },
    {
      "cell_type": "code",
      "source": [
        "from IPython.core.display import set_matplotlib_formats\n",
        "\n",
        "\n",
        "# キーボードから音符を入力する関数\n",
        "def base_music_create(base_music):\n",
        "    start = 0.0\n",
        "    total_time = 0.0\n",
        "    # 音階とピッチの辞書\n",
        "    scale_to_pich = {\n",
        "        \"ド\": 60,\n",
        "        \"レ\": 62,\n",
        "        \"ミ\": 64,\n",
        "        \"ファ\": 65,\n",
        "        \"ソ\": 67,\n",
        "        \"ラ\": 69,\n",
        "        \"シ\": 71,\n",
        "        \"ド^\": 72,\n",
        "    }\n",
        "\n",
        "    print(\"カタカナで「ド」～「ド^」を「,」区切りで入力してください。\")\n",
        "    print(\"【例】ド,レ,ミ,ド,レ,ミ,ソ,ミ,レ,ド,レ,ミ,レ\")\n",
        "    onpu = input(\"音符＞ \")\n",
        "    onpu = onpu.split(\",\")\n",
        "    for on in onpu:\n",
        "        if on in scale_to_pich:\n",
        "            base_music.notes.add(\n",
        "                pitch=scale_to_pich[on],\n",
        "                start_time=start,\n",
        "                end_time=start + 0.5,\n",
        "                velocity=80\n",
        "            )\n",
        "            start += 0.5\n",
        "            total_time += 0.5\n",
        "\n",
        "    # 所要時間の返却\n",
        "    return total_time\n",
        "\n",
        "\n",
        "import magenta\n",
        "import note_seq\n",
        "from note_seq.protobuf import music_pb2\n",
        "\n",
        "# 基本の音を格納するbase_musicを作成\n",
        "base_music = music_pb2.NoteSequence()\n",
        "\n",
        "# 音符入力関数の呼び出し\n",
        "total = base_music_create(base_music)\n",
        "\n",
        "base_music.total_time = total  # 所要時間\n",
        "base_music.tempos.add(qpm=75.0)  # 曲のテンポ（4分音符が1分間に75）\n",
        "\n",
        "# 再生\n",
        "note_seq.play_sequence(base_music, synth=note_seq.fluidsynth)  "
      ],
      "metadata": {
        "id": "yHCscOqFx_A5"
      },
      "execution_count": null,
      "outputs": []
    },
    {
      "cell_type": "markdown",
      "source": [
        "###(3) 学習済みモデルの準備\n",
        "Polyphony RNN では、学習済みモデルに「polyphony_rnn.mag」が用意されています。これを読み込み利用します。"
      ],
      "metadata": {
        "id": "aBuEE1NuzFDS"
      }
    },
    {
      "cell_type": "code",
      "source": [
        "from magenta.models.polyphony_rnn import polyphony_sequence_generator\n",
        "from magenta.models.shared import sequence_generator_bundle\n",
        "\n",
        "# 学習済みモデルの初期化\n",
        "note_seq.notebook_utils.download_bundle(  # 学習済みデータのダウンロード\n",
        "    \"polyphony_rnn.mag\", \"magenta/models/\"\n",
        ")\n",
        "bundle = sequence_generator_bundle.read_bundle_file(    # 学習済みデータの読み込み\n",
        "    \"magenta/models/polyphony_rnn.mag\"\n",
        ")\n",
        "generator_map = polyphony_sequence_generator.get_generator_map()  # 生成器のmapの作成\n",
        "polyphony_rnn = generator_map[\"polyphony\"](checkpoint=None, bundle=bundle)  # mapから生成器の設定\n",
        "polyphony_rnn.initialize()  # 初期化"
      ],
      "metadata": {
        "id": "3pfiGi0m1cmp"
      },
      "execution_count": null,
      "outputs": []
    },
    {
      "cell_type": "markdown",
      "source": [
        "###(4) 自動作曲\n",
        "上記で生成した生成器を使って作曲を行います。"
      ],
      "metadata": {
        "id": "JvG5ScGr2JqQ"
      }
    },
    {
      "cell_type": "code",
      "source": [
        "from note_seq.protobuf import generator_pb2\n",
        "\n",
        "base_seq = base_music  # ベースになる音\n",
        "total_sec = 60  # 生成したい曲の秒数\n",
        "temperature = 1.0  # 曲のランダム度合い\n",
        "base_end_time = base_music.total_time  #ベース曲の終了時刻\n",
        "\n",
        "# 生成器のオプションの設定\n",
        "options = generator_pb2.GeneratorOptions()  # 生成器のオプション\n",
        "options.args[\"temperature\"].float_value = temperature  # ランダム度合い\n",
        "options.generate_sections.add(\n",
        "    start_time = base_end_time,  # 作曲開始時刻\n",
        "    end_time = total_sec  # 作曲終了時刻\n",
        ")\n",
        "# 曲の生成\n",
        "gen_seq = polyphony_rnn.generate(base_seq, options)\n",
        "\n",
        "# 再生\n",
        "note_seq.play_sequence(gen_seq, synth=note_seq.fluidsynth)"
      ],
      "metadata": {
        "id": "V9ybI-NQ2RCj"
      },
      "execution_count": null,
      "outputs": []
    },
    {
      "cell_type": "markdown",
      "source": [
        "###(5) 生成した音楽データを保存"
      ],
      "metadata": {
        "id": "Y2Xg6exZ3gbQ"
      }
    },
    {
      "cell_type": "code",
      "source": [
        "# MIDIデータに変換し保存\n",
        "note_seq.sequence_proto_to_midi_file(\n",
        "    gen_seq, \"magenta/polyphony_rnn1.mid\"\n",
        ")  "
      ],
      "metadata": {
        "id": "lOCcs4gM3jEh"
      },
      "execution_count": 5,
      "outputs": []
    },
    {
      "cell_type": "markdown",
      "source": [
        "##《Drums RNN でドラム演奏パートの作曲》\n",
        "Drums RNN でドラム演奏パートの作曲をしてみましょう。 Drums RNN の詳細については、[こちら](https://github.com/magenta/magenta/tree/main/magenta/models/drums_rnn)を確認してください。なお、Drums RNN は、他のメロディー生成モデルとは異なり、使用できる音はドラムセットの用のノートナンバーに指定された9音のみです。\n",
        "\n",
        "\n"
      ],
      "metadata": {
        "id": "dvxDjpNiStP_"
      }
    },
    {
      "cell_type": "markdown",
      "source": [
        "###(1) 基本となる音を与える\n",
        "**もし、「《Polyphony RNN でバッハ風合唱曲の作曲》」を飛ばした場合には、「(1) ライブラリのインストール」を行ってから、以下を進めてください。**"
      ],
      "metadata": {
        "id": "EyLAB1r1m2B2"
      }
    },
    {
      "cell_type": "code",
      "source": [
        "import magenta\n",
        "import note_seq\n",
        "from note_seq.protobuf import music_pb2\n",
        "\n",
        "\"\"\"\n",
        "使用できる音はドラムセットの用のノートナンバーに指定された9音のみ\n",
        "    36,         # C3 - Bass Drum 1\n",
        "    40,         # E3 - Electric Snare\n",
        "    41,         # F3 - Low Floor Tom\n",
        "    42,         # Gb3/F#3 - Closed Hi-Hat\n",
        "    46,         # Bb3/A#3 - Open Hi-Hat\n",
        "    48,         # C4 - Hi-Mid Tom\n",
        "    50,         # D4 - High Tom\n",
        "    51,         # Eb4/D#4 - Ride Cymbal 1\n",
        "    57,         # A4 - Crash Cymbal 2\n",
        "\"\"\"\n",
        "\n",
        "# 基本の音を格納するdrumsを作成\n",
        "drums = music_pb2.NoteSequence()\n",
        "\n",
        "# drumsに音を追加\n",
        "# pitch：音の周波数  start_time：音の開始時間  end_time：終了時間  velocity：音の速さ\n",
        "drums.notes.add(pitch=36, start_time=0, end_time=0.125, is_drum=True, instrument=10, velocity=80)\n",
        "drums.notes.add(pitch=42, start_time=0.125, end_time=0.25, is_drum=True, instrument=10, velocity=80)\n",
        "drums.notes.add(pitch=50, start_time=.25, end_time=0.375, is_drum=True, instrument=10, velocity=80)\n",
        "drums.notes.add(pitch=41, start_time=0.375, end_time=0.5, is_drum=True, instrument=10, velocity=80)\n",
        "drums.notes.add(pitch=38, start_time=0.5, end_time=0.625, is_drum=True, instrument=10, velocity=80)\n",
        "drums.notes.add(pitch=42, start_time=.625, end_time=0.75, is_drum=True, instrument=10, velocity=80)\n",
        "drums.notes.add(pitch=42, start_time=0.75, end_time=0.875, is_drum=True, instrument=10, velocity=80)\n",
        "drums.notes.add(pitch=42, start_time=.875, end_time=1.0, is_drum=True, instrument=10, velocity=80)\n",
        "\n",
        "drums.total_time = 1.0  # 所要時間\n",
        "drums.tempos.add(qpm=120.0)  # 曲のテンポ（4分音符が1分間に120）\n",
        "\n",
        "# 再生\n",
        "note_seq.play_sequence(drums, synth=note_seq.fluidsynth)  "
      ],
      "metadata": {
        "id": "FxWL26ztm89V"
      },
      "execution_count": null,
      "outputs": []
    },
    {
      "cell_type": "markdown",
      "source": [
        "###(2) 学習済みモデルの準備\n",
        "Drums RNN では、学習済みモデルには「drum_kit_rnn.mag」が用意されています。これを読み込み利用します。"
      ],
      "metadata": {
        "id": "6VjJXKnpTr04"
      }
    },
    {
      "cell_type": "code",
      "source": [
        "from magenta.models.drums_rnn import drums_rnn_sequence_generator\n",
        "from magenta.models.shared import sequence_generator_bundle\n",
        "\n",
        "# 学習済みモデルの初期化\n",
        "note_seq.notebook_utils.download_bundle(  # 学習済みデータのダウンロード\n",
        "    \"drum_kit_rnn.mag\", \"magenta/models/\"\n",
        ")\n",
        "bundle = sequence_generator_bundle.read_bundle_file(    # 学習済みデータの読み込み\n",
        "    \"magenta/models/drum_kit_rnn.mag\"\n",
        ")\n",
        "generator_map = drums_rnn_sequence_generator.get_generator_map()  # 生成器のmapの作成\n",
        "drums_rnn = generator_map[\"drum_kit\"](checkpoint=None, bundle=bundle)  # mapから生成器の設定\n",
        "drums_rnn.initialize()  # 初期化"
      ],
      "metadata": {
        "id": "ap0LJxssUXam"
      },
      "execution_count": null,
      "outputs": []
    },
    {
      "cell_type": "markdown",
      "source": [
        "###(3) 自動作曲\n",
        "上記で生成した生成器を使って作曲を行います。"
      ],
      "metadata": {
        "id": "XWvUexf8YOPP"
      }
    },
    {
      "cell_type": "code",
      "source": [
        "from note_seq.protobuf import generator_pb2\n",
        "\n",
        "base_seq = drums  # ベースになる音\n",
        "total_sec = 60  # 生成したい曲の秒数\n",
        "temperature = 1.2  # 曲のランダム度合い\n",
        "base_end_time = 1.0  #ベース曲の終了時刻\n",
        "\n",
        "# 生成器のオプションの設定\n",
        "options = generator_pb2.GeneratorOptions()  # 生成器のオプション\n",
        "options.args[\"temperature\"].float_value = temperature  # ランダム度合い\n",
        "options.generate_sections.add(\n",
        "    start_time = base_end_time,  # 作曲開始時刻\n",
        "    end_time = total_sec  # 作曲終了時刻\n",
        ")\n",
        "# 曲の生成\n",
        "gen_seq = drums_rnn.generate(base_seq, options)\n",
        "\n",
        "# 再生\n",
        "note_seq.play_sequence(gen_seq, synth=note_seq.fluidsynth)"
      ],
      "metadata": {
        "id": "LoQAy1yDaOym"
      },
      "execution_count": null,
      "outputs": []
    },
    {
      "cell_type": "markdown",
      "source": [
        "###(4) 生成した音楽データを保存"
      ],
      "metadata": {
        "id": "XNbok1ina2PB"
      }
    },
    {
      "cell_type": "code",
      "source": [
        "# MIDIデータに変換し保存\n",
        "note_seq.sequence_proto_to_midi_file(\n",
        "    gen_seq, \"magenta/drums_rnn1.mid\"\n",
        ")  "
      ],
      "metadata": {
        "id": "8ODD4T-ma9Y2"
      },
      "execution_count": 9,
      "outputs": []
    },
    {
      "cell_type": "markdown",
      "source": [
        "##《Peformance RNN で高度なピアノ演奏の作曲》\n",
        "Peformance RNN で高度なピアノ演奏の作曲の作曲をしてみましょう。\n",
        "Peformance RNN の詳細については、[こちら](https://github.com/magenta/magenta/tree/main/magenta/models/performance_rnn)を確認してください。"
      ],
      "metadata": {
        "id": "pzFrM9U6bZNE"
      }
    },
    {
      "cell_type": "markdown",
      "source": [
        "###(1) 基本となる音を与える\n",
        "**もし、「《Polyphony RNN でバッハ風合唱曲の作曲》」を飛ばした場合には、「(1) ライブラリのインストール」を行ってから、以下を進めてください。**\n",
        "<br>Peformance RNN では、楽器も指定することができます。"
      ],
      "metadata": {
        "id": "ET5uCmDKdlGC"
      }
    },
    {
      "cell_type": "code",
      "source": [
        "from IPython.core.display import set_matplotlib_formats\n",
        "\n",
        "\n",
        "# キーボードから音符を入力する関数\n",
        "def base_music_create(base_music):\n",
        "    start = 0.0\n",
        "    total_time = 0.0\n",
        "    # 音階とピッチの辞書\n",
        "    scale_to_pich = {\n",
        "        \"ド\": 60,\n",
        "        \"レ\": 62,\n",
        "        \"ミ\": 64,\n",
        "        \"ファ\": 65,\n",
        "        \"ソ\": 67,\n",
        "        \"ラ\": 69,\n",
        "        \"シ\": 71,\n",
        "        \"ド^\": 72,\n",
        "    }\n",
        "\n",
        "    print(\"カタカナで「ド」～「ド^」を「,」区切りで入力してください。\")\n",
        "    print(\"【例】ファ,ファ,ファ,ソ,ラ,ラ,ラ,ラ,ソ,ファ,ソ,ラ,ファ,ファ,ド\")\n",
        "    onpu = input(\"音符＞ \")\n",
        "    onpu = onpu.split(\",\")\n",
        "    print(\"楽器を選んでください。\")\n",
        "    print(\"1 : ピアノ, 3 : ホンキートンクピアノ, 4 : エレクトリックピアノ, 6 : ハープシーコード\")\n",
        "    print(\"7 : クラヴィコード, 8 : チェレスタ, 9 : グロッケンシュピール, 10 : アンティークシンバル\")\n",
        "    print(\"11 : ビブラフォン, 12 : マリンバ, 13 : シロフォン, 14 : チャイム\")\n",
        "    print(\"15 : ダルシマー, 30 : エレキギター\")\n",
        "    pg = int(input(\"楽器＞ \"))\n",
        "    for on in onpu:\n",
        "        if on in scale_to_pich:\n",
        "            base_music.notes.add(\n",
        "                pitch=scale_to_pich[on],\n",
        "                start_time=start,\n",
        "                end_time=start + 0.5,\n",
        "                velocity=80,\n",
        "                program=pg\n",
        "            )\n",
        "            start += 0.5\n",
        "            total_time += 0.5\n",
        "\n",
        "    # 所要時間の返却\n",
        "    return total_time\n",
        "\n",
        "\n",
        "import magenta\n",
        "import note_seq\n",
        "from note_seq.protobuf import music_pb2\n",
        "\n",
        "# 基本の音を格納するbase_musicを作成\n",
        "base_music = music_pb2.NoteSequence()\n",
        "\n",
        "# 音符入力関数の呼び出し\n",
        "total = base_music_create(base_music)\n",
        "\n",
        "base_music.total_time = total  # 所要時間\n",
        "base_music.tempos.add(qpm=75.0)  # 曲のテンポ（4分音符が1分間に75）\n",
        "\n",
        "# 再生\n",
        "note_seq.play_sequence(base_music, synth=note_seq.fluidsynth)  "
      ],
      "metadata": {
        "id": "yhgFO4xgdkSS"
      },
      "execution_count": null,
      "outputs": []
    },
    {
      "cell_type": "markdown",
      "source": [
        "###(2) 学習済みモデルの準備\n",
        "Peformance RNN では、学習済みモデルには、以下が用意されています。この中から、「multiconditioned_performance_with_dynamics.mag.mag」を読み込み利用します。\n",
        "- performance.mag\n",
        "- performance_with_dynamics.mag\n",
        "- performance_with_dynamics_and_modulo_encoding.mag\n",
        "- density_conditioned_performance_with_dynamics.mag\n",
        "- pitch_conditioned_performance_with_dynamics.mag\n",
        "- multiconditioned_performance_with_dynamics.mag\n",
        "\n",
        "なお、公式サイトには、\n",
        "```\n",
        "最初の 3 つのモデルは、異なるパフォーマンス表現を使用します。\n",
        "最初のperformanceは音速を無視しますが、モデルは表現力豊かなタイミングでオン/オフ イベントを記録します。\n",
        "performance_with_dynamicsモデルには、32 個のビンに量子化された速度の変化が含まれています。\n",
        "このモデルは、 Vida Vakilotojarperformance_with_dynamics_and_modulo_encodingによって設計された代替エンコーディングを使用しており、\n",
        "イベント値は単位円上の点にマッピングされます。\n",
        "後者の 3 つのモデルは、それぞれ、目的のノート密度、目的のピッチ クラス分布、\n",
        "またはその両方で条件付けされたパフォーマンスを生成できる条件付きモデルです。\n",
        "```\n",
        "とあります。"
      ],
      "metadata": {
        "id": "VvNKny6Zef1r"
      }
    },
    {
      "cell_type": "code",
      "source": [
        "from magenta.models.performance_rnn import performance_sequence_generator\n",
        "from magenta.models.shared import sequence_generator_bundle\n",
        "\n",
        "# 学習済みモデルの初期化\n",
        "note_seq.notebook_utils.download_bundle(  # 学習済みデータのダウンロード\n",
        "    \"multiconditioned_performance_with_dynamics.mag\", \"magenta/models/\"\n",
        ")\n",
        "bundle = sequence_generator_bundle.read_bundle_file(  # 学習済みデータの読み込み\n",
        "    \"magenta/models/multiconditioned_performance_with_dynamics.mag\"\n",
        ")\n",
        "generator_map = performance_sequence_generator.get_generator_map()   # 生成器のmapの作成\n",
        "performance_rnn = generator_map[\"multiconditioned_performance_with_dynamics\"](checkpoint=None, bundle=bundle)  # mapから生成器の設定\n",
        "performance_rnn.initialize()  # 初期化"
      ],
      "metadata": {
        "id": "awAV7o1zfymN"
      },
      "execution_count": 13,
      "outputs": []
    },
    {
      "cell_type": "markdown",
      "source": [
        "###(3) 自動作曲\n",
        "上記で生成した生成器を使って作曲を行います。"
      ],
      "metadata": {
        "id": "ZScA4uEnfgWh"
      }
    },
    {
      "cell_type": "code",
      "source": [
        "from note_seq.protobuf import generator_pb2\n",
        "\n",
        "base_seq = base_music  # ベースになる音\n",
        "total_sec = 120  # 生成したい曲の秒数（自由に変更可能）\n",
        "temperature = 1.0  # 曲のランダム度合い（これを大きくするとランダム度合いが大きくなる）\n",
        "base_end_time = base_music.total_time  #ベース曲の終了時刻\n",
        "\n",
        "# 生成器のオプションの設定\n",
        "options = generator_pb2.GeneratorOptions()  # 生成器のオプション\n",
        "options.args[\"temperature\"].float_value = temperature  # ランダム度合い\n",
        "options.generate_sections.add(\n",
        "    start_time = base_end_time,  # 作曲開始時刻\n",
        "    end_time = total_sec  # 作曲終了時刻\n",
        ")\n",
        "\n",
        "# 曲の生成\n",
        "gen_seq = performance_rnn.generate(base_seq, options)\n",
        "\n",
        "# 再生\n",
        "note_seq.play_sequence(gen_seq, synth=note_seq.fluidsynth)"
      ],
      "metadata": {
        "id": "18S9eoxMgzbi"
      },
      "execution_count": null,
      "outputs": []
    },
    {
      "cell_type": "markdown",
      "source": [
        "###(4) 生成した音楽データを保存"
      ],
      "metadata": {
        "id": "GSuiFZ4vhsU5"
      }
    },
    {
      "cell_type": "code",
      "source": [
        "# MIDIデータに変換し保存\n",
        "note_seq.sequence_proto_to_midi_file(\n",
        "    gen_seq, \"magenta/performance_rnn1.mid\"\n",
        ")  "
      ],
      "metadata": {
        "id": "H6b8_NZJhyxu"
      },
      "execution_count": 15,
      "outputs": []
    },
    {
      "cell_type": "markdown",
      "source": [
        "##《演習》\n",
        "1. Peformance RNN の学習済みモデルを変更する<br>Peformance RNN には4つの学習済みモデルが用意されています。それぞれダウンロードして自動作曲してみましょう。\n",
        "2. 曲のテンポや長さの変更<br>曲のテンポや長さを自由に変更して曲を作成してみましょう。\n",
        "3. ベースの音を変更<br>基本となる音を色々と入力して、どのような曲ができあがるか試してみましょう。\n",
        "4. ベースの楽器を変更<br>Peformance RNN では楽器を指定することができます。いろいろな楽器を指定して、どのような曲ができあがるか試してみましょう。\n"
      ],
      "metadata": {
        "id": "CnerCGMf_mK5"
      }
    },
    {
      "cell_type": "markdown",
      "source": [
        "##《参考文献》\n",
        "- 斎藤 喜寛 「[Magentaで開発 AI作曲](https://www.ohmsha.co.jp/book/9784274227318/)」 オーム社  2021/07/20出版\n",
        "- 吾妻 幸長  「[【Magenta+Colab】AIによる作曲を学ぼう！ -ディープラーニングで自動生成する音楽データ](https://www.udemy.com/course/ai-music/)」Udemy"
      ],
      "metadata": {
        "id": "VFeug-_CxepN"
      }
    }
  ]
}