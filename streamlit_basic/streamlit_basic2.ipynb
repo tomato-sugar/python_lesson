{
  "cells": [
    {
      "cell_type": "markdown",
      "metadata": {
        "id": "view-in-github",
        "colab_type": "text"
      },
      "source": [
        "<a href=\"https://colab.research.google.com/github/tomato-sugar/python_lesson/blob/main/streamlit_basic/streamlit_basic2.ipynb\" target=\"_parent\"><img src=\"https://colab.research.google.com/assets/colab-badge.svg\" alt=\"Open In Colab\"/></a>"
      ]
    },
    {
      "cell_type": "markdown",
      "metadata": {
        "id": "Q64uF7YntS26"
      },
      "source": [
        "#2022年 東北TECH道場 郡山道場 第7期\n"
      ]
    },
    {
      "cell_type": "markdown",
      "metadata": {
        "id": "Ul0Hk-s5suvG"
      },
      "source": [
        "##Streamlitを用いたWebアプリ制作入門（２）"
      ]
    },
    {
      "cell_type": "markdown",
      "metadata": {
        "id": "ICE2EjpBJkNL"
      },
      "source": [
        "**※ 最初にStreamlitをインストールしましょう。**  \n",
        "**※ エラーが発生する場合は、「ランタイム」→「ランタイムを再起動」によりランタイムを起動し再度実行してください。**"
      ]
    },
    {
      "cell_type": "code",
      "execution_count": null,
      "metadata": {
        "id": "Jor3Ix6SnEwW"
      },
      "outputs": [],
      "source": [
        "# streamlitをインストール\n",
        "!pip install streamlit"
      ]
    },
    {
      "cell_type": "markdown",
      "source": [
        "##《このセクションで学ぶこと》\n",
        "- Streamlitでインタラクティブ（対話式）なウィジットを使用する方法を学びます。\n",
        "- Streamlitで表示を整える方法を学びます。"
      ],
      "metadata": {
        "id": "PIkbTstS0GuX"
      }
    },
    {
      "cell_type": "markdown",
      "source": [
        "##《ウィジットの紹介》\n",
        "- Streamlitでは、ボタンやチェックボックスなど多くのウィジットが用意されている"
      ],
      "metadata": {
        "id": "WnIU80Jrddj4"
      }
    },
    {
      "cell_type": "markdown",
      "metadata": {
        "id": "rRWjbcs57Ns1"
      },
      "source": [
        "###(1) 一般的なウィジット\n",
        "- ボタンやラジオボタンなど、よく使われるウィジットの表示"
      ]
    },
    {
      "cell_type": "code",
      "execution_count": null,
      "metadata": {
        "id": "N6mz8f45m_gP"
      },
      "outputs": [],
      "source": [
        "%%writefile app.py          \n",
        "import streamlit as st\n",
        "\n",
        "st.title('一般的なウィジットの確認')\n",
        "\n",
        "# ボタン\n",
        "st.header('ボタン')      # ヘッダー\n",
        "# st.button('ラベル')    # 記述の仕方\n",
        "st.button('OK')          # 例\n",
        "st.markdown('***')       # 水平線\n",
        "\n",
        "# ラジオボタン\n",
        "st.header('ラジオボタン')\n",
        "# st.radio('ラベル',('選択肢1', '選択肢2', '選択肢3'))\n",
        "st.radio('学科',('機械科', '情報科', '建築科'))\n",
        "st.markdown('***')\n",
        "\n",
        "# チェックボックス\n",
        "st.header('チェックボックス')\n",
        "# st.checkbox('ラベル', value=False)    # valueは初期状態、Trueでチェックが入る\n",
        "st.text('ラーメンの具')     # ただのテキスト\n",
        "st.checkbox('煮玉子', value=True) \n",
        "st.checkbox('のり', value=False)\n",
        "st.checkbox('コーン', value=False)\n",
        "st.markdown('***')\n",
        "\n",
        "# セレクトボックス\n",
        "st.header('セレクトボックス')\n",
        "# st.selectbox('ラベル',('選択肢1', '選択肢2', '選択肢3'))\n",
        "st.selectbox('ラーメンの具',('煮玉子', 'のり', 'コーン', 'チャーシュー'))\n",
        "st.markdown('***')\n",
        "\n",
        "# 複数選択\n",
        "st.header('複数選択')\n",
        "# st.multiselect('ラベル', ['選択肢1', '選択肢2', '選択肢3'],['選択肢2']) \n",
        "st.multiselect('ラーメンの具', ['煮玉子', 'のり', 'コーン', 'チャーシュー'],['煮玉子']) \n",
        "st.markdown('***')\n",
        "\n",
        "# スライダー\n",
        "st.header('スライダー')\n",
        "# st.slider('ラベル', 最小値, 最大値, 初期値, 刻み値, フォーマット %d,%fなど)\n",
        "st.slider('%表示', 0, 100, 50, 5, '%d')\n",
        "st.markdown('***')\n",
        "\n",
        "# テキスト入力\n",
        "st.header('テキスト入力')\n",
        "# st.text_input('ラベル', '初期表示文字列')\n",
        "st.text_input('氏名', '郡山道夫')\n",
        "st.markdown('***')\n",
        "\n",
        "# 数値入力\n",
        "st.header('数値入力')\n",
        "# st.number_input('ラベル', 最小値, 最大値, 初期値)\n",
        "st.number_input('誕生月', 1, 12, 1)\n",
        "st.markdown('***')\n"
      ]
    },
    {
      "cell_type": "code",
      "execution_count": null,
      "metadata": {
        "id": "QeceQ615pq19"
      },
      "outputs": [],
      "source": [
        "# Webページで表示して確認\n",
        "!streamlit run app.py & sleep 3 && npx localtunnel --port 8501"
      ]
    },
    {
      "cell_type": "markdown",
      "source": [
        "※ **実行を止めると、閲覧はできなくなるので、再度確認する場合には、再実行してください**"
      ],
      "metadata": {
        "id": "quiRXvs6mm1s"
      }
    },
    {
      "cell_type": "markdown",
      "metadata": {
        "id": "RC5kp0Jx9lXB"
      },
      "source": [
        "###(2) ファイルアップローダー\n",
        "- ドラッグ＆ドロップ、またはファイルを指定することで、ファイルをアプリ上にアップロードすることができる\n",
        "- デフォルトの上限ファイルサイズ200MB\n",
        "- ファイルタイプは、csvやpngなどを文字列（1個の場合）かリスト（複数の場合）で与える\n",
        "- 詳しくはこちら\n",
        "https://docs.streamlit.io/library/api-reference/widgets/st.file_uploader"
      ]
    },
    {
      "cell_type": "code",
      "execution_count": null,
      "metadata": {
        "id": "FStfv0w698Zs"
      },
      "outputs": [],
      "source": [
        "# アップロードしたイメージを画面に表示する例\n",
        "%%writefile app.py          \n",
        "import streamlit as st\n",
        "from PIL import Image   # Pythonの画像処理ライブラリ\n",
        "import numpy as np      # 数値計算をより高速に行うための拡張モジュール\n",
        "\n",
        "st.title('ファイルアップローダーの確認')\n",
        "\n",
        "# ファイルタイプに画像ファイルを指定\n",
        "uploaded_file = st.file_uploader('ファイルアップロード', ['png', 'jpg', 'gif'])\n",
        "\n",
        "# ファイルがあれば\n",
        "if uploaded_file is not None:\n",
        "    # アップロードした画像ファイルをイメージに変換\n",
        "    image = Image.open(uploaded_file)   \n",
        "    img_array = np.array(image)\n",
        "    # 画像の表示  「use_column_width=False」は画像の幅を自然なサイズに設定\n",
        "    st.image(image, caption='アップロードした画像',use_column_width=False)"
      ]
    },
    {
      "cell_type": "markdown",
      "source": [
        "###(3) ピッカー\n",
        "- Streamlitでは、カラーピッカー、デートピッカー、タイムピッカーが使える"
      ],
      "metadata": {
        "id": "u0dAXK6-Sm7b"
      }
    },
    {
      "cell_type": "markdown",
      "source": [
        "####デートピッカー\n",
        "- デートピッカー (date picker)」は、カレンダーがポップアップで開き、その中から任意の日付を選択する、という入力機能\n",
        "- Streamlitでは、date_inputメソッドを使用する\n",
        "-詳しくはこちら https://docs.streamlit.io/library/api-reference/widgets/st.date_input"
      ],
      "metadata": {
        "id": "NzVsgWn-7URI"
      }
    },
    {
      "cell_type": "code",
      "source": [
        "#デートピッカー\n",
        "%%writefile app.py   \n",
        "import streamlit as st\n",
        "from datetime import datetime   # 日付や時刻を操作\n",
        "from datetime import timedelta  # 日付の加算、減算\n",
        "\n",
        "st.title('デートピッカー')\n",
        "\n",
        "st.header('日付を指定する場合')\n",
        "selected_date1 = st.date_input('日付指定')\n",
        "st.write('選択した時間は', selected_date1, 'です。')\n",
        "\n",
        "st.header('期間を限定する場合')\n",
        "min_date = datetime.now() - timedelta(days=90)  # 90日前から\n",
        "max_date = datetime.now()                       # 今日まで\n",
        "# 90日前から今日まで期間限定、最大は今日まで\n",
        "selected_date2 = st.date_input(\n",
        "        '期間指定', [min_date, max_date], max_value=max_date\n",
        ")\n",
        "date1 = selected_date2[0].strftime('%Y-%m-%d')      # YYYY-MM-DDの形に変換\n",
        "date2 = selected_date2[1].strftime('%Y-%m-%d')\n",
        "st.write('選択した期間は', date1,'から', date2, 'です。')"
      ],
      "metadata": {
        "id": "f2g5Zxla7ymH"
      },
      "execution_count": null,
      "outputs": []
    },
    {
      "cell_type": "markdown",
      "source": [
        "####タイムピッカー\n",
        "- タイムピッカー（time picker）は、セレクトボックスで任意の時間を選択する、という入力機能\n",
        "- Streamlitでは、time_inputメソッドを使用する\n",
        "- 詳しくはこちら https://docs.streamlit.io/library/api-reference/widgets/st.time_input"
      ],
      "metadata": {
        "id": "MDrtfcD-_kvl"
      }
    },
    {
      "cell_type": "code",
      "source": [
        "# タイムピッカー\n",
        "%%writefile app.py   \n",
        "import streamlit as st\n",
        "import datetime\n",
        "\n",
        "st.title('タイムピッカー')\n",
        "\n",
        "st.header('現在時刻を初期表示')\n",
        "time1 = st.time_input('時間選択')\n",
        "st.write('選択した時間は ', time1, 'です。')\n",
        "\n",
        "st.header('デフォルトの時間を初期表示')\n",
        "start_time = st.time_input('開始時刻: ',value=datetime.time(hour=9, minute=0))\n",
        "end_time = st.time_input('終了時刻: ',value=datetime.time(hour=20, minute=0))\n",
        "\n",
        "st.write('選択した時間は', start_time, 'から', end_time, 'です。')"
      ],
      "metadata": {
        "id": "Q2eyYtvcCz75"
      },
      "execution_count": null,
      "outputs": []
    },
    {
      "cell_type": "markdown",
      "source": [
        "####カラーピッカー\n",
        "- Streamlitのカラーピッカーは、「HEX」、「RGB」、「HSL」を選んで色を取得\n",
        "    - RGBは、赤(Red)、緑(Green)、青(Blue)の要素の組み合わせで色を表現\n",
        "    - HSLは、色相(Hue)、彩度(Saturation)、輝度(Lightness)の組み合わせで表現\n",
        "    - HEXは、RGBを16進数で表現\n",
        "- 詳しくはこちら https://docs.streamlit.io/library/api-reference/widgets/st.color_picker"
      ],
      "metadata": {
        "id": "dKFjZWKS6unv"
      }
    },
    {
      "cell_type": "code",
      "source": [
        "# カラーピッカー\n",
        "%%writefile app.py   \n",
        "import streamlit as st\n",
        "\n",
        "st.title('カラーピッカー')\n",
        "\n",
        "# 初期値は「赤」\n",
        "c = st.color_picker('色を選んでください', '#ff0000')\n",
        "st.write('選択した色: ', c)"
      ],
      "metadata": {
        "id": "DVu2GCg0TIoz"
      },
      "execution_count": null,
      "outputs": []
    },
    {
      "cell_type": "markdown",
      "source": [
        "###【練習】\n",
        "自由にウィジットを表示してみましょう。"
      ],
      "metadata": {
        "id": "ftJLnGQEnThD"
      }
    },
    {
      "cell_type": "code",
      "source": [
        "%%writefile app.py\n",
        "import streamlit as st\n",
        "\n",
        "# ここにコードを書いてください。"
      ],
      "metadata": {
        "id": "1vovytoknaLz"
      },
      "execution_count": null,
      "outputs": []
    },
    {
      "cell_type": "markdown",
      "metadata": {
        "id": "rlNKxfYGnTwz"
      },
      "source": [
        "##《インタラクティブにウィジットを使う》\n",
        "- 目的に応じて対話的にウィジットを使うことができる"
      ]
    },
    {
      "cell_type": "markdown",
      "metadata": {
        "id": "rtkg3rh0cHDD"
      },
      "source": [
        "###(1) テキスト＆数値入力\n",
        "st.text_inputで文字列の入力、st.number_inputで数値の入力"
      ]
    },
    {
      "cell_type": "code",
      "execution_count": null,
      "metadata": {
        "id": "_FU1j-LMcGV0"
      },
      "outputs": [],
      "source": [
        "# 数値入力から年齢を、テキスト入力から趣味を入力して表示する\n",
        "%%writefile app.py          \n",
        "import streamlit as st\n",
        "\n",
        "st.title('テキスト＆数値入力の使用例')\n",
        "\n",
        "# st.number_input('ラベル', 最小値, 最大値, 初期値, step=間隔)\n",
        "age = st.number_input('何歳台ですか？',10,100,20,step=10)\n",
        "\n",
        "# st.text_input('ラベル', '初期文字列')\n",
        "hobby = st.text_input('あなたの趣味を教えてください。', '')\n",
        "\n",
        "# 趣味が入力されたら結果を表示する\n",
        "if hobby != '':\n",
        "    st.write('あなたは', age, '歳～', age + 9, '歳で趣味は', hobby, 'です。')\n",
        "\n"
      ]
    },
    {
      "cell_type": "markdown",
      "metadata": {
        "id": "VPY6cbmPpS_R"
      },
      "source": [
        "###(2) チェックボックス\n",
        "**※ 左サイドバーで「ファイル」を選択し、「セッションストレージにアップロード」ボタンを使って'sample.png'という名前で画像をアップロードしてから実行してください。**"
      ]
    },
    {
      "cell_type": "code",
      "execution_count": null,
      "metadata": {
        "id": "ul4oMx2DntDa"
      },
      "outputs": [],
      "source": [
        "# チェックボタンがONで画像を表示し、OFFで非表示にする\n",
        "%%writefile app.py          \n",
        "import streamlit as st\n",
        "from PIL import Image   # Pythonの画像処理ライブラリ\n",
        "import numpy as np      # 数値計算をより高速に行うための拡張モジュール\n",
        "\n",
        "st.title('チェックボックスの使用例')\n",
        "\n",
        "# st.checkbox('ラベル', value=False)    # valueは初期状態\n",
        "if st.checkbox('画像の表示', False):    # 初期状態はoff、チェックされたら画像を表示\n",
        "    img = Image.open('sample.png')\n",
        "    st.image(img, caption='サンプル画像', use_column_width=False)\n"
      ]
    },
    {
      "cell_type": "markdown",
      "metadata": {
        "id": "WH1y1VoerSEv"
      },
      "source": [
        "###(3) セレクトボックス"
      ]
    },
    {
      "cell_type": "code",
      "execution_count": null,
      "metadata": {
        "id": "zMok0VSBXGhJ"
      },
      "outputs": [],
      "source": [
        "# 誕生月を選んで誕生石を表示する\n",
        "%%writefile app.py          \n",
        "import streamlit as st\n",
        "\n",
        "st.title('セレクトボックスの使用例')\n",
        "\n",
        "# 誕生石の辞書 ※Pythonの基礎(2)参照\n",
        "birthstone = {\n",
        "        1:'ガーネット', 2:'アメジスト', 3:'アクアマリン', 4:'ダイアモンド',\n",
        "        5:'エメラルド', 6:'ムーンストーン', 7:'ルビー',8:' ペリドット',\n",
        "        9:'サファイア', 10:'オパール', 11:'トパーズ', 12:'トルコ石'}\n",
        "\n",
        "# セレクトボックスで選んだ値が「birth_month」に代入される\n",
        "# st.selectbox('ラベル',('選択肢1', '選択肢2', '選択肢3'))\n",
        "birth_month = st.selectbox(\n",
        "    '誕生月を教えてください。',\n",
        "    list(range(1,13))       # 1～12のリストを生成  ※Pythonの基礎(2)参照\n",
        ")\n",
        "\n",
        "# birth_monthに対応する誕生石を辞書から取得して表示する\n",
        "st.write(birth_month,  '月の誕生石は', birthstone[birth_month], 'です。')\n"
      ]
    },
    {
      "cell_type": "markdown",
      "metadata": {
        "id": "JOkDziTvVjxU"
      },
      "source": [
        "###(4) スライダー"
      ]
    },
    {
      "cell_type": "code",
      "execution_count": null,
      "metadata": {
        "id": "sTwdIOJUbb_X"
      },
      "outputs": [],
      "source": [
        "# 体温をチェックする\n",
        "%%writefile app.py          \n",
        "import streamlit as st\n",
        "\n",
        "st.title('スライダーの使用例')\n",
        "\n",
        "# st.slider('ラベル', 最小値, 最大値, 初期値, 刻み値, フォーマット %d,%fなど)\n",
        "body_temperature = st.slider('今朝の体温を教えてください。', 34.0, 42.0, 36.0, 0.1, '%f')\n",
        "\n",
        "st.write('あなたの今朝の体温は', body_temperature, 'です。')\n",
        "if body_temperature > 37.5:\n",
        "    st.warning('直ちに医療機関で検査を受けてください！')"
      ]
    },
    {
      "cell_type": "markdown",
      "source": [
        "###(5) プログレスバー\n",
        "- プログレスバーは処理や作業の進捗状況を棒状の領域の内部の色の変化によって表示するもの\n",
        "- Streamlitでは、progressメソッドを使用する\n",
        "- 詳しくはこちら https://docs.streamlit.io/library/api-reference/status/st.progress"
      ],
      "metadata": {
        "id": "5ouNUClbh24D"
      }
    },
    {
      "cell_type": "code",
      "source": [
        "# プログレスバーで経過時間を表示し、10秒後に風船を飛ばす\n",
        "%%writefile app.py      \n",
        "import streamlit as st\n",
        "import time\n",
        "\n",
        "st.title('プログレスバーの使用例')\n",
        "\n",
        "minute = st.empty()     # 単一要素コンテナの作成(プログレスバーの上に表示したいのでここに書いている)\n",
        "bar = st.progress(0)    # プログレスバーの作成\n",
        "\n",
        "for i in range(100):    # ※forについては Pythonの基礎(3)参照\n",
        "    time.sleep(0.1)     # 0.1秒遅延\n",
        "    bar.progress(i + 1) # プログレスバーの更新\n",
        "    minute.text(f'{(i+1)/10.0}秒')\n",
        "\n",
        "st.write('終了')\n",
        "\n",
        "# 風船が飛ばせる  楽しい(^○^)\n",
        "st.balloons()"
      ],
      "metadata": {
        "id": "GnF3zukZi2Vy"
      },
      "execution_count": null,
      "outputs": []
    },
    {
      "cell_type": "markdown",
      "source": [
        "###【練習】\n",
        "自由にウィジットを表示してみましょう。"
      ],
      "metadata": {
        "id": "Km14fOPhsCjw"
      }
    },
    {
      "cell_type": "code",
      "source": [
        "%%writefile app.py\n",
        "import streamlit as st\n",
        "\n",
        "# ここにコードを書いてください。"
      ],
      "metadata": {
        "id": "hG33-73hsMsS"
      },
      "execution_count": null,
      "outputs": []
    },
    {
      "cell_type": "markdown",
      "metadata": {
        "id": "CIzNiLTyoArD"
      },
      "source": [
        "##《レイアウトを整える》\n",
        "- サイドバー、カラムレイアウト、エクスパンダーを使用してレイアウトを整える"
      ]
    },
    {
      "cell_type": "markdown",
      "metadata": {
        "id": "Z-SoNQyDoiKz"
      },
      "source": [
        "###(1) サイドバー\n",
        "- サイドバーに配置させたいものは st.sidebar.<widgetname> のように sidebar を追加してコードを書く\n",
        "- 複数ページを切り替えたい場合などに利用すると便利\n",
        "- 詳しくはこちら https://docs.streamlit.io/library/api-reference/layout/st.sidebar"
      ]
    },
    {
      "cell_type": "code",
      "execution_count": null,
      "metadata": {
        "id": "-YbtfJmOomix"
      },
      "outputs": [],
      "source": [
        "# サイドバーを使って複数ページを切り替える\n",
        "%%writefile app.py          \n",
        "import streamlit as st\n",
        "\n",
        "# ワイド表示\n",
        "st.set_page_config(layout='wide')\n",
        "\n",
        "# セレクトボックスのリストを作成\n",
        "pagelist = ['page1', 'page2', 'page3']\n",
        "\n",
        "# サイドバーにテキストを配置\n",
        "st.sidebar.text('サイドバーの使用例')\n",
        "\n",
        "# サイドバーのセレクトボックスを配置\n",
        "selector = st.sidebar.selectbox('ページの選択', pagelist)\n",
        "\n",
        "# セレクトボックスで選んだ文字列で振り分け\n",
        "if selector == 'page1':\n",
        "    st.title('ページ1の表示')\n",
        "elif selector == 'page2':\n",
        "    st.title('ページ2の表示')\n",
        "elif selector == 'page3':\n",
        "    st.title('ページ3の表示')"
      ]
    },
    {
      "cell_type": "code",
      "execution_count": null,
      "metadata": {
        "id": "Kq7nmXpyqHYd"
      },
      "outputs": [],
      "source": [
        "# サイドバーで切り替える表示を関数にする\n",
        "# ※関数については Pythonの基礎(4)参照\n",
        "%%writefile app.py          \n",
        "import streamlit as st\n",
        "from datetime import date\n",
        "from datetime import time\n",
        "\n",
        "def main():\n",
        "    # ワイド表示\n",
        "    st.set_page_config(layout='wide')\n",
        "\n",
        "    # セレクトボックスのリストを作成\n",
        "    widget_list = ['カラーピッカー', 'デートピッカー', 'タイムピッカー']\n",
        "\n",
        "    # サイドバーにテキストを配置\n",
        "    st.sidebar.header('特殊なウィジット')\n",
        "\n",
        "    # サイドバーのセレクトボックスを配置\n",
        "    selector = st.sidebar.selectbox('ウィジットの選択', widget_list)\n",
        "\n",
        "    # セレクトボックスで選んだ文字列で振り分け\n",
        "    if selector == 'カラーピッカー':\n",
        "        color_picker()\n",
        "    elif selector == 'デートピッカー':\n",
        "        date_picker()\n",
        "    elif selector == 'タイムピッカー':\n",
        "        time_picker()\n",
        "\n",
        "# カラーピッカー\n",
        "def color_picker():\n",
        "    st.title('カラーピッカー')\n",
        "\n",
        "    # マークダウン  ※Pythonの基礎(1)参照\n",
        "    \"\"\"\n",
        "    - Streamlitのカラーピッカーは、「HEX」、「RGB」、「HSL」を選んで色を取得することができます。\n",
        "        - RGBは、赤(Red)、緑(Green)、青(Blue)の要素の組み合わせで色を表現します。\n",
        "        - HSLは、色相(Hue)、彩度(Saturation)、輝度(Lightness)の組み合わせで表現します。\n",
        "        - HEXは、RGBを16進数で表現したものです。\n",
        "    \n",
        "    ***\n",
        "    \"\"\"\n",
        "    c = st.color_picker(label='色を選んでください:')\n",
        "    st.write('選択した色: ', c)\n",
        "\n",
        "# デートピッカー\n",
        "def date_picker():\n",
        "    st.title('デートピッカー')\n",
        "\n",
        "    \"\"\"\n",
        "    - デートピッカー (date picker)」は、カレンダーがポップアップで開き、その中から任意の日付を選択する、という入力機能です。\n",
        "    - Streamlitでは、date_inputメソッドを使用します。\n",
        "    \"\"\"\n",
        "    birthday = st.date_input('生年月日はいつですか？',\n",
        "                             min_value=date(1900, 1, 1),\n",
        "                             max_value=date.today(),\n",
        "                             value=date(2022, 1, 1),\n",
        "                             )\n",
        "    st.write('あなたの生年月日は', birthday, 'です。')\n",
        "\n",
        "# タイムピッカー\n",
        "def time_picker():\n",
        "    st.title('タイムピッカー')\n",
        "\n",
        "    \"\"\"\n",
        "    - タイムピッカー（time picker）は、セレクトボックスで任意の時間を選択する、という入力機能です。\n",
        "    - Streamlitでは、time_inputメソッドを使用します。\n",
        "    \"\"\"\n",
        "    start_time = st.time_input('開始時刻: ',value=time(hour=9, minute=0))\n",
        "    end_time = st.time_input('終了時刻: ',value=time(hour=20, minute=0))\n",
        "\n",
        "    st.write('選択した時間は', start_time, 'から', end_time, 'です。')\n",
        "\n",
        "if __name__ == '__main__':\n",
        "    main()"
      ]
    },
    {
      "cell_type": "markdown",
      "source": [
        "###(2) カラムレイアウト\n",
        "- カラムは、画面を列方向に分割して異なる内容を表示する\n",
        "- 詳しくはこちら https://docs.streamlit.io/library/api-reference/layout/st.columns"
      ],
      "metadata": {
        "id": "XtHeXlEcRpNm"
      }
    },
    {
      "cell_type": "markdown",
      "source": [
        "**※ 左サイドバーで「ファイル」を選択し、「セッションストレージにアップロード」ボタンを使って'sample1.png'、'sample2.png'、'sample3.png'という名前で画像をアップロードしてから実行してください。**"
      ],
      "metadata": {
        "id": "zAz8J8Yl1gGu"
      }
    },
    {
      "cell_type": "code",
      "source": [
        "# 複数画像を横に整列して表示する\n",
        "%%writefile app.py          \n",
        "import streamlit as st\n",
        "from PIL import Image\n",
        "\n",
        "st.title('カラムレイアウトの使用例')\n",
        "\n",
        "col1, col2, col3 = st.columns(3)\n",
        "\n",
        "with col1:\n",
        "    st.header('左')\n",
        "    img1 = Image.open('sample1.png')\n",
        "    st.image(img1, caption='サンプル画像1', use_column_width=True)\n",
        "\n",
        "with col2:\n",
        "    st.header('中央')\n",
        "    img2 = Image.open('sample2.png')\n",
        "    st.image(img2, caption='サンプル画像2', use_column_width=True)\n",
        "    \n",
        "with col3:\n",
        "    st.header('右')\n",
        "    img3 = Image.open('sample3.png')\n",
        "    st.image(img3, caption='サンプル画像3', use_column_width=True)"
      ],
      "metadata": {
        "id": "NznnzeFU12Hu"
      },
      "execution_count": null,
      "outputs": []
    },
    {
      "cell_type": "markdown",
      "source": [
        "###(3) エクスパンダー\n",
        "- 折り畳みウィジェットのことで、ユーザーが展開または折りたたむことができる\n",
        "- 詳しくはこちら https://docs.streamlit.io/library/api-reference/layout/st.expander"
      ],
      "metadata": {
        "id": "O6c4GkLXSC0O"
      }
    },
    {
      "cell_type": "code",
      "source": [
        "# 詳細を表示/非表示にする\n",
        "%%writefile app.py  \n",
        "import streamlit as st\n",
        "\n",
        "st.title('エクスパンダーの使用例')\n",
        "\n",
        "st.header('猫を保護しています')\n",
        "with st.expander('詳しくはこちら'):\n",
        "     st.write(\"\"\"\n",
        "         2022年6月25日に空き家になっている住宅の庭で鳴いているところを保護しました。\n",
        "         首輪はしていませんが、人懐っこいので飼い猫だと思います。\n",
        "         お心あたりの方は、090-1234-5678にご連絡ください。\n",
        "     \"\"\")\n",
        "     st.image('https://static.streamlit.io/examples/cat.jpg', width=200)"
      ],
      "metadata": {
        "id": "MoSKX8tjZ3lf"
      },
      "execution_count": null,
      "outputs": []
    },
    {
      "cell_type": "markdown",
      "source": [
        "###【練習】\n",
        "自由にウィジットを表示してみましょう。"
      ],
      "metadata": {
        "id": "OleTTamazBio"
      }
    },
    {
      "cell_type": "code",
      "source": [
        "%%writefile app.py\n",
        "import streamlit as st\n",
        "\n",
        "# ここにコードを書いてください。"
      ],
      "metadata": {
        "id": "-SHd3ok8zI9w"
      },
      "execution_count": null,
      "outputs": []
    }
  ],
  "metadata": {
    "colab": {
      "collapsed_sections": [],
      "toc_visible": true,
      "provenance": [],
      "authorship_tag": "ABX9TyP/IxAZMeyi2XwUThTZvOFq",
      "include_colab_link": true
    },
    "kernelspec": {
      "display_name": "Python 3",
      "name": "python3"
    },
    "language_info": {
      "name": "python"
    }
  },
  "nbformat": 4,
  "nbformat_minor": 0
}