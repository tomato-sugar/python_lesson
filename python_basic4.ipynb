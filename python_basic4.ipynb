{
  "nbformat": 4,
  "nbformat_minor": 0,
  "metadata": {
    "colab": {
      "name": "python_basic4.ipynb",
      "provenance": [],
      "collapsed_sections": [],
      "toc_visible": true,
      "include_colab_link": true
    },
    "kernelspec": {
      "name": "python3",
      "display_name": "Python 3"
    },
    "language_info": {
      "name": "python"
    }
  },
  "cells": [
    {
      "cell_type": "markdown",
      "metadata": {
        "id": "view-in-github",
        "colab_type": "text"
      },
      "source": [
        "<a href=\"https://colab.research.google.com/github/tomato-sugar/python_lesson/blob/main/python_basic4.ipynb\" target=\"_parent\"><img src=\"https://colab.research.google.com/assets/colab-badge.svg\" alt=\"Open In Colab\"/></a>"
      ]
    },
    {
      "cell_type": "markdown",
      "source": [
        "#2022年 東北TECH道場 郡山道場 第7期"
      ],
      "metadata": {
        "id": "bYZhUe3v9fFK"
      }
    },
    {
      "cell_type": "markdown",
      "metadata": {
        "id": "KFrOokfeuRpC"
      },
      "source": [
        "# Pythonの基礎（４）"
      ]
    },
    {
      "cell_type": "markdown",
      "metadata": {
        "id": "0J7RrkG6r2PN"
      },
      "source": [
        "##《関数》\n",
        "- まとまった処理は関数にすることで何度も呼び出すことができる  \n",
        "つまり同じコードを何度も書く必要がなくなる\n",
        "- 関数はdef文で定義する\n",
        "- 引数には変数だけではなくリストやタプル、辞書もそのまま渡せる\n",
        "```python\n",
        "def 関数名(引数1, 引数2, 引数3, ...):\n",
        "    処理\n",
        "    return 戻り値\n",
        "```\n"
      ]
    },
    {
      "cell_type": "markdown",
      "source": [
        "###【引数のない関数】"
      ],
      "metadata": {
        "id": "VKOTJ0SaoE-7"
      }
    },
    {
      "cell_type": "code",
      "source": [
        "#Hello world!を表示する関数\n",
        "def say_hello():            # ()内は書かない\n",
        "    print('Hello world!')   # 行頭にインデントを挿入\n",
        "\n",
        "\n",
        "#関数の呼び出し（何度でも呼び出し可能）\n",
        "say_hello()\n",
        "say_hello()\n",
        "say_hello()"
      ],
      "metadata": {
        "id": "Xoca0zchoKZe"
      },
      "execution_count": null,
      "outputs": []
    },
    {
      "cell_type": "code",
      "source": [
        "\"\"\"\n",
        "【練習問題１】\n",
        "コメントを参考に関数を作成しましょう。\n",
        "\n",
        "【実行結果】\n",
        "★☆★★☆★☆★☆★☆★☆★\n",
        "☆                        ☆\n",
        "★   ゲーム　スタート！   ★\n",
        "☆                        ☆\n",
        "★☆★★☆★☆★☆★☆★☆★\n",
        "\"\"\"\n",
        "#ゲームのオープニングを表示する関数opening\n",
        "\n",
        "\n",
        "#関数の呼び出し\n",
        "opening()"
      ],
      "metadata": {
        "id": "xI8VJZ2hqGfi"
      },
      "execution_count": null,
      "outputs": []
    },
    {
      "cell_type": "markdown",
      "metadata": {
        "id": "ae7nKB-c01LF"
      },
      "source": [
        "###【関数に値を渡す】\n",
        "- 引数で値を渡すことができる"
      ]
    },
    {
      "cell_type": "code",
      "source": [
        "#渡された文字列に*を付けて表示する関数\n",
        "def add_asterisk(s):    # sが引数\n",
        "    print('***', s, '***')\n",
        "\n",
        "#関数の呼び出し\n",
        "add_asterisk('Hello world!')    #()内に渡したい値を書く"
      ],
      "metadata": {
        "id": "OB1neLgzpXes"
      },
      "execution_count": null,
      "outputs": []
    },
    {
      "cell_type": "code",
      "source": [
        "\"\"\"\n",
        "【練習問題２】\n",
        "コメントを参考に関数を作成しましょう。\n",
        "\n",
        "【実行結果】\n",
        "********************\n",
        "\n",
        "\"\"\"\n",
        "#渡された整数の個数分の*を表示する関数print_asterisk\n",
        "\n",
        "\n",
        "#関数の呼び出し\n",
        "print_asterisk(20)"
      ],
      "metadata": {
        "id": "PTLxrFVnrBcL"
      },
      "execution_count": null,
      "outputs": []
    },
    {
      "cell_type": "markdown",
      "source": [
        "###【関数から値を返す】\n",
        "- return文で、関数から外部に値を返すことができる"
      ],
      "metadata": {
        "id": "N65eZuPwsHx4"
      }
    },
    {
      "cell_type": "code",
      "source": [
        "#三角形の面積を計算する関数\n",
        "def triangle_area(base, height):\n",
        "    area = base * height / 2\n",
        "    return area     #面積を返却する\n",
        "\n",
        "#関数の呼び出し\n",
        "area1 = triangle_area(15, 3)    #返却値を=でarea1に代入する\n",
        "print(area1)\n",
        "print(triangle_area(10,20))     #返却値をそのままprint関数で表示"
      ],
      "metadata": {
        "id": "OZLXhFHw11LM"
      },
      "execution_count": null,
      "outputs": []
    },
    {
      "cell_type": "code",
      "source": [
        "\"\"\"\n",
        "【練習問題３】\n",
        "コメントを参考に関数を作成しましょう。\n",
        "\n",
        "【実行結果】\n",
        "123\n",
        "20\n",
        "\"\"\"\n",
        "#整数値を2つ入力し、大きいほうの値を返却する関数maxof\n",
        "\n",
        "\n",
        "#関数の呼び出し\n",
        "m = maxof(123, 45)\n",
        "print(m)\n",
        "print(maxof(10, 20))"
      ],
      "metadata": {
        "id": "gWu6E1KRe4Y-"
      },
      "execution_count": null,
      "outputs": []
    },
    {
      "cell_type": "markdown",
      "metadata": {
        "id": "qJ-O4Lwz3c0E"
      },
      "source": [
        "###【関数にリストを渡す】\n",
        "- 引数でリストを渡すことができる"
      ]
    },
    {
      "cell_type": "code",
      "source": [
        "#リストの合計を求める関数\n",
        "def sum_list(num_list):\n",
        "    sum = 0\n",
        "    for n in num_list:\n",
        "        sum += n\n",
        "    return sum\n",
        "\n",
        "#関数の呼び出し\n",
        "list1 = [12, 44, 3, 999, 76]\n",
        "ans = sum_list(list1)\n",
        "print(ans)\n",
        "list2 = range(11)   #0～10のリスト\n",
        "ans = sum_list(list2)\n",
        "print(ans)"
      ],
      "metadata": {
        "id": "2DAOfutg3FQN"
      },
      "execution_count": null,
      "outputs": []
    },
    {
      "cell_type": "code",
      "source": [
        "\"\"\"\n",
        "【練習問題４】\n",
        "コメントを参考に関数を作成しましょう。\n",
        "\n",
        "【実行結果】\n",
        "2\n",
        "10\n",
        "\"\"\"\n",
        "#リスト中の負数の数を返却するnegative_number_count関数\n",
        "\n",
        "\n",
        "#関数の呼び出し\n",
        "list1 = [12, -44, 3, -999, 76]\n",
        "ans = negative_number_count(list1)\n",
        "print(ans)\n",
        "list2 = range(-10, 10)   #-10～10のリスト\n",
        "ans = negative_number_count(list2)\n",
        "print(ans)"
      ],
      "metadata": {
        "id": "UBaZ15gLhM70"
      },
      "execution_count": null,
      "outputs": []
    },
    {
      "cell_type": "markdown",
      "source": [
        "###【関数からリストを返す】\n",
        "- return文で、関数からリストを返すことができる"
      ],
      "metadata": {
        "id": "W5-kX_kujS7i"
      }
    },
    {
      "cell_type": "code",
      "source": [
        "#偶数値のリストを返す関数\n",
        "def get_even_list(num_list):\n",
        "    n_list = []     #空のリスト\n",
        "    for n in num_list:\n",
        "        if n % 2 == 0:\n",
        "            n_list.append(n)\n",
        "    return n_list\n",
        "\n",
        "#関数の呼び出し\n",
        "list1 = [56, 89, 66, 37, 98, 77, 62, 82, 50, 71]\n",
        "ans = get_even_list(list1)\n",
        "print(ans)\n",
        "list2 = range(10, 100, 3)   #10～99の3間隔のリスト\n",
        "ans = get_even_list(list2)\n",
        "print(ans)"
      ],
      "metadata": {
        "id": "AGlsl8tejbn6"
      },
      "execution_count": null,
      "outputs": []
    },
    {
      "cell_type": "code",
      "source": [
        "\"\"\"\n",
        "【練習問題５】\n",
        "コメントを参考に関数を作成しましょう。\n",
        "\n",
        "【実行結果】\n",
        "[62, 32, 705, 3.1333333333333333]\n",
        "0で割り算はできません\n",
        "[47, 47, 0, 0]\n",
        "\"\"\"\n",
        "#整数値を2つ渡すと四則演算の結果をリストに返すarithmetic関数\n",
        "\n",
        "\n",
        "#関数の呼び出し\n",
        "ans = arithmetic(47, 15)\n",
        "print(ans)\n",
        "ans2 = arithmetic(47, 0)\n",
        "print(ans2)\n"
      ],
      "metadata": {
        "id": "VrhkT2C_mLFh"
      },
      "execution_count": null,
      "outputs": []
    },
    {
      "cell_type": "markdown",
      "metadata": {
        "id": "x99dB6yD3maE"
      },
      "source": [
        "###【関数に辞書を渡す】\n",
        "- 引数で辞書を渡すことができる"
      ]
    },
    {
      "cell_type": "code",
      "source": [
        "#色ごとに*を表示する関数\n",
        "def color_print(color, c):  #引数は辞書とキー\n",
        "    #指定のキーが辞書にあったら\n",
        "    if c in color:\n",
        "        r = color[c]    #キーから値を取り出す\n",
        "        for n in range(r):\n",
        "            print('*', end='')\n",
        "\n",
        "#関数の呼び出し\n",
        "color = {\"Black\": 2, \"White\": 6, \"Red\": 15, \"Blue\": 12}\n",
        "color_print(color, \"Red\")\n",
        "print()\n",
        "color_print(color, \"White\")"
      ],
      "metadata": {
        "id": "S12vlIrL4s6K"
      },
      "execution_count": null,
      "outputs": []
    },
    {
      "cell_type": "markdown",
      "source": [
        "###【値渡しと参照渡し】\n",
        "- Pythonでは値をコピーして渡す値渡しではなく値が格納されている場所を渡す参照渡しが行われる\n",
        "- ただし、引数が数値や文字列のようなイミュータブル（変更不可）な場合は、内部でオブジェクトのコピーが行われ値渡しのような挙動になる\n",
        "- 引数がリストや辞書などのミュータブル（変更可能）なオブジェクトの場合には、参照渡しの挙動になる\n",
        "\n",
        "※ここの説明が詳しいです。  \n",
        "「Pythonの引数における参照渡しと値渡しについて」  \n",
        "https://www.javadrive.jp/python/userfunc/index3.html"
      ],
      "metadata": {
        "id": "R7-_OP_BR5Cm"
      }
    },
    {
      "cell_type": "code",
      "source": [
        "#値渡しの挙動\n",
        "def value_func(n):\n",
        "    print('①', n)\n",
        "    n += 1\n",
        "    print('②', n)\n",
        "\n",
        "#関数の呼び出し\n",
        "x = 10\n",
        "value_func(x)\n",
        "print('③',x)    #関数呼び出し後にxは変化しない"
      ],
      "metadata": {
        "id": "8pwOqqfjWOhC"
      },
      "execution_count": null,
      "outputs": []
    },
    {
      "cell_type": "code",
      "source": [
        "#参照渡しの挙動\n",
        "def value_func(n):\n",
        "    print('①', n)\n",
        "    n[0] += 1\n",
        "    print('②', n)\n",
        "\n",
        "#関数の呼び出し\n",
        "x = [1, 2, 3]\n",
        "value_func(x)\n",
        "print('③',x)    #関数呼び出し後にxが変化する"
      ],
      "metadata": {
        "id": "zLgXbwblW-WK"
      },
      "execution_count": null,
      "outputs": []
    },
    {
      "cell_type": "markdown",
      "metadata": {
        "id": "YBm5mf-hgEDG"
      },
      "source": [
        "###【関数とメソッドの違い】\n",
        "- 関数名()　でアクセスするのは関数\n",
        "- インスタンス名.メソッド名() でアクセスするのはメソッド"
      ]
    },
    {
      "cell_type": "code",
      "source": [
        "#辞書\n",
        "color = {\"Black\": 2, \"White\": 4, \"Red\": 5, \"Blue\": 3}\n",
        "\n",
        "#len関数 要素数を取得\n",
        "print(len(color))\n",
        "\n",
        "#setdefaultメソッド キーと値の追加\n",
        "color.setdefault(\"Pink\", 7)\n",
        "print(color)"
      ],
      "metadata": {
        "id": "K-yvsivY6zca"
      },
      "execution_count": null,
      "outputs": []
    },
    {
      "cell_type": "markdown",
      "source": [
        "※ 2022/06/06 追記\n",
        "###【main関数】\n",
        "- Pythonではmain関数は必須ではなく、慣例的に用いられる場合がある\n",
        "- 「main」という名前も慣例的、必ずしもこの名前にする必要はない  \n",
        "※でも、慣例には従うほうが無難です  \n",
        "\n",
        "- main関数の書き方  \n",
        "\n",
        "```python\n",
        "#返り値無し、引数無しmain関数\n",
        "def main():\n",
        "    print('Hello World')\n",
        "\n",
        "if __name__ == '__main__':\n",
        "    main()\n",
        "```\n",
        "  \n",
        "```python\n",
        "#終了ステータスを返すmain関数\n",
        "import sys\n",
        "\n",
        "def main():\n",
        "    print('Hello World')\n",
        "    return 0\n",
        "\n",
        "if __name__ == '__main__':\n",
        "    sys.exit(main())\n",
        "```\n",
        "\n",
        "```python\n",
        "#終了ステータス、引数ありのmain関数\n",
        "import sys\n",
        "\n",
        "def main(argv):\n",
        "    print('Hello World')\n",
        "    return 0\n",
        "\n",
        "if __name__ == '__main__':\n",
        "    sys.exit(main(sys.argv))\n",
        "```\n",
        "- if ＿name＿ == '＿main＿': の意味は、このあたりを参照してください。  \n",
        "https://techacademy.jp/magazine/19129\n"
      ],
      "metadata": {
        "id": "oI3XpwcuTVs0"
      }
    },
    {
      "cell_type": "code",
      "source": [
        "def main():\n",
        "    print('main 関数で表示')\n",
        "    func1()\n",
        "    func2()\n",
        "\n",
        "def func1():\n",
        "    print('func1関数で表示')\n",
        "\n",
        "def func2():\n",
        "    print('func2関数で表示')\n",
        "\n",
        "if __name__ == '__main__':\n",
        "    main()"
      ],
      "metadata": {
        "id": "o0F8VG_K9EGc"
      },
      "execution_count": null,
      "outputs": []
    }
  ]
}