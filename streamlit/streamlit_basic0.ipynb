{
  "nbformat": 4,
  "nbformat_minor": 0,
  "metadata": {
    "colab": {
      "name": "streamlit_basic0.ipynb",
      "provenance": [],
      "collapsed_sections": [],
      "toc_visible": true,
      "include_colab_link": true
    },
    "kernelspec": {
      "name": "python3",
      "display_name": "Python 3"
    },
    "language_info": {
      "name": "python"
    }
  },
  "cells": [
    {
      "cell_type": "markdown",
      "metadata": {
        "id": "view-in-github",
        "colab_type": "text"
      },
      "source": [
        "<a href=\"https://colab.research.google.com/github/tomato-sugar/python_lesson/blob/main/streamlit/streamlit_basic0.ipynb\" target=\"_parent\"><img src=\"https://colab.research.google.com/assets/colab-badge.svg\" alt=\"Open In Colab\"/></a>"
      ]
    },
    {
      "cell_type": "markdown",
      "source": [
        "#2022年 東北TECH道場 郡山道場 第7期"
      ],
      "metadata": {
        "id": "PA_wyskPJ_wN"
      }
    },
    {
      "cell_type": "markdown",
      "source": [
        "##Streamlitを用いたWebアプリ制作入門（0）"
      ],
      "metadata": {
        "id": "Y-P-gTP0KD6U"
      }
    },
    {
      "cell_type": "markdown",
      "source": [
        "##《このセクションは緊急用》\n",
        "- 今回の「Streamlitを用いたWebアプリ制作入門」講座では、localtunnelというローカルで実行中のアプリを外部公開するサービスを使用する予定でしたが、昨日確認したら、原因は不明ですが、このlocaltunnelが使えなくなっており、公式サイトにもアクセスできないようになっていました。そのため、急遽、「ngrok（https://ngrok.com ）」を使用するようにします。  \n",
        "- ngrokを利用するには登録が必要です。  \n",
        "こちらを参考にして登録し、  \n",
        "「アカウントが必要になったngrokの利用準備手順」  \n",
        "https://zenn.dev/protoout/articles/47-ngrok-setup-2022  \n",
        "「4. ログイン後、…」までを完了させてください。  \n"
      ],
      "metadata": {
        "id": "W9N9099_KT98"
      }
    },
    {
      "cell_type": "markdown",
      "metadata": {
        "id": "8kW_qXJVTjic"
      },
      "source": [
        "##《Streamlitの実行手順》\n",
        "タイトルを表示するだけのシンプルなStreamlitアプリを作成し、ngrokを使って動作を確認します。"
      ]
    },
    {
      "cell_type": "markdown",
      "source": [
        "### (1) ライブラリのインストール\n",
        "- pipコマンドを用いて、Streamlit、およびアプリの動作の確認に使用する「ngrok」をインストール  \n",
        "  ※ Google Colabでコマンドラインスクリプトを実行するには、行の前に「!」を追加します。  \n",
        "  ※ ですから、Pythonパッケージをインストールするには「!pip install」と記述します。  \n",
        "  ※ **エラーが発生する場合は、「ランタイム」→「ランタイムを再起動」によりランタイムを起動し再度実行してください。**"
      ],
      "metadata": {
        "id": "vRJCuxALcgkb"
      }
    },
    {
      "cell_type": "code",
      "execution_count": null,
      "metadata": {
        "id": "Pbqipzj3nCy4"
      },
      "outputs": [],
      "source": [
        "!pip install streamlit==1.7.0 --quiet\n",
        "!pip install pyngrok==4.1.1 --quiet"
      ]
    },
    {
      "cell_type": "markdown",
      "source": [
        "Streamlit、およびngrokをインポートする "
      ],
      "metadata": {
        "id": "okotH3BqNT0K"
      }
    },
    {
      "cell_type": "code",
      "source": [
        "import streamlit as st\n",
        "from pyngrok import ngrok"
      ],
      "metadata": {
        "id": "OsHcq-kaDwIi"
      },
      "execution_count": null,
      "outputs": []
    },
    {
      "cell_type": "markdown",
      "source": [
        "###(2)「Hello World !」を表示する\n",
        "- 以下のコードで「Hello World!」を表示するWebアプリが作成できる  \n",
        "    - 「%%writefile ファイルのパス」で、以降のすべての行が、改行を維持したままファイルのパスへ保存される\n",
        "    - 作成した「app.py」は、左サイドバーのフォルダマークをクリックすると確認することができる"
      ],
      "metadata": {
        "id": "89-dp_DPM2oZ"
      }
    },
    {
      "cell_type": "code",
      "source": [
        "#Streamlitメインの処理を/content/app.pyに保存\n",
        "%%writefile app.py          \n",
        "import streamlit as st      #streamlitを読み込み「st」という名前で使えるようにする\n",
        "\n",
        "st.title('Hello World !')   #タイトルで「Hello World!」と表示する"
      ],
      "metadata": {
        "id": "C2oURiPqOD6x"
      },
      "execution_count": null,
      "outputs": []
    },
    {
      "cell_type": "markdown",
      "source": [
        "###(3) Authtokenの設定\n",
        "ngrokで接続するために必要な「Authtoken」を設定\n",
        "- 以下のコードの、  \n",
        "`!ngrok authtoken YourAuthtoken`  \n",
        "における  \n",
        "`YourAuthtoken`の箇所を、《このセクションは緊急用》で取得した自分のAuthtokenに置き換える  "
      ],
      "metadata": {
        "id": "j03EsJaHh4KK"
      }
    },
    {
      "cell_type": "code",
      "source": [
        "!ngrok authtoken YourAuthtoken"
      ],
      "metadata": {
        "id": "mTfmORj2Dn7-"
      },
      "execution_count": null,
      "outputs": []
    },
    {
      "cell_type": "markdown",
      "source": [
        "###(4) アプリの起動\n",
        "streamlitの`run`コマンドでアプリを起動する\n"
      ],
      "metadata": {
        "id": "CnobL05MkjB1"
      }
    },
    {
      "cell_type": "code",
      "source": [
        "!streamlit run app.py &>/dev/null&  # 「&>/dev/null&」により、出力を非表示にしてバックグランドジョブとして実行"
      ],
      "metadata": {
        "id": "W0jXlMXWK0vi"
      },
      "execution_count": null,
      "outputs": []
    },
    {
      "cell_type": "markdown",
      "source": [
        "- ngrokのプロセスを終了した上で、新たにポートを指定して接続する  \n",
        "- 接続の結果、urlを取得できる  \n",
        "\n",
        "※**ngrokの無料プランでは同時に1つのプロセスしか動かせないので、エラーが発生した場合は「ランタイム」→「セッションの管理」で不要なGoogle Colabのセッションを修了してください。**"
      ],
      "metadata": {
        "id": "W5RLCJ7Sl2x_"
      }
    },
    {
      "cell_type": "code",
      "source": [
        "ngrok.kill()  # プロセスの修了\n",
        "url = ngrok.connect(port=\"8501\")  # 接続"
      ],
      "metadata": {
        "id": "v23ymsdLK3x7"
      },
      "execution_count": null,
      "outputs": []
    },
    {
      "cell_type": "markdown",
      "source": [
        "###(5) 動作確認\n",
        "- urlを表示し、リンク先でアプリが動作することを確認する  \n",
        "※**このとき、「偽のサイトにアクセスしようとしています」と出る場合がありますが、無視してください。**"
      ],
      "metadata": {
        "id": "OybPayjCXByp"
      }
    },
    {
      "cell_type": "code",
      "source": [
        "print(url)"
      ],
      "metadata": {
        "id": "MIY7ositLAXC"
      },
      "execution_count": null,
      "outputs": []
    },
    {
      "cell_type": "markdown",
      "source": [
        "##《その後の進め方》\n",
        "- 「streamlit_basic1.ipynb」～「streamlit_basic3.ipynb」で順番に学習してください。\n",
        "- このとき、Streamlitの表示画面で「≡」から「Settings」を選び、「 Run on save」にチェックを入れておくと、「app.py」を編集するだけで再表示できます。"
      ],
      "metadata": {
        "id": "CY7AI3CzR55_"
      }
    },
    {
      "cell_type": "code",
      "source": [
        "#ここに、学習内容をコピーしてください"
      ],
      "metadata": {
        "id": "xpSLUykQi3cH"
      },
      "execution_count": null,
      "outputs": []
    }
  ]
}