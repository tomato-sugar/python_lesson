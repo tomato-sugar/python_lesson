{
  "cells": [
    {
      "cell_type": "markdown",
      "metadata": {
        "id": "view-in-github",
        "colab_type": "text"
      },
      "source": [
        "<a href=\"https://colab.research.google.com/github/tomato-sugar/python_lesson/blob/main/streamlit/streamlit_basic3.ipynb\" target=\"_parent\"><img src=\"https://colab.research.google.com/assets/colab-badge.svg\" alt=\"Open In Colab\"/></a>"
      ]
    },
    {
      "cell_type": "markdown",
      "metadata": {
        "id": "Q64uF7YntS26"
      },
      "source": [
        "#2022年 東北TECH道場 郡山道場 第7期\n"
      ]
    },
    {
      "cell_type": "markdown",
      "metadata": {
        "id": "Ul0Hk-s5suvG"
      },
      "source": [
        "##Streamlitを用いたWebアプリ制作入門（３）"
      ]
    },
    {
      "cell_type": "markdown",
      "source": [
        "**※ 最初にStreamlitをインストールしましょう。**  \n",
        "**※ エラーが発生する場合は、「ランタイム」→「ランタイムを再起動」によりランタイムを起動し再度実行してください。**"
      ],
      "metadata": {
        "id": "a4qcpAspz7K4"
      }
    },
    {
      "cell_type": "code",
      "source": [
        "#streamlitをインストール\n",
        "!pip install streamlit"
      ],
      "metadata": {
        "id": "M4SNVK01z7gi"
      },
      "execution_count": null,
      "outputs": []
    },
    {
      "cell_type": "markdown",
      "metadata": {
        "id": "M8Acipdu1Lrj"
      },
      "source": [
        "##《このセクションで学ぶこと》\n",
        "- Pandasで表を作成する方法を学びます。\n",
        "- Streamlitで表を表示する方法を学びます。\n",
        "- Streamlitでグラフを表示する方法を学びます。"
      ]
    },
    {
      "cell_type": "markdown",
      "source": [
        "##《Pandasで表を作成》"
      ],
      "metadata": {
        "id": "bg6r906CnDDg"
      }
    },
    {
      "cell_type": "markdown",
      "source": [
        "###(1) Pandasとは\n",
        "- Pandas(パンダス)は、データ解析を容易にする機能を提供するPythonのデータ解析ライブラリ\n",
        "- データの読み込みや編集、統計量の表示などを簡単に行うことができる\n",
        "- Google Colaboratoryには予めインストールされているのでインストールは不要\n",
        "- Pandasのデータ構造にはSeries（一次元）とDataFrame（二次元）がある"
      ],
      "metadata": {
        "id": "1UrT0lbhnPg0"
      }
    },
    {
      "cell_type": "markdown",
      "source": [
        "###(2) Series（一次元）\n",
        "- Seriesはラベル付きの一次元の配列で、整数や小数、文字列など様々な型のデータを格納可能\n",
        "- 各インデックスに意味のあるラベルを付け、ラベルでアクセスすることができる\n",
        "- NumPyの配列や辞書を使っても作成することができる\n",
        "- 詳しくはこちら https://pandas.pydata.org/docs/reference/api/pandas.Series.html"
      ],
      "metadata": {
        "id": "tU8k2LgYomDv"
      }
    },
    {
      "cell_type": "code",
      "source": [
        "#Series（一次元）の作成\n",
        "import pandas as pd     #Pandasのモジュールのインポート\n",
        "\n",
        "#1次元の配列\n",
        "score = pd.Series([98, 88, 85, 76, 83])\n",
        "\n",
        "#表示\n",
        "print(score)"
      ],
      "metadata": {
        "id": "BL9Nyu7U2fvf"
      },
      "execution_count": null,
      "outputs": []
    },
    {
      "cell_type": "code",
      "source": [
        "#Seriesにインデックス用のラベルを付ける\n",
        "import pandas as pd\n",
        "\n",
        "#ラベルはindexで指定する\n",
        "score = pd.Series([98, 88, 85, 76, 83], index=['国語','数学','理科', '社会', '英語'])\n",
        "\n",
        "#表示\n",
        "print(score)\n",
        "\n",
        "#添字で指定する\n",
        "print(score[2])\n",
        "\n",
        "#ラベルで指定する\n",
        "print(score['理科'])"
      ],
      "metadata": {
        "id": "4q34-1Olozef"
      },
      "execution_count": null,
      "outputs": []
    },
    {
      "cell_type": "code",
      "source": [
        "#appendメソッドでデータを追加\n",
        "import pandas as pd\n",
        "\n",
        "#ラベルはindexで指定する\n",
        "score = pd.Series([98, 88, 85, 76, 83], index=['国語','数学','理科', '社会', '英語'])\n",
        "\n",
        "jyouhou = pd.Series([95], index=[\"情報\"])\n",
        "score = score.append(jyouhou)\n",
        "\n",
        "#表示\n",
        "print(score)\n",
        "\n",
        "#添字で指定する\n",
        "print(score[5])\n",
        "\n",
        "#ラベルで指定する\n",
        "print(score['情報'])"
      ],
      "metadata": {
        "id": "c7F5SMJ650Ib"
      },
      "execution_count": null,
      "outputs": []
    },
    {
      "cell_type": "code",
      "source": [
        "#SeriesをNumPyの配列から作る\n",
        "import pandas as pd\n",
        "import numpy as np      #NumPyは数値計算をより高速に行うための拡張モジュール\n",
        "\n",
        "score = pd.Series(np.array([98, 88, 85, 76, 83]), index=np.array(['国語','数学','理科', '社会', '英語']))\n",
        "\n",
        "#表示\n",
        "print(score)\n",
        "\n",
        "#添字で指定する\n",
        "print(score[3])\n",
        "\n",
        "#ラベルで指定する\n",
        "print(score['社会'])"
      ],
      "metadata": {
        "id": "R5mODx3H4F4V"
      },
      "execution_count": null,
      "outputs": []
    },
    {
      "cell_type": "code",
      "source": [
        "#Seriesを辞書から作る\n",
        "import pandas as pd\n",
        "\n",
        "score = pd.Series({'国語':98, '数学':88, '理科':85, '社会':76, '英語':83})\n",
        "\n",
        "#表示\n",
        "print(score)\n",
        "\n",
        "#添字で指定する\n",
        "print(score[1])\n",
        "\n",
        "#ラベルで指定する\n",
        "print(score['数学'])"
      ],
      "metadata": {
        "id": "WfFMdoqbpls3"
      },
      "execution_count": null,
      "outputs": []
    },
    {
      "cell_type": "markdown",
      "source": [
        "###(3) DataFrame（二次元）\n",
        "- DataFrameはラベル付きの二次元の配列で、整数や少数、文字列など様々な型のデータを格納可能\n",
        "- 詳しくはこちら https://pandas.pydata.org/docs/reference/api/pandas.DataFrame.html"
      ],
      "metadata": {
        "id": "R_jlScVrq7KF"
      }
    },
    {
      "cell_type": "code",
      "source": [
        "#DataFrame（二次元）の作成\n",
        "import pandas as pd\n",
        "\n",
        "#表の作成\n",
        "score = pd.DataFrame([[98, 88, 85, 76, 83],[87, 76, 33, 66, 71],[76, 56, 96, 55, 49],[77, 81, 63, 79, 58]])\n",
        "\n",
        "#表示\n",
        "print(score)\n",
        "\n",
        "#Google Colabではprintを使わなくても表示が可能（こっちの方が綺麗かも）\n",
        "score"
      ],
      "metadata": {
        "id": "5Y0Skf3x1xon"
      },
      "execution_count": null,
      "outputs": []
    },
    {
      "cell_type": "code",
      "source": [
        "#任意の要素の参照\n",
        "#※任意の要素を指定するには4つのプロパティ(iat, at, iloc, loc)があります。\n",
        "#ここでは、詳しく説明しないので、このあたりを参照してください。 \n",
        "#https://qiita.com/FukuharaYohei/items/5b739a5ceb43d25aa2cd\n",
        "import pandas as pd\n",
        "\n",
        "#表の作成\n",
        "score = pd.DataFrame([[98, 88, 85, 76, 83],[87, 76, 33, 66, 71],[76, 56, 96, 55, 49],[77, 81, 63, 79, 58]])\n",
        "\n",
        "#iatプロパティで参照　添字は0から\n",
        "print(score.iat[1, 3])"
      ],
      "metadata": {
        "id": "1nZAVmFKCCpI"
      },
      "execution_count": null,
      "outputs": []
    },
    {
      "cell_type": "code",
      "source": [
        "#あとから行と列のラベルを付ける\n",
        "import pandas as pd\n",
        "\n",
        "#表の作成\n",
        "score = pd.DataFrame([[98, 88, 85, 76, 83],[87, 76, 33, 66, 71],[76, 56, 96, 55, 49],[77, 81, 63, 79, 58]])\n",
        "\n",
        "#ラベルの追加\n",
        "score.index=['福島壱郎', '秋田次郎', '山形三郎', '宮城士郎']\n",
        "score.columns=['国語','数学','理科', '社会', '英語']\n",
        "\n",
        "#表示\n",
        "score"
      ],
      "metadata": {
        "id": "6mEXovqY-HGz"
      },
      "execution_count": null,
      "outputs": []
    },
    {
      "cell_type": "code",
      "source": [
        "#作成時に行と列のラベルを付ける\n",
        "import pandas as pd\n",
        "\n",
        "#表の作成\n",
        "score = pd.DataFrame([[98, 88, 85, 76, 83],[87, 76, 33, 66, 71],[76, 56, 96, 55, 49],[77, 81, 63, 79, 58]], \n",
        "        index=['福島壱郎', '秋田次郎', '山形三郎', '宮城士郎'], \n",
        "        columns=['国語','数学','理科', '社会', '英語'])\n",
        "\n",
        "#表示\n",
        "score"
      ],
      "metadata": {
        "id": "iydRLtvstH-v"
      },
      "execution_count": null,
      "outputs": []
    },
    {
      "cell_type": "code",
      "source": [
        "#辞書からDataFrameを作成\n",
        "import pandas as pd\n",
        "\n",
        "#表の作成\n",
        "score = pd.DataFrame({\n",
        "    '福島':[98, 88, 85, 76, 83],\n",
        "    '秋田':[87, 76, 33, 66, 71],\n",
        "    '山形':[76, 56, 96, 55, 49],\n",
        "    '宮城':[77, 81, 63, 79, 58]})\n",
        "\n",
        "#ラベルの追加\n",
        "score.index=['国語','数学','理科', '社会', '英語']\n",
        "\n",
        "#表示\n",
        "score"
      ],
      "metadata": {
        "id": "XItKoRkYD7m8"
      },
      "execution_count": null,
      "outputs": []
    },
    {
      "cell_type": "code",
      "source": [
        "#キーをインデックス名に設定して辞書からDataFrameを作成\n",
        "import pandas as pd\n",
        "\n",
        "#キーをインデックス名に設定する\n",
        "score = {\n",
        "    '福島':[98, 88, 85, 76, 83],\n",
        "    '秋田':[87, 76, 33, 66, 71],\n",
        "    '山形':[76, 56, 96, 55, 49],\n",
        "    '宮城':[77, 81, 63, 79, 58]}\n",
        "\n",
        "#columnsでカラム名を設定\n",
        "score = pd.DataFrame.from_dict(score, orient=\"index\", columns=['国語','数学','理科', '社会', '英語'])\n",
        "\n",
        "#表示\n",
        "score"
      ],
      "metadata": {
        "id": "OQPTNbirIsmp"
      },
      "execution_count": null,
      "outputs": []
    },
    {
      "cell_type": "markdown",
      "source": [
        "###【練習】\n",
        "自由に表を作成して表示してみましょう。"
      ],
      "metadata": {
        "id": "Ef7PDY_BM2I3"
      }
    },
    {
      "cell_type": "code",
      "source": [
        "import pandas as pd\n",
        "\n",
        "#ここにコードを書いてください。"
      ],
      "metadata": {
        "id": "T6HqO-xsM9Yo"
      },
      "execution_count": null,
      "outputs": []
    },
    {
      "cell_type": "markdown",
      "metadata": {
        "id": "ICE2EjpBJkNL"
      },
      "source": [
        "##《Streamlitで表を表示》"
      ]
    },
    {
      "cell_type": "markdown",
      "metadata": {
        "id": "839_gcR9ztHJ"
      },
      "source": [
        "###(1) 表を表示\n",
        "- pandasで作成した表を「st.dataframe」でWeb表示できる\n",
        "- 表示した表はソートが可能"
      ]
    },
    {
      "cell_type": "code",
      "execution_count": null,
      "metadata": {
        "id": "owe8kquoJux6"
      },
      "outputs": [],
      "source": [
        "#pandasで作成した表をStreamlitで表示する\n",
        "%%writefile app.py\n",
        "import streamlit as st\n",
        "import pandas as pd\n",
        "\n",
        "st.title(\"表の表示\")\n",
        "st.header('テストの点数')\n",
        "\n",
        "#表の作成\n",
        "df = pd.DataFrame([[98, 88, 85, 76, 83],[87, 76, 33, 66, 71],[76, 56, 96, 55, 49],[77, 81, 63, 79, 58]], \n",
        "                  index=['福島壱郎', '秋田次郎', '山形三郎', '宮城士郎'], \n",
        "                  columns=['国語','数学','理科', '社会', '英語'])\n",
        "#Web表示\n",
        "st.dataframe(df)"
      ]
    },
    {
      "cell_type": "code",
      "execution_count": null,
      "metadata": {
        "id": "pZM5myN_Li4R"
      },
      "outputs": [],
      "source": [
        "#Webページで表示して確認\n",
        "!streamlit run app.py & sleep 3 && npx localtunnel --port 8501 &>/dev/null&"
      ]
    },
    {
      "cell_type": "markdown",
      "metadata": {
        "id": "GiDnBbtL1GlP"
      },
      "source": [
        "###(2) 最大値と最小値のハイライト表示\n",
        "- pandasのstyleオブジェクトのhighlight_maxで最大値を、highlight_minで最小値をハイライトできる\n",
        "- pandasのstyleオブジェクトを使用すると色々と表のカスタマイズが可能"
      ]
    },
    {
      "cell_type": "code",
      "execution_count": null,
      "metadata": {
        "id": "iyTtcGqzmTm6"
      },
      "outputs": [],
      "source": [
        "%%writefile app.py\n",
        "import streamlit as st\n",
        "import pandas as pd\n",
        "\n",
        "st.title(\"表の表示\")\n",
        "\n",
        "#表の作成\n",
        "df = pd.DataFrame([[98, 88, 85, 76, 83],[87, 76, 33, 66, 71],[76, 56, 96, 55, 49],[77, 81, 63, 79, 58]], \n",
        "                  index=['福島壱郎', '秋田次郎', '山形三郎', '宮城士郎'], \n",
        "                  columns=['国語','数学','理科', '社会', '英語'])\n",
        "\n",
        "#列単位で最大値にハイライト表示\n",
        "st.header('科目ごとの最高点の表示')\n",
        "st.dataframe(df.style.highlight_max(axis=0))\n",
        "\n",
        "#行単位で最小値にハイライト表示\n",
        "st.header('学生ごとの最低点の表示')\n",
        "st.dataframe(df.style.highlight_min(axis=1))"
      ]
    },
    {
      "cell_type": "markdown",
      "metadata": {
        "id": "s3MyLBj33Jry"
      },
      "source": [
        "###(3) st.dataframeとst.table\n",
        "- どちらも表を表示することができる\n",
        "- st.dataframe\n",
        "    - 表示される表の列単位で昇順/降順ソートができる\n",
        "    - 幅と行の高さが調整できる\n",
        "- st.table\n",
        "    - 静的に表を表示するのでソートや幅や高さの調整はできない\n",
        "    - 画面に均等に表を表示するので見栄えがいい"
      ]
    },
    {
      "cell_type": "code",
      "execution_count": null,
      "metadata": {
        "id": "ZYIjG8vks_jX"
      },
      "outputs": [],
      "source": [
        "%%writefile app.py\n",
        "import streamlit as st\n",
        "import pandas as pd\n",
        "\n",
        "st.title(\"表の表示\")\n",
        "\n",
        "#表の作成\n",
        "df = pd.DataFrame([[98, 88, 85, 76, 83],[87, 76, 33, 66, 71],[76, 56, 96, 55, 49],[77, 81, 63, 79, 58]], \n",
        "                  index=['福島壱郎', '秋田次郎', '山形三郎', '宮城士郎'], \n",
        "                  columns=['国語','数学','理科', '社会', '英語'])\n",
        "\n",
        "#st.dataframeでは動的な表示\n",
        "st.header('st.dataframeで表示')\n",
        "st.dataframe(df)\n",
        "\n",
        "#st.tableは静的な表示\n",
        "st.header('st.tableで表示')\n",
        "st.table(df)"
      ]
    },
    {
      "cell_type": "markdown",
      "metadata": {
        "id": "qz_GWn8NqtIj"
      },
      "source": [
        "###(4) CSVを表示\n",
        "- CSV(Comma-Separated Values)：項目をカンマ「,」で区切って列挙したテキストデータ\n",
        "- ここでは、フリーで使えるplotly_expressのmedals_long（2020年の上位3か国のオリンピックショートトラックスピードスケートのメダル数）のデータフレームを読み込み表示する"
      ]
    },
    {
      "cell_type": "code",
      "execution_count": null,
      "metadata": {
        "id": "g0bMyw1QrjjJ"
      },
      "outputs": [],
      "source": [
        "#plotly_expressのインストール\n",
        "!pip install plotly_express"
      ]
    },
    {
      "cell_type": "code",
      "execution_count": null,
      "metadata": {
        "id": "Z2kAdmbtt-m-"
      },
      "outputs": [],
      "source": [
        "#web表示の前に内容を確認する\n",
        "import plotly.express as px\n",
        "\n",
        "px.data.medals_long()\n"
      ]
    },
    {
      "cell_type": "code",
      "execution_count": null,
      "metadata": {
        "id": "RIee0QZirtW4"
      },
      "outputs": [],
      "source": [
        "#2020年の上位3か国のオリンピック\n",
        "#ショートトラックスピードスケートのメダル数をWeb表示\n",
        "%%writefile app.py\n",
        "import plotly.express as px\n",
        "import streamlit as st\n",
        "\n",
        "df = px.data.medals_long()\n",
        "\n",
        "st.title('CSVの表示')\n",
        "\n",
        "st.write('ショートトラックスピードスケートのメダル数')\n",
        "\n",
        "#Web表示\n",
        "st.dataframe(df)"
      ]
    },
    {
      "cell_type": "markdown",
      "metadata": {
        "id": "ppvmUqoSVGfN"
      },
      "source": [
        "###(5) CSVを保存してから読み込んで表示\n",
        "- リストをcsv形式で保存してから読み込んで表示する"
      ]
    },
    {
      "cell_type": "code",
      "execution_count": null,
      "metadata": {
        "id": "eXGNtNYkWSZ-"
      },
      "outputs": [],
      "source": [
        "#リストをcsvで保存する\n",
        "#保存した'sample.csv'は左サイドバーの「ファイル」で確認可能\n",
        "import csv\n",
        "\n",
        "#リストの作成\n",
        "data = [['氏名', '国語', '数学', '理科', '社会', '英語'],\n",
        "        ['福島壱郎', 98, 88, 85, 76, 83],\n",
        "        ['秋田次郎', 87, 76, 33, 66, 71],\n",
        "        ['山形三郎', 76, 56, 96, 55, 49],\n",
        "        ['宮城士郎', 77, 81, 63, 79, 58]]\n",
        "\n",
        "#リストをcsvファイルで保存\n",
        "fp = open('sample.csv', 'w', newline='')     #newline=''で空行が挿入されるのを防ぐ\n",
        "writer = csv.writer(fp)\n",
        "writer.writerows(data)\n",
        "fp.close()"
      ]
    },
    {
      "cell_type": "code",
      "execution_count": null,
      "metadata": {
        "id": "3OwjWc5ybuq_"
      },
      "outputs": [],
      "source": [
        "%%writefile app.py\n",
        "import pandas as pd\n",
        "import streamlit as st\n",
        "\n",
        "st.title('CSVの表示')\n",
        "\n",
        "#csvを読み込む\n",
        "df = pd.read_csv('sample.csv')\n",
        "\n",
        "#Web表示\n",
        "st.dataframe(df)"
      ]
    },
    {
      "cell_type": "markdown",
      "metadata": {
        "id": "FGadDGihUGvi"
      },
      "source": [
        "###【練習】\n",
        "自由に表を作成して表示してみましょう。"
      ]
    },
    {
      "cell_type": "code",
      "source": [
        "%%writefile app.py\n",
        "import pandas as pd\n",
        "import streamlit as st\n",
        "\n",
        "#ここにコードを書いてください。"
      ],
      "metadata": {
        "id": "vyXYTXXHMi_4"
      },
      "execution_count": null,
      "outputs": []
    },
    {
      "cell_type": "markdown",
      "metadata": {
        "id": "PP4jXMhYfRdl"
      },
      "source": [
        "##《グラフの表示》\n",
        "- 折れ線グラフや棒グラフの他に面グラフなども表示可能\n",
        "- 詳しくはこちら https://docs.streamlit.io/library/api-reference/charts"
      ]
    },
    {
      "cell_type": "markdown",
      "metadata": {
        "id": "f1p_MISggIt-"
      },
      "source": [
        "###(1) 折れ線グラフの描画\n",
        "- st.line_chartで表示する\n",
        "- 詳しくはこちら https://docs.streamlit.io/library/api-reference/charts/st.line_chart"
      ]
    },
    {
      "cell_type": "code",
      "execution_count": null,
      "metadata": {
        "id": "cN-_M_SKgC3M"
      },
      "outputs": [],
      "source": [
        "#DataFrameを折れ線グラフで表示する\n",
        "%%writefile app.py\n",
        "import streamlit as st\n",
        "import pandas as pd\n",
        "\n",
        "st.title('折れ線グラフの描画')\n",
        "\n",
        "df = pd.DataFrame([[98, 88, 85, 76, 83],[87, 76, 33, 66, 71],[76, 56, 96, 55, 49],[77, 81, 63, 79, 58]], \n",
        "                  index=['01福島壱郎', '02秋田次郎', '03山形三郎', '04宮城士郎'], \n",
        "                  columns=['国語','数学','理科', '社会', '英語'])\n",
        "st.line_chart(df)\n",
        "\n",
        "#※indexで昇順に並べられてしまうようなので、先頭に数字を入れました"
      ]
    },
    {
      "cell_type": "markdown",
      "metadata": {
        "id": "P7KLTPefhtuq"
      },
      "source": [
        "###(2) 棒グラフの描画\n",
        "- st.bar_chartで表示する\n",
        "- 詳しくはこちら https://docs.streamlit.io/library/api-reference/charts/st.bar_chart"
      ]
    },
    {
      "cell_type": "code",
      "execution_count": null,
      "metadata": {
        "id": "b8EvugLMhxvq"
      },
      "outputs": [],
      "source": [
        "#CSVファイルの内容を棒グラフで表示する\n",
        "%%writefile app.py\n",
        "import streamlit as st\n",
        "import pandas as pd\n",
        "\n",
        "st.title('新型コロナ月別全国感染者数')\n",
        "st.subheader('2020/2/1 ～ 2022/5/31')\n",
        "\n",
        "#csvを読み込む\n",
        "#※ここからファイルをダウンロードしてGoogle Colabに保存してください。\n",
        "#https://raw.githubusercontent.com/tomato-sugar/python_lesson/main/streamlit_basic/coronas_month.csv\n",
        "data = pd.read_csv('coronas_month.csv', index_col='month')\n",
        "\n",
        "#棒グラフを表示\n",
        "st.bar_chart(data)"
      ]
    },
    {
      "cell_type": "markdown",
      "source": [
        "###【練習】\n",
        "自由にグラフを作成して表示してみましょう。"
      ],
      "metadata": {
        "id": "hzQGH1AJDfOg"
      }
    },
    {
      "cell_type": "code",
      "source": [
        "%%writefile app.py\n",
        "import pandas as pd\n",
        "import streamlit as st\n",
        "\n",
        "#ここにコードを書いてください。"
      ],
      "metadata": {
        "id": "ktS9smqdDjtO"
      },
      "execution_count": null,
      "outputs": []
    },
    {
      "cell_type": "markdown",
      "source": [
        "##《地図の表示》\n",
        "- mapメソッドで地図を表示することができる（何故だか日本語と英語交じり）\n",
        "- 詳しくはこちら https://docs.streamlit.io/library/api-reference/charts/st.map"
      ],
      "metadata": {
        "id": "CZOqcHtKolgC"
      }
    },
    {
      "cell_type": "code",
      "source": [
        "#郡山市の公園の場所を表示する\n",
        "%%writefile app.py\n",
        "import streamlit as st\n",
        "import pandas as pd\n",
        "\n",
        "koriyama_park_map = pd.DataFrame([\n",
        "    [37.39831110371954, 140.3582087539397],     #開成山公園\n",
        "    [37.394554798007995, 140.37537284044674],   #麓山公園\n",
        "    [37.379962912949765, 140.36247758010634],   #五百淵公園\n",
        "    [37.39635693016198, 140.30427038489796],    #大槻公園\n",
        "    [37.38769774641979, 140.27952301723784],    #浄土松公園\n",
        "    [37.386887219849406, 140.43720718848752],   #緑ヶ丘公園\n",
        "    [37.39139807978859, 140.36862188462482],    #酒蓋公園\n",
        "    [37.39643647458341, 140.37472309811798],    #21世紀記念公園 麓山の杜\n",
        "    [37.43358662124168, 140.39575324044742],    #平成記念郡山こどものもり公園\n",
        "    [37.35636399837369, 140.40343061345976],    #大安場史跡公園\n",
        "    [37.44526712186669, 140.31098447668148]     #待池公園\n",
        "    ],\n",
        "    columns=['lat', 'lon']\n",
        ")\n",
        "\n",
        "st.title('地図の表示')\n",
        "st.header('郡山市の公園')\n",
        "\n",
        "#地図の表示\n",
        "st.map(koriyama_park_map)"
      ],
      "metadata": {
        "id": "hgXMiGWgotEq"
      },
      "execution_count": null,
      "outputs": []
    },
    {
      "cell_type": "markdown",
      "source": [
        "###【練習】\n",
        "自由に地図を作成して表示してみましょう。"
      ],
      "metadata": {
        "id": "w0tXZ6CMPYpv"
      }
    },
    {
      "cell_type": "code",
      "source": [
        "%%writefile app.py\n",
        "import pandas as pd\n",
        "import streamlit as st\n",
        "\n",
        "#ここにコードを書いてください。"
      ],
      "metadata": {
        "id": "oycKaRQePdst"
      },
      "execution_count": null,
      "outputs": []
    },
    {
      "cell_type": "markdown",
      "source": [
        "##《最後に》\n",
        "これで、2022年 東北TECH道場 郡山道場 第7期「Streamlitを用いたWebアプリ制作入門」の講座は終わりになります。最後までお疲れ様でした。Streamlit、最初に知ったときには、こんなに手軽にWebアプリが作れてしまうなんて驚きでした。機会がありましたら、活用編も作ってみたいと思っています。それから、公式サイトのリファレンスとチートシートのページも紹介しておきます。今回の入門編で取り上げた以外の内容も解説されているので、ぜひ確認してみてください。\n",
        "- 公式サイト APIリファレンス  \n",
        "https://docs.streamlit.io/library/api-reference\n",
        "- 公式サイト チートシート（早見表）  \n",
        "https://docs.streamlit.io/library/cheatsheet"
      ],
      "metadata": {
        "id": "DBun_5KB-Gfi"
      }
    }
  ],
  "metadata": {
    "colab": {
      "collapsed_sections": [],
      "name": "streamlit_basic3.ipynb",
      "provenance": [],
      "toc_visible": true,
      "authorship_tag": "ABX9TyMIGsnn8hvjOEv6TKRwBapN",
      "include_colab_link": true
    },
    "kernelspec": {
      "display_name": "Python 3",
      "name": "python3"
    },
    "language_info": {
      "name": "python"
    }
  },
  "nbformat": 4,
  "nbformat_minor": 0
}