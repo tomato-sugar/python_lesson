{
  "cells": [
    {
      "cell_type": "markdown",
      "metadata": {
        "id": "view-in-github",
        "colab_type": "text"
      },
      "source": [
        "<a href=\"https://colab.research.google.com/github/tomato-sugar/python_lesson/blob/main/streamlit/streamlit_basic1.ipynb\" target=\"_parent\"><img src=\"https://colab.research.google.com/assets/colab-badge.svg\" alt=\"Open In Colab\"/></a>"
      ]
    },
    {
      "cell_type": "markdown",
      "metadata": {
        "id": "Q64uF7YntS26"
      },
      "source": [
        "#2022年 東北TECH道場 郡山道場 第7期"
      ]
    },
    {
      "cell_type": "markdown",
      "metadata": {
        "id": "Ul0Hk-s5suvG"
      },
      "source": [
        "##Streamlitを用いたWebアプリ制作入門（１）"
      ]
    },
    {
      "cell_type": "markdown",
      "metadata": {
        "id": "M8Acipdu1Lrj"
      },
      "source": [
        "##《このセクションで学ぶこと》\n",
        "- Streamlitとは何かについて簡単に説明します。\n",
        "- Streamlitを用いたWebアプリ制作手順を学びます。\n",
        "- アプリの実行は、「localtunnel」を使用するのでその使い方を学びます。\n",
        "- Streamlitで文字列、画像、マークダウンを表示する方法を学びます。"
      ]
    },
    {
      "cell_type": "markdown",
      "metadata": {
        "id": "wq0GVLd0NWG_"
      },
      "source": [
        "##《Webフレームワークとは》\n",
        "StreamlitはPythonのWebフレームワークの１つ\n",
        "- フレームワーク  \n",
        "    - 枠組みを意味し、ソフトウェア開発の土台となるプログラム部品のこと  \n",
        "    - フレームワークを用いることで統一的なシステムが効率的に開発可能\n",
        "- Webフレームワーク\n",
        "    - 動的なWebサイト、Webアプリケーション、Webサービスの開発をサポートするために設計されたフレームワーク\n",
        "- Pythonの代表的なWebフレームワーク  \n",
        "    - diango … フルスタックフレームワーク、大規模開発向き\n",
        "    - Flask … マイクロフレームワーク、手軽に利用できる\n",
        "    - FastAPI … マイクロフレームワーク、最近台頭、直感的に記述\n",
        "    - Dash … マイクロフレームワーク、データ可視化に特化\n",
        "    - Streamlit … Pythonでフロントエンドを簡単に構築可能  \n",
        "    など"
      ]
    },
    {
      "cell_type": "markdown",
      "metadata": {
        "id": "OZY_RBw45q25"
      },
      "source": [
        "##《Streamlitとは》\n",
        "- Streamlit社が開発したWebアプリケーションのフレームワーク\n",
        "- データ分析やAI処理などのコードを簡単にWebアプリケーションで公開可能\n",
        "- Pythonのコードを書くだけで、HTMLやCSSを書く必要がない\n",
        "- Streamlit Cloudにより、アプリを公開することができる  \n",
        "※ 今回はlocaltunnelで実行を確認するので、Streamlit Cloudの解説はしません\n",
        "- その他、洗練されたデザインや手軽さから人気沸騰中\n",
        "  \n",
        "※ 公式サイトはこちら。https://streamlit.io/  \n",
        " 「Gallery」では、多くのサンプルが閲覧できるので、ぜひ覗いてみましょう。  "
      ]
    },
    {
      "cell_type": "markdown",
      "metadata": {
        "id": "UwH96YD6EpSn"
      },
      "source": [
        "##《Streamlitの実行手順》"
      ]
    },
    {
      "cell_type": "markdown",
      "metadata": {
        "id": "rvU6wTInshgk"
      },
      "source": [
        "###(1) pipでstreamlitをインストールする\n",
        "- pipコマンドを用いてstreamlitをインストールする  \n",
        "  ※ Google Colabでコマンドラインスクリプトを実行するには、行の前に「!」を追加します。  \n",
        "  ※ ですから、Pythonパッケージをインストールするには「!pip install」と記述します。  \n",
        "  ※ **エラーが発生する場合は、「ランタイム」→「ランタイムを再起動」によりランタイムを起動し再度実行してください。**"
      ]
    },
    {
      "cell_type": "code",
      "execution_count": null,
      "metadata": {
        "id": "AmLieKuqsMlE"
      },
      "outputs": [],
      "source": [
        "!pip install streamlit"
      ]
    },
    {
      "cell_type": "markdown",
      "metadata": {
        "id": "GBpUOz5euBnx"
      },
      "source": [
        "###(2)「Hello World !」を表示する\n",
        "- 以下のコードで「Hello World!」を表示するWebアプリが作成できる  \n",
        "    - 「%%writefile ファイルのパス」で、以降のすべての行が、改行を維持したままファイルのパスへ保存される\n",
        "    - 作成した「app.py」は、左サイドバーのフォルダマークをクリックすると確認することができる"
      ]
    },
    {
      "cell_type": "code",
      "execution_count": null,
      "metadata": {
        "id": "XrPc5EMZuImi"
      },
      "outputs": [],
      "source": [
        "#Streamlitメインの処理を/content/app.pyに保存\n",
        "%%writefile app.py          \n",
        "import streamlit as st      #streamlitを読み込み「st」という名前で使えるようにする\n",
        "\n",
        "st.title('Hello World !')   #タイトルで「Hello World!」と表示する"
      ]
    },
    {
      "cell_type": "markdown",
      "metadata": {
        "id": "wDAjqpIRugS6"
      },
      "source": [
        "### (3) localtunnelで起動して確認\n",
        "- localtunnelはローカルで実行中のアプリを外部公開するサービス  \n",
        "- 「https://????????????.loca.lt」をクリックすると、作成したwebアプリの確認ができる  \n",
        "※ このURLを知っている人は誰でも閲覧可能なので、**個人情報は出さない**でください  \n",
        "※ 「Click to Contine」をクリックしてください。ページが表示されるのに少々時間がかかります  \n",
        "※ 実行を止めると、閲覧はできなくなるので、再度確認する場合には、再実行してください\n",
        "- 表示ページの右上の「≡」から「Setting」を選ぶと、「Wide mode」と「Theme」を変更することが可能  \n",
        "※「Run on save」を選んでチェックを入れると、コードを変えたら自動でRerunしてくれる"
      ]
    },
    {
      "cell_type": "code",
      "execution_count": null,
      "metadata": {
        "id": "hX6dlX3eumFJ"
      },
      "outputs": [],
      "source": [
        "#Webページで表示して確認\n",
        "!streamlit run app.py & sleep 3 && npx localtunnel --port 8501 &>/dev/null&\n",
        "# 「&>/dev/null&」により、出力を非表示にしてバックグランドジョブとして実行"
      ]
    },
    {
      "cell_type": "markdown",
      "metadata": {
        "id": "_c6sBsyDwsfp"
      },
      "source": [
        "【参考サイト】  \n",
        "「Google ColaboratoryでサクっとStreamlit（最小構成）」  \n",
        "https://qiita.com/gudapys/items/62eda02bdb3de5530a23\n",
        "\n",
        "※ Streamlitの公開には「Streamlit sharing」というサービスが用意されていますが、Githubと連携するなど手間がかかるので今回は使用しません。興味のある方は以下のサイトなどを参考にしてください。  \n",
        "「Streamlit sharingを使ってWebアプリを公開する方法」  \n",
        "https://masa-engineer-blog.com/deploy-app-with-streamlit-sharing/  "
      ]
    },
    {
      "cell_type": "markdown",
      "source": [
        "###(4) その後の進め方\n",
        "以下の内容を順番に実行してください。  \n",
        "このとき、Streamlitの表示画面で「≡」から「Settings」を選び、「 Run on save」にチェックを入れておくと、「app.py」を「%%writefile app.py」するだけで再表示できます。"
      ],
      "metadata": {
        "id": "hIASCWCle1_q"
      }
    },
    {
      "cell_type": "markdown",
      "metadata": {
        "id": "LQ0l80_G4NeH"
      },
      "source": [
        "###【練習】\n",
        "Streamlitを用いて好きな文字列をブラウザに表示してみましょう。"
      ]
    },
    {
      "cell_type": "code",
      "execution_count": null,
      "metadata": {
        "id": "OV9KA92h3lCH"
      },
      "outputs": [],
      "source": [
        "%%writefile app.py\n",
        "import streamlit as st\n",
        "\n",
        "#ここにコードを書いてください。"
      ]
    },
    {
      "cell_type": "markdown",
      "metadata": {
        "id": "fG9EbhRikMFI"
      },
      "source": [
        "##《いろいろな形式で文字列を表示》\n",
        "- Streamlitでは、タイトルやヘッダーなど、いろいろな形式で文字列を表示することができる"
      ]
    },
    {
      "cell_type": "code",
      "execution_count": null,
      "metadata": {
        "id": "jRvMJg5ikS0h"
      },
      "outputs": [],
      "source": [
        "%%writefile app.py          \n",
        "import streamlit as st\n",
        "\n",
        "st.title('タイトル')\n",
        "\n",
        "st.header('ヘッダー')\n",
        "\n",
        "st.text('テキスト')\n",
        "\n",
        "st.subheader('サブレベルヘッダー')\n",
        "\n",
        "st.error('エラーメッセージ')\n",
        "\n",
        "st.warning('警告メッセージ')\n",
        "\n",
        "st.info('情報メッセージ')\n",
        "\n",
        "st.success('成功メッセージ')\n",
        "\n",
        "st.exception(Exception('例外の出力!'))\n"
      ]
    },
    {
      "cell_type": "markdown",
      "source": [
        "###【練習】\n",
        "Streamlitを用いて好きな形式で文字列をブラウザに表示してみましょう。"
      ],
      "metadata": {
        "id": "F8SDlcBYkRfG"
      }
    },
    {
      "cell_type": "code",
      "source": [
        "%%writefile app.py\n",
        "import streamlit as st\n",
        "\n",
        "#ここにコードを書いてください。"
      ],
      "metadata": {
        "id": "Dms9MxU6kUFM"
      },
      "execution_count": null,
      "outputs": []
    },
    {
      "cell_type": "markdown",
      "metadata": {
        "id": "JAdRuW2uUTT8"
      },
      "source": [
        "##《画像の表示》\n",
        "- 画像を表示するにはimageメソッドを使用する\n",
        "- use_column_widthがFalseの場合は、画像の幅を自然なサイズに設定、Trueの場合は、画像の幅を列の幅に設定\n",
        "- 詳しくはこちら https://docs.streamlit.io/library/api-reference/media/st.image"
      ]
    },
    {
      "cell_type": "markdown",
      "metadata": {
        "id": "0deVRulie96E"
      },
      "source": [
        "**※ 左サイドバーで「ファイル」を選択し、「セッションストレージにアップロード」ボタンを使って'sample.png'という名前で画像をアップロードしてから実行してください。**"
      ]
    },
    {
      "cell_type": "code",
      "execution_count": null,
      "metadata": {
        "id": "fR1Q-lWEads-"
      },
      "outputs": [],
      "source": [
        "%%writefile app.py          \n",
        "import streamlit as st\n",
        "from PIL import Image   #Pythonの画像処理ライブラリ\n",
        "\n",
        "st.title('画像の表示')\n",
        "\n",
        "st.header('直リンクで画像を表示')   #※使用が許可されているもののみ利用すること\n",
        "st.image(\"https://static.streamlit.io/examples/cat.jpg\", use_column_width=True)\n",
        "\n",
        "st.header('自サイトの画像を表示')\n",
        "img = Image.open('sample.png')\n",
        "st.image(img, caption='サンプル画像', use_column_width=False)\n",
        "\n",
        "st.header('横幅を200ピクセルに指定して表示')\n",
        "st.image(img, caption='サンプル画像', width=200)"
      ]
    },
    {
      "cell_type": "markdown",
      "source": [
        "###【練習】\n",
        "Streamlitを用いて好きな画像をブラウザに表示してみましょう。 "
      ],
      "metadata": {
        "id": "ItWO2faYlKQd"
      }
    },
    {
      "cell_type": "code",
      "source": [
        "%%writefile app.py\n",
        "import streamlit as st\n",
        "\n",
        "#ここにコードを書いてください。"
      ],
      "metadata": {
        "id": "AJBz_sKzlSFA"
      },
      "execution_count": null,
      "outputs": []
    },
    {
      "cell_type": "markdown",
      "metadata": {
        "id": "eDBZ6Gi06yZq"
      },
      "source": [
        "##《マークダウンの表示》\n",
        "- マークダウン（Markdown）：文書の構造や修飾情報を記述するマークアップ言語の一つ  \n",
        "※ 詳しくは以下あたりを参考にしてください。  \n",
        "  「Markdown記法/書き方」https://notepm.jp/help/how-to-markdown  \n",
        "※ ちなみに、このテキストもマークダウン記法で書いています。\n",
        "- 文字列リテラル、またはst.markdown(...)で記述する"
      ]
    },
    {
      "cell_type": "markdown",
      "metadata": {
        "id": "SX1QIi7r7P_K"
      },
      "source": [
        "###(1) 見出しの表示"
      ]
    },
    {
      "cell_type": "code",
      "execution_count": null,
      "metadata": {
        "id": "2dBrN1Hu9D6p"
      },
      "outputs": [],
      "source": [
        "%%writefile app.py          \n",
        "import streamlit as st\n",
        "\n",
        "st.title('マークダウン')\n",
        "\n",
        "#markdownメソッドで書く方法\n",
        "st.header('markdownメソッドで見出しを書く')\n",
        "st.markdown('# 見出し1です')\n",
        "st.markdown('## 見出し2です')\n",
        "\n",
        "#文字列リテラルで書く方法\n",
        "st.header('文字列リテラルで見出しを書く')\n",
        "\"\"\"\n",
        "### 見出し3です\n",
        "#### 見出し4です\n",
        "\"\"\""
      ]
    },
    {
      "cell_type": "markdown",
      "metadata": {
        "id": "NiIbTUyt-Yrq"
      },
      "source": [
        "###(2) 太字・斜体・訂正線"
      ]
    },
    {
      "cell_type": "code",
      "execution_count": null,
      "metadata": {
        "id": "zlws5CGE-fUv"
      },
      "outputs": [],
      "source": [
        "%%writefile app.py          \n",
        "import streamlit as st\n",
        "\n",
        "st.title('マークダウン')\n",
        "st.header('太字・斜体・訂正線の確認')\n",
        "\n",
        "\"\"\"\n",
        "これは **太字** です。  \n",
        "これは *斜体* です。  \n",
        "これは ~~訂正線~~です。\n",
        "\"\"\""
      ]
    },
    {
      "cell_type": "markdown",
      "metadata": {
        "id": "O2U-gus7_r53"
      },
      "source": [
        "###(3) 箇条書き"
      ]
    },
    {
      "cell_type": "code",
      "execution_count": null,
      "metadata": {
        "id": "bHnYdjQu_7zP"
      },
      "outputs": [],
      "source": [
        "%%writefile app.py          \n",
        "import streamlit as st\n",
        "\n",
        "st.title('マークダウン')\n",
        "st.header('リストの確認')\n",
        "\n",
        "st.write('先頭に「-」を書く')\n",
        "st.markdown('- リスト1です。')\n",
        "st.markdown('- リスト2です。')\n",
        "st.markdown('- リスト3です。')\n",
        "\n",
        "st.write('「*」でもOK')\n",
        "st.markdown('* リスト1です。')\n",
        "st.markdown('* リスト2です。')\n",
        "st.markdown('* リスト3です。')"
      ]
    },
    {
      "cell_type": "markdown",
      "metadata": {
        "id": "sfFzYww578dg"
      },
      "source": [
        "###(4) その他のマークダウン\n",
        "- テーブル、水平線、プログラムコードなども表示することが可能"
      ]
    },
    {
      "cell_type": "code",
      "execution_count": null,
      "metadata": {
        "id": "irI00UzT8T6N"
      },
      "outputs": [],
      "source": [
        "%%writefile app.py          \n",
        "import streamlit as st\n",
        "\n",
        "st.title('マークダウン')\n",
        "\n",
        "\n",
        "st.header('水平線')\n",
        "st.markdown('***')\n",
        "\n",
        "st.header('テーブル')\n",
        "\"\"\"\n",
        "|  TH  |  TH  |\n",
        "| ---- | ---- |\n",
        "|  TD  |  TD  |\n",
        "|  TD  |  TD  |\n",
        "\n",
        "***\n",
        "\"\"\"\n",
        "\n",
        "\n",
        "st.header('簡単な数式')\n",
        "#複雑な数式は下で紹介するlatexメソッドでないと表示しませんでした\n",
        "\"\"\"\n",
        "$$y = 2x$$\n",
        "\n",
        "***\n",
        "\"\"\"\n",
        "\n",
        "st.header('プログラムコード')\n",
        "\"\"\"\n",
        "```python\n",
        "#60点以上は合格\n",
        "ten = 70\n",
        "if ten >= 60:\n",
        "    print(\"合格\")\n",
        "```\n",
        "\n",
        "***\n",
        "\"\"\"\n",
        "\n",
        "#LaTeX テキストで数式を記述\n",
        "st.write('  \\n')\n",
        "st.header('LaTeX テキストで数式を記述')\n",
        "#「\\」をlatexのコードとして認識させるためには「r」を付けてraw文字列にする\n",
        "st.latex(r'\\bar{X} = \\frac{1}{N} \\sum_{n=1}^{N} x_i')\n",
        "st.latex(r'( \\frac{x}{z} )^{2} + \\left( \\frac{y}{z} \\right)^{2} = 1 ')\n",
        "st.latex(r'E  = \\frac{1}{2}\\sum_{j=1}^m \\Bigl(\\sum_{k=0}^n a_kx_j^k - t_j\\Bigr)^2')  # 「r」を付けてraw文字列に"
      ]
    },
    {
      "cell_type": "markdown",
      "metadata": {
        "id": "XzfCPkNcLwEB"
      },
      "source": [
        "###【練習】\n",
        "マークダウンを使ってブラウザに何か表示してみましょう。"
      ]
    },
    {
      "cell_type": "code",
      "execution_count": null,
      "metadata": {
        "id": "FGn8GBZV6ZCV"
      },
      "outputs": [],
      "source": [
        "%%writefile app.py\n",
        "import streamlit as st\n",
        "\n",
        "#ここにコードを書いてください。"
      ]
    }
  ],
  "metadata": {
    "colab": {
      "collapsed_sections": [],
      "name": "streamlit_basic1.ipynb",
      "provenance": [],
      "toc_visible": true,
      "authorship_tag": "ABX9TyOm2Bz1e7Y3oZngo1f0Ec5Y",
      "include_colab_link": true
    },
    "kernelspec": {
      "display_name": "Python 3",
      "name": "python3"
    },
    "language_info": {
      "name": "python"
    }
  },
  "nbformat": 4,
  "nbformat_minor": 0
}